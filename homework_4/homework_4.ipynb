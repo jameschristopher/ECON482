{
 "cells": [
  {
   "cell_type": "code",
   "execution_count": 1,
   "metadata": {
    "collapsed": false
   },
   "outputs": [
    {
     "data": {
      "text/html": [
       "<script>jQuery(function() {if (jQuery(\"body.notebook_app\").length == 0) { jQuery(\".input_area\").toggle(); jQuery(\".prompt\").toggle();}});</script>"
      ]
     },
     "metadata": {},
     "output_type": "display_data"
    },
    {
     "data": {
      "text/html": [
       "<button onclick=\"jQuery('.input_area').toggle(); jQuery('.prompt').toggle();\">Toggle code</button>"
      ]
     },
     "metadata": {},
     "output_type": "display_data"
    }
   ],
   "source": [
    "from IPython.display import display\n",
    "from IPython.display import HTML\n",
    "import IPython.core.display as di # Example: di.display_html('<h3>%s:</h3>' % str, raw=True)\n",
    "\n",
    "# This line will hide code by default when the notebook is exported as HTML\n",
    "di.display_html('<script>jQuery(function() {if (jQuery(\"body.notebook_app\").length == 0) { jQuery(\".input_area\").toggle(); jQuery(\".prompt\").toggle();}});</script>', raw=True)\n",
    "\n",
    "# This line will add a button to toggle visibility of code blocks, for use with the HTML export version\n",
    "di.display_html('''<button onclick=\"jQuery('.input_area').toggle(); jQuery('.prompt').toggle();\">Toggle code</button>''', raw=True)"
   ]
  },
  {
   "cell_type": "code",
   "execution_count": 2,
   "metadata": {
    "collapsed": true
   },
   "outputs": [],
   "source": [
    "import numpy as np\n",
    "from scipy import stats\n",
    "import statsmodels\n",
    "import statsmodels.api as sm\n",
    "from matplotlib import pyplot as plt\n",
    "%matplotlib inline\n",
    "import pandas as pd"
   ]
  },
  {
   "cell_type": "markdown",
   "metadata": {},
   "source": [
    "# Chapter 4"
   ]
  },
  {
   "cell_type": "markdown",
   "metadata": {},
   "source": [
    "## 3\n",
    "\n",
    "### i\n",
    "You can interpret this coefficient such that a 1% increase in sales is equivalent to a .321 increase in R&D as a percentage of sales.\n",
    "\n",
    "### ii"
   ]
  },
  {
   "cell_type": "code",
   "execution_count": 122,
   "metadata": {
    "collapsed": true
   },
   "outputs": [],
   "source": [
    "def t_stat(coefficient, se, null):\n",
    "    return (coefficient - null) / se"
   ]
  },
  {
   "cell_type": "code",
   "execution_count": 123,
   "metadata": {
    "collapsed": false
   },
   "outputs": [
    {
     "data": {
      "text/plain": [
       "1.4861111111111112"
      ]
     },
     "execution_count": 123,
     "metadata": {},
     "output_type": "execute_result"
    }
   ],
   "source": [
    "t_stat(.321, .216, 0)"
   ]
  },
  {
   "cell_type": "markdown",
   "metadata": {},
   "source": [
    "Since the t-value is greater than 2.045 (the critical t value for a model with 60 dof), we cannot reject the null that R&D intensity does not change with sales.\n",
    "### iii\n",
    "\n",
    "It might be economically large even though it has a large standard error n may not be statistically significant.\n",
    "\n",
    "### iv"
   ]
  },
  {
   "cell_type": "code",
   "execution_count": 124,
   "metadata": {
    "collapsed": false
   },
   "outputs": [
    {
     "data": {
      "text/plain": [
       "1.0869565217391306"
      ]
     },
     "execution_count": 124,
     "metadata": {},
     "output_type": "execute_result"
    }
   ],
   "source": [
    "t_stat(.050, .046, 0)"
   ]
  },
  {
   "cell_type": "markdown",
   "metadata": {},
   "source": [
    "Since critical t value for a two-sided 5% test is 1.96, we cannot reject the null that R&D intensity does not change with profit margin.\n"
   ]
  },
  {
   "cell_type": "markdown",
   "metadata": {},
   "source": [
    "## 4\n",
    "\n",
    "### i\n",
    "$$H_0: \\beta_{pctstu} = 0$$\n",
    "$$H_a: \\beta_{pctstu} \\neq 0$$\n",
    "\n",
    "### ii\n",
    "I expect both coefficients to be positive.\n",
    "\n",
    "### iii\n",
    "They are not adjusting correctly for the fact that this is a log-log model.\n",
    "\n",
    "### iv\n"
   ]
  },
  {
   "cell_type": "code",
   "execution_count": 126,
   "metadata": {
    "collapsed": false
   },
   "outputs": [
    {
     "data": {
      "text/plain": [
       "3.294117647058824"
      ]
     },
     "execution_count": 126,
     "metadata": {},
     "output_type": "execute_result"
    }
   ],
   "source": [
    "t_stat(.0056, .0017, 0)"
   ]
  },
  {
   "cell_type": "markdown",
   "metadata": {},
   "source": [
    "Since the t-value is greater than 2.66 (the critical t value for a model with 60 dof), we can say that the factor is significant."
   ]
  },
  {
   "cell_type": "markdown",
   "metadata": {},
   "source": [
    "## 10\n",
    "\n",
    "### i"
   ]
  },
  {
   "cell_type": "code",
   "execution_count": 127,
   "metadata": {
    "collapsed": false
   },
   "outputs": [
    {
     "data": {
      "text/plain": [
       "(1.5970149253731343,\n",
       " 0.5512820512820512,\n",
       " -1.0851063829787235,\n",
       " 1.5909090909090908)"
      ]
     },
     "execution_count": 127,
     "metadata": {},
     "output_type": "execute_result"
    }
   ],
   "source": [
    "t_stat(.321, .201, 0), t_stat(.043, .078, 0), t_stat(-.0051, .0047, 0), t_stat(.0035, .0022, 0)"
   ]
  },
  {
   "cell_type": "markdown",
   "metadata": {},
   "source": [
    "None of the above factors have t-values greater than 1.960, so we can conclude that none are significant."
   ]
  },
  {
   "cell_type": "markdown",
   "metadata": {},
   "source": [
    "### ii"
   ]
  },
  {
   "cell_type": "code",
   "execution_count": 128,
   "metadata": {
    "collapsed": false
   },
   "outputs": [
    {
     "data": {
      "text/plain": [
       "(1.6108374384236452, 0.8625, -1.3982300884955752, 1.1473851030110935)"
      ]
     },
     "execution_count": 128,
     "metadata": {},
     "output_type": "execute_result"
    }
   ],
   "source": [
    "t_stat(.327, .203, 0), t_stat(.069, .080, 0), t_stat(-4.74, 3.39, 0), t_stat(7.24, 6.31, 0)"
   ]
  },
  {
   "cell_type": "markdown",
   "metadata": {},
   "source": [
    "My conclusions do not change.\n",
    "\n",
    "### iii\n",
    "\n",
    "No, that would not be possible because of firms with negative earnings, furthermore it would not be prudent to exclude them from the model either.\n",
    "\n",
    "### iv\n",
    "The evidence among these factors is weak."
   ]
  },
  {
   "cell_type": "markdown",
   "metadata": {},
   "source": [
    "## C1\n",
    "\n",
    "### i\n",
    "\n",
    "There is a $\\beta_1$ change in $voteA$ for each percent change in $expendA$.\n",
    "\n",
    "### ii\n",
    "\n",
    "$H_0: \\beta_1 = \\beta_2$\n",
    "\n",
    "### iii"
   ]
  },
  {
   "cell_type": "code",
   "execution_count": 85,
   "metadata": {
    "collapsed": false
   },
   "outputs": [],
   "source": [
    "vote_data = pd.read_stata('VOTE1.DTA')"
   ]
  },
  {
   "cell_type": "code",
   "execution_count": 86,
   "metadata": {
    "collapsed": false
   },
   "outputs": [
    {
     "data": {
      "text/html": [
       "<div>\n",
       "<table border=\"1\" class=\"dataframe\">\n",
       "  <thead>\n",
       "    <tr style=\"text-align: right;\">\n",
       "      <th></th>\n",
       "      <th>state</th>\n",
       "      <th>district</th>\n",
       "      <th>democA</th>\n",
       "      <th>voteA</th>\n",
       "      <th>expendA</th>\n",
       "      <th>expendB</th>\n",
       "      <th>prtystrA</th>\n",
       "      <th>lexpendA</th>\n",
       "      <th>lexpendB</th>\n",
       "      <th>shareA</th>\n",
       "    </tr>\n",
       "  </thead>\n",
       "  <tbody>\n",
       "    <tr>\n",
       "      <th>0</th>\n",
       "      <td>AL</td>\n",
       "      <td>7</td>\n",
       "      <td>1</td>\n",
       "      <td>68</td>\n",
       "      <td>328.295990</td>\n",
       "      <td>8.737000</td>\n",
       "      <td>41</td>\n",
       "      <td>5.793916</td>\n",
       "      <td>2.167567</td>\n",
       "      <td>97.407669</td>\n",
       "    </tr>\n",
       "    <tr>\n",
       "      <th>1</th>\n",
       "      <td>AK</td>\n",
       "      <td>1</td>\n",
       "      <td>0</td>\n",
       "      <td>62</td>\n",
       "      <td>626.377014</td>\n",
       "      <td>402.476990</td>\n",
       "      <td>60</td>\n",
       "      <td>6.439952</td>\n",
       "      <td>5.997638</td>\n",
       "      <td>60.881039</td>\n",
       "    </tr>\n",
       "    <tr>\n",
       "      <th>2</th>\n",
       "      <td>AZ</td>\n",
       "      <td>2</td>\n",
       "      <td>1</td>\n",
       "      <td>73</td>\n",
       "      <td>99.607002</td>\n",
       "      <td>3.065000</td>\n",
       "      <td>55</td>\n",
       "      <td>4.601233</td>\n",
       "      <td>1.120048</td>\n",
       "      <td>97.014763</td>\n",
       "    </tr>\n",
       "    <tr>\n",
       "      <th>3</th>\n",
       "      <td>AZ</td>\n",
       "      <td>3</td>\n",
       "      <td>0</td>\n",
       "      <td>69</td>\n",
       "      <td>319.690002</td>\n",
       "      <td>26.281000</td>\n",
       "      <td>64</td>\n",
       "      <td>5.767352</td>\n",
       "      <td>3.268846</td>\n",
       "      <td>92.403702</td>\n",
       "    </tr>\n",
       "    <tr>\n",
       "      <th>4</th>\n",
       "      <td>AR</td>\n",
       "      <td>3</td>\n",
       "      <td>0</td>\n",
       "      <td>75</td>\n",
       "      <td>159.220993</td>\n",
       "      <td>60.054001</td>\n",
       "      <td>66</td>\n",
       "      <td>5.070293</td>\n",
       "      <td>4.095244</td>\n",
       "      <td>72.612473</td>\n",
       "    </tr>\n",
       "  </tbody>\n",
       "</table>\n",
       "</div>"
      ],
      "text/plain": [
       "  state  district  democA  voteA     expendA     expendB  prtystrA  lexpendA  \\\n",
       "0    AL         7       1     68  328.295990    8.737000        41  5.793916   \n",
       "1    AK         1       0     62  626.377014  402.476990        60  6.439952   \n",
       "2    AZ         2       1     73   99.607002    3.065000        55  4.601233   \n",
       "3    AZ         3       0     69  319.690002   26.281000        64  5.767352   \n",
       "4    AR         3       0     75  159.220993   60.054001        66  5.070293   \n",
       "\n",
       "   lexpendB     shareA  \n",
       "0  2.167567  97.407669  \n",
       "1  5.997638  60.881039  \n",
       "2  1.120048  97.014763  \n",
       "3  3.268846  92.403702  \n",
       "4  4.095244  72.612473  "
      ]
     },
     "execution_count": 86,
     "metadata": {},
     "output_type": "execute_result"
    }
   ],
   "source": [
    "vote_data.head()"
   ]
  },
  {
   "cell_type": "code",
   "execution_count": 87,
   "metadata": {
    "collapsed": true
   },
   "outputs": [],
   "source": [
    "vote_a = vote_data['voteA']\n",
    "factors = vote_data[['lexpendA', 'lexpendB', 'prtystrA']]\n",
    "factors = sm.add_constant(factors)\n",
    "model = sm.OLS(vote_a, factors)\n",
    "results = model.fit()"
   ]
  },
  {
   "cell_type": "code",
   "execution_count": 88,
   "metadata": {
    "collapsed": false
   },
   "outputs": [
    {
     "data": {
      "text/html": [
       "<table class=\"simpletable\">\n",
       "<caption>OLS Regression Results</caption>\n",
       "<tr>\n",
       "  <th>Dep. Variable:</th>          <td>voteA</td>      <th>  R-squared:         </th> <td>   0.793</td>\n",
       "</tr>\n",
       "<tr>\n",
       "  <th>Model:</th>                   <td>OLS</td>       <th>  Adj. R-squared:    </th> <td>   0.789</td>\n",
       "</tr>\n",
       "<tr>\n",
       "  <th>Method:</th>             <td>Least Squares</td>  <th>  F-statistic:       </th> <td>   215.2</td>\n",
       "</tr>\n",
       "<tr>\n",
       "  <th>Date:</th>             <td>Mon, 14 Nov 2016</td> <th>  Prob (F-statistic):</th> <td>1.76e-57</td>\n",
       "</tr>\n",
       "<tr>\n",
       "  <th>Time:</th>                 <td>04:48:27</td>     <th>  Log-Likelihood:    </th> <td> -596.86</td>\n",
       "</tr>\n",
       "<tr>\n",
       "  <th>No. Observations:</th>      <td>   173</td>      <th>  AIC:               </th> <td>   1202.</td>\n",
       "</tr>\n",
       "<tr>\n",
       "  <th>Df Residuals:</th>          <td>   169</td>      <th>  BIC:               </th> <td>   1214.</td>\n",
       "</tr>\n",
       "<tr>\n",
       "  <th>Df Model:</th>              <td>     3</td>      <th>                     </th>     <td> </td>   \n",
       "</tr>\n",
       "<tr>\n",
       "  <th>Covariance Type:</th>      <td>nonrobust</td>    <th>                     </th>     <td> </td>   \n",
       "</tr>\n",
       "</table>\n",
       "<table class=\"simpletable\">\n",
       "<tr>\n",
       "      <td></td>        <th>coef</th>     <th>std err</th>      <th>t</th>      <th>P>|t|</th> <th>[95.0% Conf. Int.]</th> \n",
       "</tr>\n",
       "<tr>\n",
       "  <th>const</th>    <td>   45.0789</td> <td>    3.926</td> <td>   11.481</td> <td> 0.000</td> <td>   37.328    52.830</td>\n",
       "</tr>\n",
       "<tr>\n",
       "  <th>lexpendA</th> <td>    6.0833</td> <td>    0.382</td> <td>   15.919</td> <td> 0.000</td> <td>    5.329     6.838</td>\n",
       "</tr>\n",
       "<tr>\n",
       "  <th>lexpendB</th> <td>   -6.6154</td> <td>    0.379</td> <td>  -17.463</td> <td> 0.000</td> <td>   -7.363    -5.868</td>\n",
       "</tr>\n",
       "<tr>\n",
       "  <th>prtystrA</th> <td>    0.1520</td> <td>    0.062</td> <td>    2.450</td> <td> 0.015</td> <td>    0.030     0.274</td>\n",
       "</tr>\n",
       "</table>\n",
       "<table class=\"simpletable\">\n",
       "<tr>\n",
       "  <th>Omnibus:</th>       <td> 8.900</td> <th>  Durbin-Watson:     </th> <td>   1.604</td>\n",
       "</tr>\n",
       "<tr>\n",
       "  <th>Prob(Omnibus):</th> <td> 0.012</td> <th>  Jarque-Bera (JB):  </th> <td>   8.832</td>\n",
       "</tr>\n",
       "<tr>\n",
       "  <th>Skew:</th>          <td> 0.493</td> <th>  Prob(JB):          </th> <td>  0.0121</td>\n",
       "</tr>\n",
       "<tr>\n",
       "  <th>Kurtosis:</th>      <td> 3.505</td> <th>  Cond. No.          </th> <td>    344.</td>\n",
       "</tr>\n",
       "</table>"
      ],
      "text/plain": [
       "<class 'statsmodels.iolib.summary.Summary'>\n",
       "\"\"\"\n",
       "                            OLS Regression Results                            \n",
       "==============================================================================\n",
       "Dep. Variable:                  voteA   R-squared:                       0.793\n",
       "Model:                            OLS   Adj. R-squared:                  0.789\n",
       "Method:                 Least Squares   F-statistic:                     215.2\n",
       "Date:                Mon, 14 Nov 2016   Prob (F-statistic):           1.76e-57\n",
       "Time:                        04:48:27   Log-Likelihood:                -596.86\n",
       "No. Observations:                 173   AIC:                             1202.\n",
       "Df Residuals:                     169   BIC:                             1214.\n",
       "Df Model:                           3                                         \n",
       "Covariance Type:            nonrobust                                         \n",
       "==============================================================================\n",
       "                 coef    std err          t      P>|t|      [95.0% Conf. Int.]\n",
       "------------------------------------------------------------------------------\n",
       "const         45.0789      3.926     11.481      0.000        37.328    52.830\n",
       "lexpendA       6.0833      0.382     15.919      0.000         5.329     6.838\n",
       "lexpendB      -6.6154      0.379    -17.463      0.000        -7.363    -5.868\n",
       "prtystrA       0.1520      0.062      2.450      0.015         0.030     0.274\n",
       "==============================================================================\n",
       "Omnibus:                        8.900   Durbin-Watson:                   1.604\n",
       "Prob(Omnibus):                  0.012   Jarque-Bera (JB):                8.832\n",
       "Skew:                           0.493   Prob(JB):                       0.0121\n",
       "Kurtosis:                       3.505   Cond. No.                         344.\n",
       "==============================================================================\n",
       "\n",
       "Warnings:\n",
       "[1] Standard Errors assume that the covariance matrix of the errors is correctly specified.\n",
       "\"\"\""
      ]
     },
     "execution_count": 88,
     "metadata": {},
     "output_type": "execute_result"
    }
   ],
   "source": [
    "results.summary()"
   ]
  },
  {
   "cell_type": "markdown",
   "metadata": {},
   "source": [
    "Both $expendA$ and $expendB$ have high t-stats and low p-values indicating they are significant factors. Furthermore their signs are opposite giving credence to the $H_0$ though not confirming because the value of the coefficient for $expendB$ has a slightly greater magnitude than $expendA$."
   ]
  },
  {
   "cell_type": "markdown",
   "metadata": {},
   "source": [
    "### iv\n",
    "\n",
    "My model would be $\\beta_1 = \\beta_2$"
   ]
  },
  {
   "cell_type": "code",
   "execution_count": 89,
   "metadata": {
    "collapsed": false
   },
   "outputs": [
    {
     "data": {
      "text/plain": [
       "<class 'statsmodels.stats.contrast.ContrastResults'>\n",
       "                             Test for Constraints                             \n",
       "==============================================================================\n",
       "                 coef    std err          t      P>|t|      [95.0% Conf. Int.]\n",
       "------------------------------------------------------------------------------\n",
       "c0            12.6987      0.543     23.384      0.000        11.627    13.771\n",
       "=============================================================================="
      ]
     },
     "execution_count": 89,
     "metadata": {},
     "output_type": "execute_result"
    }
   ],
   "source": [
    "results.t_test('lexpendA = lexpendB')"
   ]
  },
  {
   "cell_type": "markdown",
   "metadata": {},
   "source": [
    "The t value is highly significant and the p value is low, we can therefore reject the null hypothesis."
   ]
  },
  {
   "cell_type": "markdown",
   "metadata": {},
   "source": [
    "## C5\n",
    "\n",
    "### i"
   ]
  },
  {
   "cell_type": "code",
   "execution_count": 90,
   "metadata": {
    "collapsed": false
   },
   "outputs": [],
   "source": [
    "mlb_data = pd.read_stata('MLB1.DTA')"
   ]
  },
  {
   "cell_type": "code",
   "execution_count": 91,
   "metadata": {
    "collapsed": false
   },
   "outputs": [
    {
     "data": {
      "text/html": [
       "<div>\n",
       "<table border=\"1\" class=\"dataframe\">\n",
       "  <thead>\n",
       "    <tr style=\"text-align: right;\">\n",
       "      <th></th>\n",
       "      <th>salary</th>\n",
       "      <th>teamsal</th>\n",
       "      <th>nl</th>\n",
       "      <th>years</th>\n",
       "      <th>games</th>\n",
       "      <th>atbats</th>\n",
       "      <th>runs</th>\n",
       "      <th>hits</th>\n",
       "      <th>doubles</th>\n",
       "      <th>triples</th>\n",
       "      <th>...</th>\n",
       "      <th>runsyr</th>\n",
       "      <th>percwhte</th>\n",
       "      <th>percblck</th>\n",
       "      <th>perchisp</th>\n",
       "      <th>blckpb</th>\n",
       "      <th>hispph</th>\n",
       "      <th>whtepw</th>\n",
       "      <th>blckph</th>\n",
       "      <th>hisppb</th>\n",
       "      <th>lsalary</th>\n",
       "    </tr>\n",
       "  </thead>\n",
       "  <tbody>\n",
       "    <tr>\n",
       "      <th>0</th>\n",
       "      <td>6329213.0</td>\n",
       "      <td>38407380.0</td>\n",
       "      <td>1</td>\n",
       "      <td>12</td>\n",
       "      <td>1705</td>\n",
       "      <td>6705</td>\n",
       "      <td>1076</td>\n",
       "      <td>1939</td>\n",
       "      <td>320</td>\n",
       "      <td>67</td>\n",
       "      <td>...</td>\n",
       "      <td>89.666664</td>\n",
       "      <td>70.277969</td>\n",
       "      <td>18.844229</td>\n",
       "      <td>10.877804</td>\n",
       "      <td>0.000000</td>\n",
       "      <td>0.0</td>\n",
       "      <td>70.277969</td>\n",
       "      <td>0.000000</td>\n",
       "      <td>0.0</td>\n",
       "      <td>15.660686</td>\n",
       "    </tr>\n",
       "    <tr>\n",
       "      <th>1</th>\n",
       "      <td>3375000.0</td>\n",
       "      <td>38407380.0</td>\n",
       "      <td>1</td>\n",
       "      <td>8</td>\n",
       "      <td>918</td>\n",
       "      <td>3333</td>\n",
       "      <td>407</td>\n",
       "      <td>863</td>\n",
       "      <td>156</td>\n",
       "      <td>38</td>\n",
       "      <td>...</td>\n",
       "      <td>50.875000</td>\n",
       "      <td>70.277969</td>\n",
       "      <td>18.844229</td>\n",
       "      <td>10.877804</td>\n",
       "      <td>18.844229</td>\n",
       "      <td>0.0</td>\n",
       "      <td>0.000000</td>\n",
       "      <td>10.877804</td>\n",
       "      <td>0.0</td>\n",
       "      <td>15.031906</td>\n",
       "    </tr>\n",
       "    <tr>\n",
       "      <th>2</th>\n",
       "      <td>3100000.0</td>\n",
       "      <td>38407380.0</td>\n",
       "      <td>1</td>\n",
       "      <td>5</td>\n",
       "      <td>751</td>\n",
       "      <td>2807</td>\n",
       "      <td>370</td>\n",
       "      <td>840</td>\n",
       "      <td>148</td>\n",
       "      <td>18</td>\n",
       "      <td>...</td>\n",
       "      <td>74.000000</td>\n",
       "      <td>70.277969</td>\n",
       "      <td>18.844229</td>\n",
       "      <td>10.877804</td>\n",
       "      <td>0.000000</td>\n",
       "      <td>0.0</td>\n",
       "      <td>70.277969</td>\n",
       "      <td>0.000000</td>\n",
       "      <td>0.0</td>\n",
       "      <td>14.946913</td>\n",
       "    </tr>\n",
       "    <tr>\n",
       "      <th>3</th>\n",
       "      <td>2900000.0</td>\n",
       "      <td>38407380.0</td>\n",
       "      <td>1</td>\n",
       "      <td>8</td>\n",
       "      <td>1056</td>\n",
       "      <td>3337</td>\n",
       "      <td>405</td>\n",
       "      <td>816</td>\n",
       "      <td>143</td>\n",
       "      <td>18</td>\n",
       "      <td>...</td>\n",
       "      <td>50.625000</td>\n",
       "      <td>70.277969</td>\n",
       "      <td>18.844229</td>\n",
       "      <td>10.877804</td>\n",
       "      <td>0.000000</td>\n",
       "      <td>0.0</td>\n",
       "      <td>70.277969</td>\n",
       "      <td>0.000000</td>\n",
       "      <td>0.0</td>\n",
       "      <td>14.880221</td>\n",
       "    </tr>\n",
       "    <tr>\n",
       "      <th>4</th>\n",
       "      <td>1650000.0</td>\n",
       "      <td>38407380.0</td>\n",
       "      <td>1</td>\n",
       "      <td>12</td>\n",
       "      <td>1196</td>\n",
       "      <td>3603</td>\n",
       "      <td>437</td>\n",
       "      <td>928</td>\n",
       "      <td>19</td>\n",
       "      <td>16</td>\n",
       "      <td>...</td>\n",
       "      <td>36.416668</td>\n",
       "      <td>70.277969</td>\n",
       "      <td>18.844229</td>\n",
       "      <td>10.877804</td>\n",
       "      <td>18.844229</td>\n",
       "      <td>0.0</td>\n",
       "      <td>0.000000</td>\n",
       "      <td>10.877804</td>\n",
       "      <td>0.0</td>\n",
       "      <td>14.316286</td>\n",
       "    </tr>\n",
       "  </tbody>\n",
       "</table>\n",
       "<p>5 rows × 47 columns</p>\n",
       "</div>"
      ],
      "text/plain": [
       "      salary     teamsal  nl  years  games  atbats  runs  hits  doubles  \\\n",
       "0  6329213.0  38407380.0   1     12   1705    6705  1076  1939      320   \n",
       "1  3375000.0  38407380.0   1      8    918    3333   407   863      156   \n",
       "2  3100000.0  38407380.0   1      5    751    2807   370   840      148   \n",
       "3  2900000.0  38407380.0   1      8   1056    3337   405   816      143   \n",
       "4  1650000.0  38407380.0   1     12   1196    3603   437   928       19   \n",
       "\n",
       "   triples    ...         runsyr   percwhte   percblck   perchisp     blckpb  \\\n",
       "0       67    ...      89.666664  70.277969  18.844229  10.877804   0.000000   \n",
       "1       38    ...      50.875000  70.277969  18.844229  10.877804  18.844229   \n",
       "2       18    ...      74.000000  70.277969  18.844229  10.877804   0.000000   \n",
       "3       18    ...      50.625000  70.277969  18.844229  10.877804   0.000000   \n",
       "4       16    ...      36.416668  70.277969  18.844229  10.877804  18.844229   \n",
       "\n",
       "   hispph     whtepw     blckph  hisppb    lsalary  \n",
       "0     0.0  70.277969   0.000000     0.0  15.660686  \n",
       "1     0.0   0.000000  10.877804     0.0  15.031906  \n",
       "2     0.0  70.277969   0.000000     0.0  14.946913  \n",
       "3     0.0  70.277969   0.000000     0.0  14.880221  \n",
       "4     0.0   0.000000  10.877804     0.0  14.316286  \n",
       "\n",
       "[5 rows x 47 columns]"
      ]
     },
     "execution_count": 91,
     "metadata": {},
     "output_type": "execute_result"
    }
   ],
   "source": [
    "mlb_data.head()"
   ]
  },
  {
   "cell_type": "code",
   "execution_count": 94,
   "metadata": {
    "collapsed": false
   },
   "outputs": [],
   "source": [
    "salary = mlb_data['lsalary']\n",
    "factors = mlb_data[['years', 'gamesyr', 'bavg', 'hrunsyr', 'rbisyr']]\n",
    "\n",
    "factors = sm.add_constant(factors)\n",
    "model = sm.OLS(salary, factors)\n",
    "results = model.fit()"
   ]
  },
  {
   "cell_type": "code",
   "execution_count": 97,
   "metadata": {
    "collapsed": false
   },
   "outputs": [
    {
     "data": {
      "text/html": [
       "<table class=\"simpletable\">\n",
       "<caption>OLS Regression Results</caption>\n",
       "<tr>\n",
       "  <th>Dep. Variable:</th>         <td>lsalary</td>     <th>  R-squared:         </th> <td>   0.628</td>\n",
       "</tr>\n",
       "<tr>\n",
       "  <th>Model:</th>                   <td>OLS</td>       <th>  Adj. R-squared:    </th> <td>   0.622</td>\n",
       "</tr>\n",
       "<tr>\n",
       "  <th>Method:</th>             <td>Least Squares</td>  <th>  F-statistic:       </th> <td>   117.1</td>\n",
       "</tr>\n",
       "<tr>\n",
       "  <th>Date:</th>             <td>Mon, 14 Nov 2016</td> <th>  Prob (F-statistic):</th> <td>2.94e-72</td>\n",
       "</tr>\n",
       "<tr>\n",
       "  <th>Time:</th>                 <td>04:53:09</td>     <th>  Log-Likelihood:    </th> <td> -385.11</td>\n",
       "</tr>\n",
       "<tr>\n",
       "  <th>No. Observations:</th>      <td>   353</td>      <th>  AIC:               </th> <td>   782.2</td>\n",
       "</tr>\n",
       "<tr>\n",
       "  <th>Df Residuals:</th>          <td>   347</td>      <th>  BIC:               </th> <td>   805.4</td>\n",
       "</tr>\n",
       "<tr>\n",
       "  <th>Df Model:</th>              <td>     5</td>      <th>                     </th>     <td> </td>   \n",
       "</tr>\n",
       "<tr>\n",
       "  <th>Covariance Type:</th>      <td>nonrobust</td>    <th>                     </th>     <td> </td>   \n",
       "</tr>\n",
       "</table>\n",
       "<table class=\"simpletable\">\n",
       "<tr>\n",
       "     <td></td>        <th>coef</th>     <th>std err</th>      <th>t</th>      <th>P>|t|</th> <th>[95.0% Conf. Int.]</th> \n",
       "</tr>\n",
       "<tr>\n",
       "  <th>const</th>   <td>   11.1924</td> <td>    0.289</td> <td>   38.752</td> <td> 0.000</td> <td>   10.624    11.760</td>\n",
       "</tr>\n",
       "<tr>\n",
       "  <th>years</th>   <td>    0.0689</td> <td>    0.012</td> <td>    5.684</td> <td> 0.000</td> <td>    0.045     0.093</td>\n",
       "</tr>\n",
       "<tr>\n",
       "  <th>gamesyr</th> <td>    0.0126</td> <td>    0.003</td> <td>    4.742</td> <td> 0.000</td> <td>    0.007     0.018</td>\n",
       "</tr>\n",
       "<tr>\n",
       "  <th>bavg</th>    <td>    0.0010</td> <td>    0.001</td> <td>    0.887</td> <td> 0.376</td> <td>   -0.001     0.003</td>\n",
       "</tr>\n",
       "<tr>\n",
       "  <th>hrunsyr</th> <td>    0.0144</td> <td>    0.016</td> <td>    0.899</td> <td> 0.369</td> <td>   -0.017     0.046</td>\n",
       "</tr>\n",
       "<tr>\n",
       "  <th>rbisyr</th>  <td>    0.0108</td> <td>    0.007</td> <td>    1.500</td> <td> 0.134</td> <td>   -0.003     0.025</td>\n",
       "</tr>\n",
       "</table>\n",
       "<table class=\"simpletable\">\n",
       "<tr>\n",
       "  <th>Omnibus:</th>       <td> 6.816</td> <th>  Durbin-Watson:     </th> <td>   1.265</td>\n",
       "</tr>\n",
       "<tr>\n",
       "  <th>Prob(Omnibus):</th> <td> 0.033</td> <th>  Jarque-Bera (JB):  </th> <td>  10.198</td>\n",
       "</tr>\n",
       "<tr>\n",
       "  <th>Skew:</th>          <td>-0.068</td> <th>  Prob(JB):          </th> <td> 0.00610</td>\n",
       "</tr>\n",
       "<tr>\n",
       "  <th>Kurtosis:</th>      <td> 3.821</td> <th>  Cond. No.          </th> <td>2.09e+03</td>\n",
       "</tr>\n",
       "</table>"
      ],
      "text/plain": [
       "<class 'statsmodels.iolib.summary.Summary'>\n",
       "\"\"\"\n",
       "                            OLS Regression Results                            \n",
       "==============================================================================\n",
       "Dep. Variable:                lsalary   R-squared:                       0.628\n",
       "Model:                            OLS   Adj. R-squared:                  0.622\n",
       "Method:                 Least Squares   F-statistic:                     117.1\n",
       "Date:                Mon, 14 Nov 2016   Prob (F-statistic):           2.94e-72\n",
       "Time:                        04:53:09   Log-Likelihood:                -385.11\n",
       "No. Observations:                 353   AIC:                             782.2\n",
       "Df Residuals:                     347   BIC:                             805.4\n",
       "Df Model:                           5                                         \n",
       "Covariance Type:            nonrobust                                         \n",
       "==============================================================================\n",
       "                 coef    std err          t      P>|t|      [95.0% Conf. Int.]\n",
       "------------------------------------------------------------------------------\n",
       "const         11.1924      0.289     38.752      0.000        10.624    11.760\n",
       "years          0.0689      0.012      5.684      0.000         0.045     0.093\n",
       "gamesyr        0.0126      0.003      4.742      0.000         0.007     0.018\n",
       "bavg           0.0010      0.001      0.887      0.376        -0.001     0.003\n",
       "hrunsyr        0.0144      0.016      0.899      0.369        -0.017     0.046\n",
       "rbisyr         0.0108      0.007      1.500      0.134        -0.003     0.025\n",
       "==============================================================================\n",
       "Omnibus:                        6.816   Durbin-Watson:                   1.265\n",
       "Prob(Omnibus):                  0.033   Jarque-Bera (JB):               10.198\n",
       "Skew:                          -0.068   Prob(JB):                      0.00610\n",
       "Kurtosis:                       3.821   Cond. No.                     2.09e+03\n",
       "==============================================================================\n",
       "\n",
       "Warnings:\n",
       "[1] Standard Errors assume that the covariance matrix of the errors is correctly specified.\n",
       "[2] The condition number is large, 2.09e+03. This might indicate that there are\n",
       "strong multicollinearity or other numerical problems.\n",
       "\"\"\""
      ]
     },
     "execution_count": 97,
     "metadata": {},
     "output_type": "execute_result"
    }
   ],
   "source": [
    "results.summary()"
   ]
  },
  {
   "cell_type": "code",
   "execution_count": 98,
   "metadata": {
    "collapsed": true
   },
   "outputs": [],
   "source": [
    "factors = mlb_data[['years', 'gamesyr', 'bavg', 'hrunsyr']]\n",
    "factors = sm.add_constant(factors)\n",
    "model = sm.OLS(salary, factors)\n",
    "results = model.fit()"
   ]
  },
  {
   "cell_type": "code",
   "execution_count": 99,
   "metadata": {
    "collapsed": false
   },
   "outputs": [
    {
     "data": {
      "text/html": [
       "<table class=\"simpletable\">\n",
       "<caption>OLS Regression Results</caption>\n",
       "<tr>\n",
       "  <th>Dep. Variable:</th>         <td>lsalary</td>     <th>  R-squared:         </th> <td>   0.625</td>\n",
       "</tr>\n",
       "<tr>\n",
       "  <th>Model:</th>                   <td>OLS</td>       <th>  Adj. R-squared:    </th> <td>   0.621</td>\n",
       "</tr>\n",
       "<tr>\n",
       "  <th>Method:</th>             <td>Least Squares</td>  <th>  F-statistic:       </th> <td>   145.2</td>\n",
       "</tr>\n",
       "<tr>\n",
       "  <th>Date:</th>             <td>Mon, 14 Nov 2016</td> <th>  Prob (F-statistic):</th> <td>6.98e-73</td>\n",
       "</tr>\n",
       "<tr>\n",
       "  <th>Time:</th>                 <td>04:54:25</td>     <th>  Log-Likelihood:    </th> <td> -386.25</td>\n",
       "</tr>\n",
       "<tr>\n",
       "  <th>No. Observations:</th>      <td>   353</td>      <th>  AIC:               </th> <td>   782.5</td>\n",
       "</tr>\n",
       "<tr>\n",
       "  <th>Df Residuals:</th>          <td>   348</td>      <th>  BIC:               </th> <td>   801.8</td>\n",
       "</tr>\n",
       "<tr>\n",
       "  <th>Df Model:</th>              <td>     4</td>      <th>                     </th>     <td> </td>   \n",
       "</tr>\n",
       "<tr>\n",
       "  <th>Covariance Type:</th>      <td>nonrobust</td>    <th>                     </th>     <td> </td>   \n",
       "</tr>\n",
       "</table>\n",
       "<table class=\"simpletable\">\n",
       "<tr>\n",
       "     <td></td>        <th>coef</th>     <th>std err</th>      <th>t</th>      <th>P>|t|</th> <th>[95.0% Conf. Int.]</th> \n",
       "</tr>\n",
       "<tr>\n",
       "  <th>const</th>   <td>   11.0209</td> <td>    0.266</td> <td>   41.476</td> <td> 0.000</td> <td>   10.498    11.544</td>\n",
       "</tr>\n",
       "<tr>\n",
       "  <th>years</th>   <td>    0.0677</td> <td>    0.012</td> <td>    5.592</td> <td> 0.000</td> <td>    0.044     0.092</td>\n",
       "</tr>\n",
       "<tr>\n",
       "  <th>gamesyr</th> <td>    0.0158</td> <td>    0.002</td> <td>   10.079</td> <td> 0.000</td> <td>    0.013     0.019</td>\n",
       "</tr>\n",
       "<tr>\n",
       "  <th>bavg</th>    <td>    0.0014</td> <td>    0.001</td> <td>    1.331</td> <td> 0.184</td> <td>   -0.001     0.004</td>\n",
       "</tr>\n",
       "<tr>\n",
       "  <th>hrunsyr</th> <td>    0.0359</td> <td>    0.007</td> <td>    4.964</td> <td> 0.000</td> <td>    0.022     0.050</td>\n",
       "</tr>\n",
       "</table>\n",
       "<table class=\"simpletable\">\n",
       "<tr>\n",
       "  <th>Omnibus:</th>       <td> 7.369</td> <th>  Durbin-Watson:     </th> <td>   1.244</td>\n",
       "</tr>\n",
       "<tr>\n",
       "  <th>Prob(Omnibus):</th> <td> 0.025</td> <th>  Jarque-Bera (JB):  </th> <td>  11.240</td>\n",
       "</tr>\n",
       "<tr>\n",
       "  <th>Skew:</th>          <td>-0.085</td> <th>  Prob(JB):          </th> <td> 0.00362</td>\n",
       "</tr>\n",
       "<tr>\n",
       "  <th>Kurtosis:</th>      <td> 3.858</td> <th>  Cond. No.          </th> <td>1.90e+03</td>\n",
       "</tr>\n",
       "</table>"
      ],
      "text/plain": [
       "<class 'statsmodels.iolib.summary.Summary'>\n",
       "\"\"\"\n",
       "                            OLS Regression Results                            \n",
       "==============================================================================\n",
       "Dep. Variable:                lsalary   R-squared:                       0.625\n",
       "Model:                            OLS   Adj. R-squared:                  0.621\n",
       "Method:                 Least Squares   F-statistic:                     145.2\n",
       "Date:                Mon, 14 Nov 2016   Prob (F-statistic):           6.98e-73\n",
       "Time:                        04:54:25   Log-Likelihood:                -386.25\n",
       "No. Observations:                 353   AIC:                             782.5\n",
       "Df Residuals:                     348   BIC:                             801.8\n",
       "Df Model:                           4                                         \n",
       "Covariance Type:            nonrobust                                         \n",
       "==============================================================================\n",
       "                 coef    std err          t      P>|t|      [95.0% Conf. Int.]\n",
       "------------------------------------------------------------------------------\n",
       "const         11.0209      0.266     41.476      0.000        10.498    11.544\n",
       "years          0.0677      0.012      5.592      0.000         0.044     0.092\n",
       "gamesyr        0.0158      0.002     10.079      0.000         0.013     0.019\n",
       "bavg           0.0014      0.001      1.331      0.184        -0.001     0.004\n",
       "hrunsyr        0.0359      0.007      4.964      0.000         0.022     0.050\n",
       "==============================================================================\n",
       "Omnibus:                        7.369   Durbin-Watson:                   1.244\n",
       "Prob(Omnibus):                  0.025   Jarque-Bera (JB):               11.240\n",
       "Skew:                          -0.085   Prob(JB):                      0.00362\n",
       "Kurtosis:                       3.858   Cond. No.                     1.90e+03\n",
       "==============================================================================\n",
       "\n",
       "Warnings:\n",
       "[1] Standard Errors assume that the covariance matrix of the errors is correctly specified.\n",
       "[2] The condition number is large, 1.9e+03. This might indicate that there are\n",
       "strong multicollinearity or other numerical problems.\n",
       "\"\"\""
      ]
     },
     "execution_count": 99,
     "metadata": {},
     "output_type": "execute_result"
    }
   ],
   "source": [
    "results.summary()"
   ]
  },
  {
   "cell_type": "markdown",
   "metadata": {},
   "source": [
    "The t-value and coefficient of $hrunsyr$ increase.\n",
    "\n",
    "### ii"
   ]
  },
  {
   "cell_type": "code",
   "execution_count": 104,
   "metadata": {
    "collapsed": true
   },
   "outputs": [],
   "source": [
    "factors = mlb_data[['years', 'gamesyr', 'hrunsyr', 'rbisyr', 'runsyr', 'bavg', 'fldperc', 'sbasesyr']]\n",
    "factors = sm.add_constant(factors)\n",
    "model = sm.OLS(salary, factors)\n",
    "results = model.fit()"
   ]
  },
  {
   "cell_type": "code",
   "execution_count": 111,
   "metadata": {
    "collapsed": false
   },
   "outputs": [
    {
     "data": {
      "text/html": [
       "<table class=\"simpletable\">\n",
       "<caption>OLS Regression Results</caption>\n",
       "<tr>\n",
       "  <th>Dep. Variable:</th>         <td>lsalary</td>     <th>  R-squared:         </th> <td>   0.639</td>\n",
       "</tr>\n",
       "<tr>\n",
       "  <th>Model:</th>                   <td>OLS</td>       <th>  Adj. R-squared:    </th> <td>   0.631</td>\n",
       "</tr>\n",
       "<tr>\n",
       "  <th>Method:</th>             <td>Least Squares</td>  <th>  F-statistic:       </th> <td>   76.18</td>\n",
       "</tr>\n",
       "<tr>\n",
       "  <th>Date:</th>             <td>Mon, 14 Nov 2016</td> <th>  Prob (F-statistic):</th> <td>1.63e-71</td>\n",
       "</tr>\n",
       "<tr>\n",
       "  <th>Time:</th>                 <td>05:08:04</td>     <th>  Log-Likelihood:    </th> <td> -379.61</td>\n",
       "</tr>\n",
       "<tr>\n",
       "  <th>No. Observations:</th>      <td>   353</td>      <th>  AIC:               </th> <td>   777.2</td>\n",
       "</tr>\n",
       "<tr>\n",
       "  <th>Df Residuals:</th>          <td>   344</td>      <th>  BIC:               </th> <td>   812.0</td>\n",
       "</tr>\n",
       "<tr>\n",
       "  <th>Df Model:</th>              <td>     8</td>      <th>                     </th>     <td> </td>   \n",
       "</tr>\n",
       "<tr>\n",
       "  <th>Covariance Type:</th>      <td>nonrobust</td>    <th>                     </th>     <td> </td>   \n",
       "</tr>\n",
       "</table>\n",
       "<table class=\"simpletable\">\n",
       "<tr>\n",
       "      <td></td>        <th>coef</th>     <th>std err</th>      <th>t</th>      <th>P>|t|</th> <th>[95.0% Conf. Int.]</th> \n",
       "</tr>\n",
       "<tr>\n",
       "  <th>const</th>    <td>   10.4929</td> <td>    2.015</td> <td>    5.207</td> <td> 0.000</td> <td>    6.529    14.457</td>\n",
       "</tr>\n",
       "<tr>\n",
       "  <th>years</th>    <td>    0.0702</td> <td>    0.012</td> <td>    5.850</td> <td> 0.000</td> <td>    0.047     0.094</td>\n",
       "</tr>\n",
       "<tr>\n",
       "  <th>gamesyr</th>  <td>    0.0072</td> <td>    0.003</td> <td>    2.294</td> <td> 0.022</td> <td>    0.001     0.013</td>\n",
       "</tr>\n",
       "<tr>\n",
       "  <th>hrunsyr</th>  <td>    0.0175</td> <td>    0.016</td> <td>    1.095</td> <td> 0.274</td> <td>   -0.014     0.049</td>\n",
       "</tr>\n",
       "<tr>\n",
       "  <th>rbisyr</th>   <td>    0.0033</td> <td>    0.008</td> <td>    0.429</td> <td> 0.668</td> <td>   -0.012     0.019</td>\n",
       "</tr>\n",
       "<tr>\n",
       "  <th>runsyr</th>   <td>    0.0165</td> <td>    0.005</td> <td>    3.017</td> <td> 0.003</td> <td>    0.006     0.027</td>\n",
       "</tr>\n",
       "<tr>\n",
       "  <th>bavg</th>     <td>    0.0004</td> <td>    0.001</td> <td>    0.380</td> <td> 0.704</td> <td>   -0.002     0.003</td>\n",
       "</tr>\n",
       "<tr>\n",
       "  <th>fldperc</th>  <td>    0.0010</td> <td>    0.002</td> <td>    0.492</td> <td> 0.623</td> <td>   -0.003     0.005</td>\n",
       "</tr>\n",
       "<tr>\n",
       "  <th>sbasesyr</th> <td>   -0.0056</td> <td>    0.006</td> <td>   -1.001</td> <td> 0.317</td> <td>   -0.016     0.005</td>\n",
       "</tr>\n",
       "</table>\n",
       "<table class=\"simpletable\">\n",
       "<tr>\n",
       "  <th>Omnibus:</th>       <td> 1.216</td> <th>  Durbin-Watson:     </th> <td>   1.292</td>\n",
       "</tr>\n",
       "<tr>\n",
       "  <th>Prob(Omnibus):</th> <td> 0.545</td> <th>  Jarque-Bera (JB):  </th> <td>   0.966</td>\n",
       "</tr>\n",
       "<tr>\n",
       "  <th>Skew:</th>          <td> 0.084</td> <th>  Prob(JB):          </th> <td>   0.617</td>\n",
       "</tr>\n",
       "<tr>\n",
       "  <th>Kurtosis:</th>      <td> 3.194</td> <th>  Cond. No.          </th> <td>5.35e+04</td>\n",
       "</tr>\n",
       "</table>"
      ],
      "text/plain": [
       "<class 'statsmodels.iolib.summary.Summary'>\n",
       "\"\"\"\n",
       "                            OLS Regression Results                            \n",
       "==============================================================================\n",
       "Dep. Variable:                lsalary   R-squared:                       0.639\n",
       "Model:                            OLS   Adj. R-squared:                  0.631\n",
       "Method:                 Least Squares   F-statistic:                     76.18\n",
       "Date:                Mon, 14 Nov 2016   Prob (F-statistic):           1.63e-71\n",
       "Time:                        05:08:04   Log-Likelihood:                -379.61\n",
       "No. Observations:                 353   AIC:                             777.2\n",
       "Df Residuals:                     344   BIC:                             812.0\n",
       "Df Model:                           8                                         \n",
       "Covariance Type:            nonrobust                                         \n",
       "==============================================================================\n",
       "                 coef    std err          t      P>|t|      [95.0% Conf. Int.]\n",
       "------------------------------------------------------------------------------\n",
       "const         10.4929      2.015      5.207      0.000         6.529    14.457\n",
       "years          0.0702      0.012      5.850      0.000         0.047     0.094\n",
       "gamesyr        0.0072      0.003      2.294      0.022         0.001     0.013\n",
       "hrunsyr        0.0175      0.016      1.095      0.274        -0.014     0.049\n",
       "rbisyr         0.0033      0.008      0.429      0.668        -0.012     0.019\n",
       "runsyr         0.0165      0.005      3.017      0.003         0.006     0.027\n",
       "bavg           0.0004      0.001      0.380      0.704        -0.002     0.003\n",
       "fldperc        0.0010      0.002      0.492      0.623        -0.003     0.005\n",
       "sbasesyr      -0.0056      0.006     -1.001      0.317        -0.016     0.005\n",
       "==============================================================================\n",
       "Omnibus:                        1.216   Durbin-Watson:                   1.292\n",
       "Prob(Omnibus):                  0.545   Jarque-Bera (JB):                0.966\n",
       "Skew:                           0.084   Prob(JB):                        0.617\n",
       "Kurtosis:                       3.194   Cond. No.                     5.35e+04\n",
       "==============================================================================\n",
       "\n",
       "Warnings:\n",
       "[1] Standard Errors assume that the covariance matrix of the errors is correctly specified.\n",
       "[2] The condition number is large, 5.35e+04. This might indicate that there are\n",
       "strong multicollinearity or other numerical problems.\n",
       "\"\"\""
      ]
     },
     "execution_count": 111,
     "metadata": {},
     "output_type": "execute_result"
    }
   ],
   "source": [
    "results.summary()"
   ]
  },
  {
   "cell_type": "markdown",
   "metadata": {},
   "source": [
    "### ii\n",
    "If we take $\\alpha = 0.05$ the significant factors are $const, years, gamesyr, runsyr$.\n",
    "\n",
    "### iii"
   ]
  },
  {
   "cell_type": "code",
   "execution_count": 115,
   "metadata": {
    "collapsed": false
   },
   "outputs": [],
   "source": [
    "A = np.identity(len(results.params))[-3:,:]"
   ]
  },
  {
   "cell_type": "code",
   "execution_count": 116,
   "metadata": {
    "collapsed": false
   },
   "outputs": [
    {
     "data": {
      "text/plain": [
       "<class 'statsmodels.stats.contrast.ContrastResults'>\n",
       "<F test: F=array([[ 0.43901553]]), p=0.7252331043926552, df_denom=344, df_num=3>"
      ]
     },
     "execution_count": 116,
     "metadata": {},
     "output_type": "execute_result"
    }
   ],
   "source": [
    "results.f_test(A)"
   ]
  },
  {
   "cell_type": "markdown",
   "metadata": {},
   "source": [
    "The factors $bavg, fldperc, sbasesyr$ are not jointly significant the p value above is greater than 0.05."
   ]
  },
  {
   "cell_type": "markdown",
   "metadata": {},
   "source": [
    "## C6\n",
    "\n",
    "### i\n",
    "$H_0: \\beta_{exper} = \\beta_{tenure}$"
   ]
  },
  {
   "cell_type": "code",
   "execution_count": 117,
   "metadata": {
    "collapsed": true
   },
   "outputs": [],
   "source": [
    "wage_data = pd.read_stata('WAGE2.DTA')"
   ]
  },
  {
   "cell_type": "code",
   "execution_count": 118,
   "metadata": {
    "collapsed": false
   },
   "outputs": [
    {
     "data": {
      "text/html": [
       "<div>\n",
       "<table border=\"1\" class=\"dataframe\">\n",
       "  <thead>\n",
       "    <tr style=\"text-align: right;\">\n",
       "      <th></th>\n",
       "      <th>wage</th>\n",
       "      <th>hours</th>\n",
       "      <th>IQ</th>\n",
       "      <th>KWW</th>\n",
       "      <th>educ</th>\n",
       "      <th>exper</th>\n",
       "      <th>tenure</th>\n",
       "      <th>age</th>\n",
       "      <th>married</th>\n",
       "      <th>black</th>\n",
       "      <th>south</th>\n",
       "      <th>urban</th>\n",
       "      <th>sibs</th>\n",
       "      <th>brthord</th>\n",
       "      <th>meduc</th>\n",
       "      <th>feduc</th>\n",
       "      <th>lwage</th>\n",
       "    </tr>\n",
       "  </thead>\n",
       "  <tbody>\n",
       "    <tr>\n",
       "      <th>0</th>\n",
       "      <td>769</td>\n",
       "      <td>40</td>\n",
       "      <td>93</td>\n",
       "      <td>35</td>\n",
       "      <td>12</td>\n",
       "      <td>11</td>\n",
       "      <td>2</td>\n",
       "      <td>31</td>\n",
       "      <td>1</td>\n",
       "      <td>0</td>\n",
       "      <td>0</td>\n",
       "      <td>1</td>\n",
       "      <td>1</td>\n",
       "      <td>2.0</td>\n",
       "      <td>8.0</td>\n",
       "      <td>8.0</td>\n",
       "      <td>6.645091</td>\n",
       "    </tr>\n",
       "    <tr>\n",
       "      <th>1</th>\n",
       "      <td>808</td>\n",
       "      <td>50</td>\n",
       "      <td>119</td>\n",
       "      <td>41</td>\n",
       "      <td>18</td>\n",
       "      <td>11</td>\n",
       "      <td>16</td>\n",
       "      <td>37</td>\n",
       "      <td>1</td>\n",
       "      <td>0</td>\n",
       "      <td>0</td>\n",
       "      <td>1</td>\n",
       "      <td>1</td>\n",
       "      <td>NaN</td>\n",
       "      <td>14.0</td>\n",
       "      <td>14.0</td>\n",
       "      <td>6.694562</td>\n",
       "    </tr>\n",
       "    <tr>\n",
       "      <th>2</th>\n",
       "      <td>825</td>\n",
       "      <td>40</td>\n",
       "      <td>108</td>\n",
       "      <td>46</td>\n",
       "      <td>14</td>\n",
       "      <td>11</td>\n",
       "      <td>9</td>\n",
       "      <td>33</td>\n",
       "      <td>1</td>\n",
       "      <td>0</td>\n",
       "      <td>0</td>\n",
       "      <td>1</td>\n",
       "      <td>1</td>\n",
       "      <td>2.0</td>\n",
       "      <td>14.0</td>\n",
       "      <td>14.0</td>\n",
       "      <td>6.715384</td>\n",
       "    </tr>\n",
       "    <tr>\n",
       "      <th>3</th>\n",
       "      <td>650</td>\n",
       "      <td>40</td>\n",
       "      <td>96</td>\n",
       "      <td>32</td>\n",
       "      <td>12</td>\n",
       "      <td>13</td>\n",
       "      <td>7</td>\n",
       "      <td>32</td>\n",
       "      <td>1</td>\n",
       "      <td>0</td>\n",
       "      <td>0</td>\n",
       "      <td>1</td>\n",
       "      <td>4</td>\n",
       "      <td>3.0</td>\n",
       "      <td>12.0</td>\n",
       "      <td>12.0</td>\n",
       "      <td>6.476973</td>\n",
       "    </tr>\n",
       "    <tr>\n",
       "      <th>4</th>\n",
       "      <td>562</td>\n",
       "      <td>40</td>\n",
       "      <td>74</td>\n",
       "      <td>27</td>\n",
       "      <td>11</td>\n",
       "      <td>14</td>\n",
       "      <td>5</td>\n",
       "      <td>34</td>\n",
       "      <td>1</td>\n",
       "      <td>0</td>\n",
       "      <td>0</td>\n",
       "      <td>1</td>\n",
       "      <td>10</td>\n",
       "      <td>6.0</td>\n",
       "      <td>6.0</td>\n",
       "      <td>11.0</td>\n",
       "      <td>6.331502</td>\n",
       "    </tr>\n",
       "  </tbody>\n",
       "</table>\n",
       "</div>"
      ],
      "text/plain": [
       "   wage  hours   IQ  KWW  educ  exper  tenure  age  married  black  south  \\\n",
       "0   769     40   93   35    12     11       2   31        1      0      0   \n",
       "1   808     50  119   41    18     11      16   37        1      0      0   \n",
       "2   825     40  108   46    14     11       9   33        1      0      0   \n",
       "3   650     40   96   32    12     13       7   32        1      0      0   \n",
       "4   562     40   74   27    11     14       5   34        1      0      0   \n",
       "\n",
       "   urban  sibs  brthord  meduc  feduc     lwage  \n",
       "0      1     1      2.0    8.0    8.0  6.645091  \n",
       "1      1     1      NaN   14.0   14.0  6.694562  \n",
       "2      1     1      2.0   14.0   14.0  6.715384  \n",
       "3      1     4      3.0   12.0   12.0  6.476973  \n",
       "4      1    10      6.0    6.0   11.0  6.331502  "
      ]
     },
     "execution_count": 118,
     "metadata": {},
     "output_type": "execute_result"
    }
   ],
   "source": [
    "wage_data.head()"
   ]
  },
  {
   "cell_type": "code",
   "execution_count": 119,
   "metadata": {
    "collapsed": true
   },
   "outputs": [],
   "source": [
    "wage = wage_data['lwage']\n",
    "factors = wage_data[['educ', 'exper', 'tenure']]\n",
    "factors = sm.add_constant(factors)\n",
    "model = sm.OLS(wage, factors)\n",
    "results = model.fit()"
   ]
  },
  {
   "cell_type": "code",
   "execution_count": 120,
   "metadata": {
    "collapsed": false
   },
   "outputs": [
    {
     "data": {
      "text/html": [
       "<table class=\"simpletable\">\n",
       "<caption>OLS Regression Results</caption>\n",
       "<tr>\n",
       "  <th>Dep. Variable:</th>          <td>lwage</td>      <th>  R-squared:         </th> <td>   0.155</td>\n",
       "</tr>\n",
       "<tr>\n",
       "  <th>Model:</th>                   <td>OLS</td>       <th>  Adj. R-squared:    </th> <td>   0.152</td>\n",
       "</tr>\n",
       "<tr>\n",
       "  <th>Method:</th>             <td>Least Squares</td>  <th>  F-statistic:       </th> <td>   56.97</td>\n",
       "</tr>\n",
       "<tr>\n",
       "  <th>Date:</th>             <td>Mon, 14 Nov 2016</td> <th>  Prob (F-statistic):</th> <td>8.12e-34</td>\n",
       "</tr>\n",
       "<tr>\n",
       "  <th>Time:</th>                 <td>05:14:41</td>     <th>  Log-Likelihood:    </th> <td> -438.84</td>\n",
       "</tr>\n",
       "<tr>\n",
       "  <th>No. Observations:</th>      <td>   935</td>      <th>  AIC:               </th> <td>   885.7</td>\n",
       "</tr>\n",
       "<tr>\n",
       "  <th>Df Residuals:</th>          <td>   931</td>      <th>  BIC:               </th> <td>   905.0</td>\n",
       "</tr>\n",
       "<tr>\n",
       "  <th>Df Model:</th>              <td>     3</td>      <th>                     </th>     <td> </td>   \n",
       "</tr>\n",
       "<tr>\n",
       "  <th>Covariance Type:</th>      <td>nonrobust</td>    <th>                     </th>     <td> </td>   \n",
       "</tr>\n",
       "</table>\n",
       "<table class=\"simpletable\">\n",
       "<tr>\n",
       "     <td></td>       <th>coef</th>     <th>std err</th>      <th>t</th>      <th>P>|t|</th> <th>[95.0% Conf. Int.]</th> \n",
       "</tr>\n",
       "<tr>\n",
       "  <th>const</th>  <td>    5.4967</td> <td>    0.111</td> <td>   49.731</td> <td> 0.000</td> <td>    5.280     5.714</td>\n",
       "</tr>\n",
       "<tr>\n",
       "  <th>educ</th>   <td>    0.0749</td> <td>    0.007</td> <td>   11.495</td> <td> 0.000</td> <td>    0.062     0.088</td>\n",
       "</tr>\n",
       "<tr>\n",
       "  <th>exper</th>  <td>    0.0153</td> <td>    0.003</td> <td>    4.549</td> <td> 0.000</td> <td>    0.009     0.022</td>\n",
       "</tr>\n",
       "<tr>\n",
       "  <th>tenure</th> <td>    0.0134</td> <td>    0.003</td> <td>    5.170</td> <td> 0.000</td> <td>    0.008     0.018</td>\n",
       "</tr>\n",
       "</table>\n",
       "<table class=\"simpletable\">\n",
       "<tr>\n",
       "  <th>Omnibus:</th>       <td>20.917</td> <th>  Durbin-Watson:     </th> <td>   1.769</td>\n",
       "</tr>\n",
       "<tr>\n",
       "  <th>Prob(Omnibus):</th> <td> 0.000</td> <th>  Jarque-Bera (JB):  </th> <td>  30.558</td>\n",
       "</tr>\n",
       "<tr>\n",
       "  <th>Skew:</th>          <td>-0.214</td> <th>  Prob(JB):          </th> <td>2.31e-07</td>\n",
       "</tr>\n",
       "<tr>\n",
       "  <th>Kurtosis:</th>      <td> 3.775</td> <th>  Cond. No.          </th> <td>    170.</td>\n",
       "</tr>\n",
       "</table>"
      ],
      "text/plain": [
       "<class 'statsmodels.iolib.summary.Summary'>\n",
       "\"\"\"\n",
       "                            OLS Regression Results                            \n",
       "==============================================================================\n",
       "Dep. Variable:                  lwage   R-squared:                       0.155\n",
       "Model:                            OLS   Adj. R-squared:                  0.152\n",
       "Method:                 Least Squares   F-statistic:                     56.97\n",
       "Date:                Mon, 14 Nov 2016   Prob (F-statistic):           8.12e-34\n",
       "Time:                        05:14:41   Log-Likelihood:                -438.84\n",
       "No. Observations:                 935   AIC:                             885.7\n",
       "Df Residuals:                     931   BIC:                             905.0\n",
       "Df Model:                           3                                         \n",
       "Covariance Type:            nonrobust                                         \n",
       "==============================================================================\n",
       "                 coef    std err          t      P>|t|      [95.0% Conf. Int.]\n",
       "------------------------------------------------------------------------------\n",
       "const          5.4967      0.111     49.731      0.000         5.280     5.714\n",
       "educ           0.0749      0.007     11.495      0.000         0.062     0.088\n",
       "exper          0.0153      0.003      4.549      0.000         0.009     0.022\n",
       "tenure         0.0134      0.003      5.170      0.000         0.008     0.018\n",
       "==============================================================================\n",
       "Omnibus:                       20.917   Durbin-Watson:                   1.769\n",
       "Prob(Omnibus):                  0.000   Jarque-Bera (JB):               30.558\n",
       "Skew:                          -0.214   Prob(JB):                     2.31e-07\n",
       "Kurtosis:                       3.775   Cond. No.                         170.\n",
       "==============================================================================\n",
       "\n",
       "Warnings:\n",
       "[1] Standard Errors assume that the covariance matrix of the errors is correctly specified.\n",
       "\"\"\""
      ]
     },
     "execution_count": 120,
     "metadata": {},
     "output_type": "execute_result"
    }
   ],
   "source": [
    "results.summary()"
   ]
  },
  {
   "cell_type": "markdown",
   "metadata": {},
   "source": [
    "### ii"
   ]
  },
  {
   "cell_type": "code",
   "execution_count": 121,
   "metadata": {
    "collapsed": false
   },
   "outputs": [
    {
     "data": {
      "text/plain": [
       "<class 'statsmodels.stats.contrast.ContrastResults'>\n",
       "                             Test for Constraints                             \n",
       "==============================================================================\n",
       "                 coef    std err          t      P>|t|      [95.0% Conf. Int.]\n",
       "------------------------------------------------------------------------------\n",
       "c0             0.0020      0.005      0.412      0.681        -0.007     0.011\n",
       "=============================================================================="
      ]
     },
     "execution_count": 121,
     "metadata": {},
     "output_type": "execute_result"
    }
   ],
   "source": [
    "results.t_test('exper = tenure')"
   ]
  },
  {
   "cell_type": "markdown",
   "metadata": {},
   "source": [
    "While the coefficients for both factors are close to each other, a closer look at the t test of the two shows that we cannot reject the null hypothesis that the value of the coefficients is the same."
   ]
  }
 ],
 "metadata": {
  "kernelspec": {
   "display_name": "Python 3.4",
   "language": "python",
   "name": "python3.4"
  },
  "language_info": {
   "codemirror_mode": {
    "name": "ipython",
    "version": 3
   },
   "file_extension": ".py",
   "mimetype": "text/x-python",
   "name": "python",
   "nbconvert_exporter": "python",
   "pygments_lexer": "ipython3",
   "version": "3.4.3"
  }
 },
 "nbformat": 4,
 "nbformat_minor": 0
}
