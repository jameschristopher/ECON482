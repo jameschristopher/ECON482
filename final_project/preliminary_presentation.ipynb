{
 "cells": [
  {
   "cell_type": "code",
   "execution_count": 276,
   "metadata": {
    "collapsed": false
   },
   "outputs": [],
   "source": [
    "import Quandl\n",
    "import numpy as np\n",
    "from scipy import stats\n",
    "import statsmodels\n",
    "import statsmodels.api as sm\n",
    "from matplotlib import pyplot as plt\n",
    "%matplotlib inline\n",
    "import pandas as pd"
   ]
  },
  {
   "cell_type": "markdown",
   "metadata": {},
   "source": [
    "## Potential data scrubbing problems\n",
    " - mismatched dates\n",
    " - down/up sampling\n",
    " - NaN values\n"
   ]
  },
  {
   "cell_type": "code",
   "execution_count": 277,
   "metadata": {
    "collapsed": true
   },
   "outputs": [],
   "source": [
    "patents = Quandl.get(\"USPTO/PAT_ACT\")"
   ]
  },
  {
   "cell_type": "code",
   "execution_count": 278,
   "metadata": {
    "collapsed": false
   },
   "outputs": [
    {
     "data": {
      "text/html": [
       "<div>\n",
       "<table border=\"1\" class=\"dataframe\">\n",
       "  <thead>\n",
       "    <tr style=\"text-align: right;\">\n",
       "      <th></th>\n",
       "      <th>Utility Applications</th>\n",
       "      <th>Design Applications</th>\n",
       "      <th>Plant Applications</th>\n",
       "      <th>Utility Patents</th>\n",
       "      <th>Design Patents</th>\n",
       "      <th>Plant Patents</th>\n",
       "      <th>Patent Grants to Foreign Residents</th>\n",
       "    </tr>\n",
       "    <tr>\n",
       "      <th>Year</th>\n",
       "      <th></th>\n",
       "      <th></th>\n",
       "      <th></th>\n",
       "      <th></th>\n",
       "      <th></th>\n",
       "      <th></th>\n",
       "      <th></th>\n",
       "    </tr>\n",
       "  </thead>\n",
       "  <tbody>\n",
       "    <tr>\n",
       "      <th>2010-12-31</th>\n",
       "      <td>490226.0</td>\n",
       "      <td>29059.0</td>\n",
       "      <td>992.0</td>\n",
       "      <td>219614.0</td>\n",
       "      <td>22799.0</td>\n",
       "      <td>981.0</td>\n",
       "      <td>122694.0</td>\n",
       "    </tr>\n",
       "    <tr>\n",
       "      <th>2011-12-31</th>\n",
       "      <td>503582.0</td>\n",
       "      <td>30467.0</td>\n",
       "      <td>1139.0</td>\n",
       "      <td>224505.0</td>\n",
       "      <td>21356.0</td>\n",
       "      <td>823.0</td>\n",
       "      <td>125998.0</td>\n",
       "    </tr>\n",
       "    <tr>\n",
       "      <th>2012-12-31</th>\n",
       "      <td>542815.0</td>\n",
       "      <td>32799.0</td>\n",
       "      <td>1149.0</td>\n",
       "      <td>253155.0</td>\n",
       "      <td>21951.0</td>\n",
       "      <td>860.0</td>\n",
       "      <td>142180.0</td>\n",
       "    </tr>\n",
       "    <tr>\n",
       "      <th>2013-12-31</th>\n",
       "      <td>571612.0</td>\n",
       "      <td>36034.0</td>\n",
       "      <td>1406.0</td>\n",
       "      <td>277835.0</td>\n",
       "      <td>23468.0</td>\n",
       "      <td>847.0</td>\n",
       "      <td>154891.0</td>\n",
       "    </tr>\n",
       "    <tr>\n",
       "      <th>2014-12-31</th>\n",
       "      <td>578802.0</td>\n",
       "      <td>35378.0</td>\n",
       "      <td>1063.0</td>\n",
       "      <td>300678.0</td>\n",
       "      <td>23657.0</td>\n",
       "      <td>1072.0</td>\n",
       "      <td>167000.0</td>\n",
       "    </tr>\n",
       "  </tbody>\n",
       "</table>\n",
       "</div>"
      ],
      "text/plain": [
       "            Utility Applications  Design Applications  Plant Applications  \\\n",
       "Year                                                                        \n",
       "2010-12-31              490226.0              29059.0               992.0   \n",
       "2011-12-31              503582.0              30467.0              1139.0   \n",
       "2012-12-31              542815.0              32799.0              1149.0   \n",
       "2013-12-31              571612.0              36034.0              1406.0   \n",
       "2014-12-31              578802.0              35378.0              1063.0   \n",
       "\n",
       "            Utility Patents  Design Patents  Plant Patents  \\\n",
       "Year                                                         \n",
       "2010-12-31         219614.0         22799.0          981.0   \n",
       "2011-12-31         224505.0         21356.0          823.0   \n",
       "2012-12-31         253155.0         21951.0          860.0   \n",
       "2013-12-31         277835.0         23468.0          847.0   \n",
       "2014-12-31         300678.0         23657.0         1072.0   \n",
       "\n",
       "            Patent Grants to Foreign Residents  \n",
       "Year                                            \n",
       "2010-12-31                            122694.0  \n",
       "2011-12-31                            125998.0  \n",
       "2012-12-31                            142180.0  \n",
       "2013-12-31                            154891.0  \n",
       "2014-12-31                            167000.0  "
      ]
     },
     "execution_count": 278,
     "metadata": {},
     "output_type": "execute_result"
    }
   ],
   "source": [
    "patents.tail()"
   ]
  },
  {
   "cell_type": "code",
   "execution_count": 279,
   "metadata": {
    "collapsed": false
   },
   "outputs": [
    {
     "data": {
      "text/plain": [
       "<matplotlib.axes._subplots.AxesSubplot at 0x7f3c30a77208>"
      ]
     },
     "execution_count": 279,
     "metadata": {},
     "output_type": "execute_result"
    },
    {
     "data": {
      "image/png": "[encoded data removed]",
      "text/plain": [
       "<matplotlib.figure.Figure at 0x7f3c30b38080>"
      ]
     },
     "metadata": {},
     "output_type": "display_data"
    }
   ],
   "source": [
    "patents = patents[\"Utility Patents\"]\n",
    "patents.plot()"
   ]
  },
  {
   "cell_type": "markdown",
   "metadata": {},
   "source": [
    "## R&D spending as a factor"
   ]
  },
  {
   "cell_type": "code",
   "execution_count": 280,
   "metadata": {
    "collapsed": true
   },
   "outputs": [],
   "source": [
    "rd = Quandl.get(\"NSF/IND_R_D\")"
   ]
  },
  {
   "cell_type": "code",
   "execution_count": 281,
   "metadata": {
    "collapsed": false
   },
   "outputs": [
    {
     "data": {
      "text/html": [
       "<div>\n",
       "<table border=\"1\" class=\"dataframe\">\n",
       "  <thead>\n",
       "    <tr style=\"text-align: right;\">\n",
       "      <th></th>\n",
       "      <th>All Sources (Current $)</th>\n",
       "      <th>All Sources (Constant $)</th>\n",
       "      <th>Federal (Current $)</th>\n",
       "      <th>Federal (Constant $)</th>\n",
       "      <th>Company &amp; Other (Current $)</th>\n",
       "      <th>Company &amp; Other (Constant $)</th>\n",
       "    </tr>\n",
       "    <tr>\n",
       "      <th>Year</th>\n",
       "      <th></th>\n",
       "      <th></th>\n",
       "      <th></th>\n",
       "      <th></th>\n",
       "      <th></th>\n",
       "      <th></th>\n",
       "    </tr>\n",
       "  </thead>\n",
       "  <tbody>\n",
       "    <tr>\n",
       "      <th>1953-12-31</th>\n",
       "      <td>3630.0</td>\n",
       "      <td>19901.0</td>\n",
       "      <td>1430.0</td>\n",
       "      <td>7840.0</td>\n",
       "      <td>2200.0</td>\n",
       "      <td>12061.0</td>\n",
       "    </tr>\n",
       "    <tr>\n",
       "      <th>1954-12-31</th>\n",
       "      <td>4070.0</td>\n",
       "      <td>22096.0</td>\n",
       "      <td>1750.0</td>\n",
       "      <td>9501.0</td>\n",
       "      <td>2320.0</td>\n",
       "      <td>12595.0</td>\n",
       "    </tr>\n",
       "    <tr>\n",
       "      <th>1955-12-31</th>\n",
       "      <td>4640.0</td>\n",
       "      <td>24747.0</td>\n",
       "      <td>2180.0</td>\n",
       "      <td>11627.0</td>\n",
       "      <td>2460.0</td>\n",
       "      <td>13120.0</td>\n",
       "    </tr>\n",
       "    <tr>\n",
       "      <th>1956-12-31</th>\n",
       "      <td>6605.0</td>\n",
       "      <td>34064.0</td>\n",
       "      <td>3328.0</td>\n",
       "      <td>17163.0</td>\n",
       "      <td>3277.0</td>\n",
       "      <td>16900.0</td>\n",
       "    </tr>\n",
       "    <tr>\n",
       "      <th>1957-12-31</th>\n",
       "      <td>7731.0</td>\n",
       "      <td>38578.0</td>\n",
       "      <td>4335.0</td>\n",
       "      <td>21632.0</td>\n",
       "      <td>3396.0</td>\n",
       "      <td>16946.0</td>\n",
       "    </tr>\n",
       "  </tbody>\n",
       "</table>\n",
       "</div>"
      ],
      "text/plain": [
       "            All Sources (Current $)  All Sources (Constant $)  \\\n",
       "Year                                                            \n",
       "1953-12-31                   3630.0                   19901.0   \n",
       "1954-12-31                   4070.0                   22096.0   \n",
       "1955-12-31                   4640.0                   24747.0   \n",
       "1956-12-31                   6605.0                   34064.0   \n",
       "1957-12-31                   7731.0                   38578.0   \n",
       "\n",
       "            Federal (Current $)  Federal (Constant $)  \\\n",
       "Year                                                    \n",
       "1953-12-31               1430.0                7840.0   \n",
       "1954-12-31               1750.0                9501.0   \n",
       "1955-12-31               2180.0               11627.0   \n",
       "1956-12-31               3328.0               17163.0   \n",
       "1957-12-31               4335.0               21632.0   \n",
       "\n",
       "            Company & Other (Current $)  Company & Other (Constant $)  \n",
       "Year                                                                   \n",
       "1953-12-31                       2200.0                       12061.0  \n",
       "1954-12-31                       2320.0                       12595.0  \n",
       "1955-12-31                       2460.0                       13120.0  \n",
       "1956-12-31                       3277.0                       16900.0  \n",
       "1957-12-31                       3396.0                       16946.0  "
      ]
     },
     "execution_count": 281,
     "metadata": {},
     "output_type": "execute_result"
    }
   ],
   "source": [
    "rd.head()"
   ]
  },
  {
   "cell_type": "code",
   "execution_count": 282,
   "metadata": {
    "collapsed": false
   },
   "outputs": [],
   "source": [
    "rd = rd['All Sources (Current $)']\n",
    "rd.name = 'R&D Spending'"
   ]
  },
  {
   "cell_type": "code",
   "execution_count": 283,
   "metadata": {
    "collapsed": false
   },
   "outputs": [
    {
     "data": {
      "text/plain": [
       "<matplotlib.axes._subplots.AxesSubplot at 0x7f3c30c31cc0>"
      ]
     },
     "execution_count": 283,
     "metadata": {},
     "output_type": "execute_result"
    },
    {
     "data": {
      "image/png": "[encoded data removed]",
      "text/plain": [
       "<matplotlib.figure.Figure at 0x7f3c30c19f98>"
      ]
     },
     "metadata": {},
     "output_type": "display_data"
    }
   ],
   "source": [
    "rd.plot()"
   ]
  },
  {
   "cell_type": "code",
   "execution_count": 284,
   "metadata": {
    "collapsed": true
   },
   "outputs": [],
   "source": [
    "factors = pd.concat([rd], 1)"
   ]
  },
  {
   "cell_type": "code",
   "execution_count": 285,
   "metadata": {
    "collapsed": false
   },
   "outputs": [],
   "source": [
    "factors = factors.ffill().dropna()"
   ]
  },
  {
   "cell_type": "code",
   "execution_count": 286,
   "metadata": {
    "collapsed": false
   },
   "outputs": [
    {
     "data": {
      "text/html": [
       "<div>\n",
       "<table border=\"1\" class=\"dataframe\">\n",
       "  <thead>\n",
       "    <tr style=\"text-align: right;\">\n",
       "      <th></th>\n",
       "      <th>R&amp;D Spending</th>\n",
       "    </tr>\n",
       "    <tr>\n",
       "      <th>Year</th>\n",
       "      <th></th>\n",
       "    </tr>\n",
       "  </thead>\n",
       "  <tbody>\n",
       "    <tr>\n",
       "      <th>2001-12-31</th>\n",
       "      <td>202017.0</td>\n",
       "    </tr>\n",
       "    <tr>\n",
       "      <th>2002-12-31</th>\n",
       "      <td>193868.0</td>\n",
       "    </tr>\n",
       "    <tr>\n",
       "      <th>2003-12-31</th>\n",
       "      <td>200724.0</td>\n",
       "    </tr>\n",
       "    <tr>\n",
       "      <th>2004-12-31</th>\n",
       "      <td>208301.0</td>\n",
       "    </tr>\n",
       "    <tr>\n",
       "      <th>2005-12-31</th>\n",
       "      <td>226159.0</td>\n",
       "    </tr>\n",
       "  </tbody>\n",
       "</table>\n",
       "</div>"
      ],
      "text/plain": [
       "            R&D Spending\n",
       "Year                    \n",
       "2001-12-31      202017.0\n",
       "2002-12-31      193868.0\n",
       "2003-12-31      200724.0\n",
       "2004-12-31      208301.0\n",
       "2005-12-31      226159.0"
      ]
     },
     "execution_count": 286,
     "metadata": {},
     "output_type": "execute_result"
    }
   ],
   "source": [
    "factors.tail()"
   ]
  },
  {
   "cell_type": "code",
   "execution_count": 287,
   "metadata": {
    "collapsed": true
   },
   "outputs": [],
   "source": [
    "def trim_data(target, factors):\n",
    "    start = np.max([factors.index.min(), patents.index.min()])\n",
    "    end = np.min([factors.index.max(), patents.index.max()])\n",
    "    \n",
    "    factors = factors[start:end]\n",
    "    target = target[start:end]\n",
    "    \n",
    "    return target, factors"
   ]
  },
  {
   "cell_type": "code",
   "execution_count": 288,
   "metadata": {
    "collapsed": false
   },
   "outputs": [],
   "source": [
    "patents, factors = trim_data(patents, factors)"
   ]
  },
  {
   "cell_type": "code",
   "execution_count": 289,
   "metadata": {
    "collapsed": false
   },
   "outputs": [
    {
     "name": "stderr",
     "output_type": "stream",
     "text": [
      "/usr/local/lib/python3.4/dist-packages/matplotlib/collections.py:590: FutureWarning: elementwise comparison failed; returning scalar instead, but in the future will perform elementwise comparison\n",
      "  if self._edgecolors == str('face'):\n"
     ]
    },
    {
     "data": {
      "image/png": "[encoded data removed]",
      "text/plain": [
       "<matplotlib.figure.Figure at 0x7f3c30b0fb38>"
      ]
     },
     "metadata": {},
     "output_type": "display_data"
    }
   ],
   "source": [
    "plt.scatter(factors[\"R&D Spending\"], patents);"
   ]
  },
  {
   "cell_type": "markdown",
   "metadata": {},
   "source": [
    "## Run a quick regression"
   ]
  },
  {
   "cell_type": "code",
   "execution_count": 290,
   "metadata": {
    "collapsed": false
   },
   "outputs": [],
   "source": [
    "model_factors = sm.add_constant(factors)\n",
    "model = sm.OLS(patents, model_factors)\n",
    "results = model.fit()"
   ]
  },
  {
   "cell_type": "code",
   "execution_count": 292,
   "metadata": {
    "collapsed": false
   },
   "outputs": [
    {
     "data": {
      "text/html": [
       "<table class=\"simpletable\">\n",
       "<caption>OLS Regression Results</caption>\n",
       "<tr>\n",
       "  <th>Dep. Variable:</th>     <td>Utility Patents</td> <th>  R-squared:         </th> <td>   0.881</td>\n",
       "</tr>\n",
       "<tr>\n",
       "  <th>Model:</th>                   <td>OLS</td>       <th>  Adj. R-squared:    </th> <td>   0.878</td>\n",
       "</tr>\n",
       "<tr>\n",
       "  <th>Method:</th>             <td>Least Squares</td>  <th>  F-statistic:       </th> <td>   376.8</td>\n",
       "</tr>\n",
       "<tr>\n",
       "  <th>Date:</th>             <td>Wed, 23 Nov 2016</td> <th>  Prob (F-statistic):</th> <td>3.30e-25</td>\n",
       "</tr>\n",
       "<tr>\n",
       "  <th>Time:</th>                 <td>22:39:40</td>     <th>  Log-Likelihood:    </th> <td> -576.96</td>\n",
       "</tr>\n",
       "<tr>\n",
       "  <th>No. Observations:</th>      <td>    53</td>      <th>  AIC:               </th> <td>   1158.</td>\n",
       "</tr>\n",
       "<tr>\n",
       "  <th>Df Residuals:</th>          <td>    51</td>      <th>  BIC:               </th> <td>   1162.</td>\n",
       "</tr>\n",
       "<tr>\n",
       "  <th>Df Model:</th>              <td>     1</td>      <th>                     </th>     <td> </td>   \n",
       "</tr>\n",
       "<tr>\n",
       "  <th>Covariance Type:</th>      <td>nonrobust</td>    <th>                     </th>     <td> </td>   \n",
       "</tr>\n",
       "</table>\n",
       "<table class=\"simpletable\">\n",
       "<tr>\n",
       "        <td></td>          <th>coef</th>     <th>std err</th>      <th>t</th>      <th>P>|t|</th> <th>[95.0% Conf. Int.]</th> \n",
       "</tr>\n",
       "<tr>\n",
       "  <th>const</th>        <td> 4.484e+04</td> <td> 2629.162</td> <td>   17.054</td> <td> 0.000</td> <td> 3.96e+04  5.01e+04</td>\n",
       "</tr>\n",
       "<tr>\n",
       "  <th>R&D Spending</th> <td>    0.5163</td> <td>    0.027</td> <td>   19.412</td> <td> 0.000</td> <td>    0.463     0.570</td>\n",
       "</tr>\n",
       "</table>\n",
       "<table class=\"simpletable\">\n",
       "<tr>\n",
       "  <th>Omnibus:</th>       <td>13.978</td> <th>  Durbin-Watson:     </th> <td>   0.498</td>\n",
       "</tr>\n",
       "<tr>\n",
       "  <th>Prob(Omnibus):</th> <td> 0.001</td> <th>  Jarque-Bera (JB):  </th> <td>   3.542</td>\n",
       "</tr>\n",
       "<tr>\n",
       "  <th>Skew:</th>          <td> 0.179</td> <th>  Prob(JB):          </th> <td>   0.170</td>\n",
       "</tr>\n",
       "<tr>\n",
       "  <th>Kurtosis:</th>      <td> 1.785</td> <th>  Cond. No.          </th> <td>1.44e+05</td>\n",
       "</tr>\n",
       "</table>"
      ],
      "text/plain": [
       "<class 'statsmodels.iolib.summary.Summary'>\n",
       "\"\"\"\n",
       "                            OLS Regression Results                            \n",
       "==============================================================================\n",
       "Dep. Variable:        Utility Patents   R-squared:                       0.881\n",
       "Model:                            OLS   Adj. R-squared:                  0.878\n",
       "Method:                 Least Squares   F-statistic:                     376.8\n",
       "Date:                Wed, 23 Nov 2016   Prob (F-statistic):           3.30e-25\n",
       "Time:                        22:39:40   Log-Likelihood:                -576.96\n",
       "No. Observations:                  53   AIC:                             1158.\n",
       "Df Residuals:                      51   BIC:                             1162.\n",
       "Df Model:                           1                                         \n",
       "Covariance Type:            nonrobust                                         \n",
       "================================================================================\n",
       "                   coef    std err          t      P>|t|      [95.0% Conf. Int.]\n",
       "--------------------------------------------------------------------------------\n",
       "const         4.484e+04   2629.162     17.054      0.000      3.96e+04  5.01e+04\n",
       "R&D Spending     0.5163      0.027     19.412      0.000         0.463     0.570\n",
       "==============================================================================\n",
       "Omnibus:                       13.978   Durbin-Watson:                   0.498\n",
       "Prob(Omnibus):                  0.001   Jarque-Bera (JB):                3.542\n",
       "Skew:                           0.179   Prob(JB):                        0.170\n",
       "Kurtosis:                       1.785   Cond. No.                     1.44e+05\n",
       "==============================================================================\n",
       "\n",
       "Warnings:\n",
       "[1] Standard Errors assume that the covariance matrix of the errors is correctly specified.\n",
       "[2] The condition number is large, 1.44e+05. This might indicate that there are\n",
       "strong multicollinearity or other numerical problems.\n",
       "\"\"\""
      ]
     },
     "execution_count": 292,
     "metadata": {},
     "output_type": "execute_result"
    }
   ],
   "source": [
    "results.summary()"
   ]
  },
  {
   "cell_type": "markdown",
   "metadata": {},
   "source": [
    "## Maybe corporate taxes"
   ]
  },
  {
   "cell_type": "code",
   "execution_count": 293,
   "metadata": {
    "collapsed": true
   },
   "outputs": [],
   "source": [
    "taxes = Quandl.get(\"TPC/G7_HIST_CORP\")"
   ]
  },
  {
   "cell_type": "code",
   "execution_count": 294,
   "metadata": {
    "collapsed": false
   },
   "outputs": [
    {
     "name": "stderr",
     "output_type": "stream",
     "text": [
      "/usr/local/lib/python3.4/dist-packages/matplotlib/collections.py:590: FutureWarning: elementwise comparison failed; returning scalar instead, but in the future will perform elementwise comparison\n",
      "  if self._edgecolors == str('face'):\n"
     ]
    },
    {
     "data": {
      "image/png": "[encoded data removed]",
      "text/plain": [
       "<matplotlib.figure.Figure at 0x7f3c30a4e048>"
      ]
     },
     "metadata": {},
     "output_type": "display_data"
    }
   ],
   "source": [
    "plt.scatter(taxes[\"US\"][-20:], patents[-20:]);"
   ]
  },
  {
   "cell_type": "code",
   "execution_count": 295,
   "metadata": {
    "collapsed": false
   },
   "outputs": [
    {
     "data": {
      "text/plain": [
       "<matplotlib.axes._subplots.AxesSubplot at 0x7f3c309a2e10>"
      ]
     },
     "execution_count": 295,
     "metadata": {},
     "output_type": "execute_result"
    },
    {
     "data": {
      "image/png": "[encoded data removed]",
      "text/plain": [
       "<matplotlib.figure.Figure at 0x7f3c30a67748>"
      ]
     },
     "metadata": {},
     "output_type": "display_data"
    }
   ],
   "source": [
    "taxes[\"US\"].plot()"
   ]
  },
  {
   "cell_type": "markdown",
   "metadata": {},
   "source": [
    "# What can affect the results that is hard to model?\n",
    "\n",
    "- presidential election, changing patent laws, etc.\n",
    "\n",
    "# Things to keep in mind\n",
    "- Are we observing the effects or the driver?\n",
    "- Correlated regressors?\n",
    "- Guard against overfitting\n",
    "- Are we trying to predict the right thing? Should we be trying to predict the growth rate of patents?\n",
    "\n",
    "\n",
    "# Tools\n",
    "\n",
    "- stata? python?\n",
    "\n",
    "- which ecosystem will best fulfill our needs?\n",
    "\n",
    "\n",
    "# Next steps\n",
    "\n",
    "- Feature selection\n",
    "- Split training and testing dataset\n",
    "- Fit model\n",
    "- Cross validation\n",
    "- Validate model on other countries\n",
    "\n",
    "# Future...\n",
    "\n",
    "- Train an ML model (logistic regression, boosting, etc.)"
   ]
  },
  {
   "cell_type": "code",
   "execution_count": null,
   "metadata": {
    "collapsed": true
   },
   "outputs": [],
   "source": []
  }
 ],
 "metadata": {
  "kernelspec": {
   "display_name": "Python 3.4",
   "language": "python",
   "name": "python3.4"
  },
  "language_info": {
   "codemirror_mode": {
    "name": "ipython",
    "version": 3
   },
   "file_extension": ".py",
   "mimetype": "text/x-python",
   "name": "python",
   "nbconvert_exporter": "python",
   "pygments_lexer": "ipython3",
   "version": "3.4.3"
  }
 },
 "nbformat": 4,
 "nbformat_minor": 0
}
