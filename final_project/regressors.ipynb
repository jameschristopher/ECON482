{
 "cells": [
  {
   "cell_type": "code",
   "execution_count": 1324,
   "metadata": {
    "collapsed": false
   },
   "outputs": [],
   "source": [
    "import Quandl\n",
    "import numpy as np\n",
    "from scipy import stats\n",
    "import statsmodels\n",
    "import statsmodels.api as sm\n",
    "from matplotlib import pyplot as plt\n",
    "import itertools\n",
    "%matplotlib inline\n",
    "import pandas as pd\n",
    "from sklearn.linear_model import LinearRegression\n",
    "from sklearn.feature_selection import RFECV\n",
    "from sklearn.model_selection import train_test_split\n",
    "from sklearn.metrics import r2_score, mean_squared_error\n",
    "from statsmodels.stats.diagnostic import het_white, het_breushpagan\n",
    "from statsmodels.tsa.stattools import coint, adfuller"
   ]
  },
  {
   "cell_type": "code",
   "execution_count": 1325,
   "metadata": {
    "collapsed": false
   },
   "outputs": [],
   "source": [
    "QUANDL_API_KEY = 'MNJzKfdjWBuixA5t61h1'\n",
    "\n",
    "def get_quandl_data(code):\n",
    "    return Quandl.get(code, authtoken=QUANDL_API_KEY)"
   ]
  },
  {
   "cell_type": "code",
   "execution_count": 1326,
   "metadata": {
    "collapsed": false
   },
   "outputs": [],
   "source": [
    "def check_for_stationarity(X, cutoff=0.01):\n",
    "    # H_0 in adfuller is unit root exists (non-stationary)\n",
    "    # We must observe significant p-value to convince ourselves that the series is stationary\n",
    "    pvalue = adfuller(X)[1]\n",
    "    if pvalue < cutoff:\n",
    "        print('p-value = ' + str(pvalue) + ' The series ' + X.name +' is likely stationary.')\n",
    "        return True\n",
    "    else:\n",
    "        print('p-value = ' + str(pvalue) + ' The series ' + X.name +' is likely non-stationary.')\n",
    "        return False"
   ]
  },
  {
   "cell_type": "markdown",
   "metadata": {},
   "source": [
    "### [Number of new utility patents](https://www.quandl.com/data/USPTO/PAT_ACT-U-S-Patent-Activity)"
   ]
  },
  {
   "cell_type": "code",
   "execution_count": 1327,
   "metadata": {
    "collapsed": false
   },
   "outputs": [],
   "source": [
    "patents = get_quandl_data(\"USPTO/PAT_ACT\")\n",
    "patents = patents['Utility Patents']"
   ]
  },
  {
   "cell_type": "code",
   "execution_count": 1328,
   "metadata": {
    "collapsed": false
   },
   "outputs": [],
   "source": [
    "patent_growth = patents.cumsum().pct_change()"
   ]
  },
  {
   "cell_type": "code",
   "execution_count": 1329,
   "metadata": {
    "collapsed": false
   },
   "outputs": [
    {
     "data": {
      "text/plain": [
       "Year\n",
       "1790-12-31          NaN\n",
       "1791-12-31    11.000000\n",
       "1792-12-31     0.305556\n",
       "1793-12-31     0.425532\n",
       "1794-12-31     0.328358\n",
       "Name: Utility Patents, dtype: float64"
      ]
     },
     "execution_count": 1329,
     "metadata": {},
     "output_type": "execute_result"
    }
   ],
   "source": [
    "patent_growth.head()"
   ]
  },
  {
   "cell_type": "code",
   "execution_count": 1330,
   "metadata": {
    "collapsed": false
   },
   "outputs": [
    {
     "data": {
      "text/plain": [
       "<matplotlib.axes._subplots.AxesSubplot at 0x7f11f18134a8>"
      ]
     },
     "execution_count": 1330,
     "metadata": {},
     "output_type": "execute_result"
    },
    {
     "data": {
      "image/png": "[encoded data removed]",
      "text/plain": [
       "<matplotlib.figure.Figure at 0x7f11f1b78cf8>"
      ]
     },
     "metadata": {},
     "output_type": "display_data"
    }
   ],
   "source": [
    "patent_growth[-200:].plot()"
   ]
  },
  {
   "cell_type": "code",
   "execution_count": 1331,
   "metadata": {
    "collapsed": false
   },
   "outputs": [
    {
     "name": "stdout",
     "output_type": "stream",
     "text": [
      "p-value = 0.355535878157 The series Utility Patents is likely non-stationary.\n"
     ]
    },
    {
     "data": {
      "text/plain": [
       "False"
      ]
     },
     "execution_count": 1331,
     "metadata": {},
     "output_type": "execute_result"
    }
   ],
   "source": [
    "check_for_stationarity(patent_growth[-200:])"
   ]
  },
  {
   "cell_type": "markdown",
   "metadata": {},
   "source": [
    "### [Natural resource rents as a percentage of GDP](https://www.quandl.com/data/WWDI/USA_NY_GDP_TOTL_RT_ZS-Total-natural-resources-rents-of-GDP-United-States)"
   ]
  },
  {
   "cell_type": "code",
   "execution_count": 1332,
   "metadata": {
    "collapsed": false
   },
   "outputs": [],
   "source": [
    "natural_resources = get_quandl_data(\"WWDI/USA_NY_GDP_TOTL_RT_ZS\")['Value']\n",
    "natural_resources.name = 'Natural Resources'\n",
    "# natural_resources /= 100\n",
    "natural_resources = natural_resources.pct_change()"
   ]
  },
  {
   "cell_type": "code",
   "execution_count": 1333,
   "metadata": {
    "collapsed": false
   },
   "outputs": [
    {
     "data": {
      "text/plain": [
       "Date\n",
       "1970-12-31         NaN\n",
       "1971-12-31    0.034829\n",
       "1972-12-31   -0.054660\n",
       "1973-12-31    0.322839\n",
       "1974-12-31    1.743516\n",
       "Name: Natural Resources, dtype: float64"
      ]
     },
     "execution_count": 1333,
     "metadata": {},
     "output_type": "execute_result"
    }
   ],
   "source": [
    "natural_resources.head()"
   ]
  },
  {
   "cell_type": "markdown",
   "metadata": {},
   "source": [
    "### [Government R&D investment](https://fred.stlouisfed.org/series/Y057RA3A086NBEA)"
   ]
  },
  {
   "cell_type": "code",
   "execution_count": 1334,
   "metadata": {
    "collapsed": true
   },
   "outputs": [],
   "source": [
    "# rd_public = pd.read_csv('rd_public.csv', index_col='DATE', parse_dates=True)['Y057RA3A086NBEA']\n",
    "rd_public = get_quandl_data('FRED/Y057RL1A225NBEA')['VALUE']\n",
    "rd_public.name = 'R&D Public'\n",
    "rd_public = rd_public.resample('A').first()\n",
    "rd_public /= 100"
   ]
  },
  {
   "cell_type": "code",
   "execution_count": 1335,
   "metadata": {
    "collapsed": false
   },
   "outputs": [
    {
     "data": {
      "text/plain": [
       "(DATE\n",
       " 1930-12-31    0.367\n",
       " 1931-12-31    0.203\n",
       " 1932-12-31    0.259\n",
       " 1933-12-31   -0.031\n",
       " 1934-12-31   -0.151\n",
       " Freq: A-DEC, Name: R&D Public, dtype: float64, DATE\n",
       " 2011-12-31   -0.011\n",
       " 2012-12-31   -0.036\n",
       " 2013-12-31   -0.022\n",
       " 2014-12-31   -0.041\n",
       " 2015-12-31   -0.005\n",
       " Freq: A-DEC, Name: R&D Public, dtype: float64)"
      ]
     },
     "execution_count": 1335,
     "metadata": {},
     "output_type": "execute_result"
    }
   ],
   "source": [
    "rd_public.head(), rd_public.tail()"
   ]
  },
  {
   "cell_type": "markdown",
   "metadata": {},
   "source": [
    "### [Private R&D investment](https://fred.stlouisfed.org/series/Y006RA3A086NBEA)"
   ]
  },
  {
   "cell_type": "code",
   "execution_count": 1336,
   "metadata": {
    "collapsed": true
   },
   "outputs": [],
   "source": [
    "# rd_private = pd.read_csv('rd_private.csv', index_col='DATE', parse_dates=True)['Y006RA3A086NBEA']\n",
    "rd_private = get_quandl_data('FRED/Y006RL1A225NBEA')['VALUE']\n",
    "rd_private.name = 'R&D Private'\n",
    "rd_private = rd_private.resample('A').first()\n",
    "rd_private /= 100"
   ]
  },
  {
   "cell_type": "code",
   "execution_count": 1337,
   "metadata": {
    "collapsed": false
   },
   "outputs": [
    {
     "data": {
      "text/plain": [
       "(DATE\n",
       " 1930-12-31    0.110\n",
       " 1931-12-31    0.210\n",
       " 1932-12-31   -0.003\n",
       " 1933-12-31    0.013\n",
       " 1934-12-31    0.137\n",
       " Freq: A-DEC, Name: R&D Private, dtype: float64, DATE\n",
       " 2011-12-31    0.010\n",
       " 2012-12-31    0.026\n",
       " 2013-12-31    0.046\n",
       " 2014-12-31    0.028\n",
       " 2015-12-31    0.035\n",
       " Freq: A-DEC, Name: R&D Private, dtype: float64)"
      ]
     },
     "execution_count": 1337,
     "metadata": {},
     "output_type": "execute_result"
    }
   ],
   "source": [
    "rd_private.head(), rd_private.tail()"
   ]
  },
  {
   "cell_type": "markdown",
   "metadata": {},
   "source": [
    "### [Number of doctorates](https://www.quandl.com/data/NSF/DOCTORATES--Doctorate-Recipients-from-U-S-Colleges-and-Universities)"
   ]
  },
  {
   "cell_type": "code",
   "execution_count": 1338,
   "metadata": {
    "collapsed": false
   },
   "outputs": [],
   "source": [
    "doctorates = get_quandl_data(\"NSF/DOCTORATES\")['Number']\n",
    "doctorates.name = '# of Doctorates'\n",
    "doctorates = doctorates.shift(-1, freq='D')\n",
    "doctorates = doctorates.pct_change()"
   ]
  },
  {
   "cell_type": "code",
   "execution_count": 1339,
   "metadata": {
    "collapsed": false
   },
   "outputs": [
    {
     "data": {
      "text/plain": [
       "Year\n",
       "1956-12-31         NaN\n",
       "1957-12-31    0.018813\n",
       "1958-12-31    0.050154\n",
       "1959-12-31    0.056442\n",
       "1960-12-31    0.069865\n",
       "Freq: A-DEC, Name: # of Doctorates, dtype: float64"
      ]
     },
     "execution_count": 1339,
     "metadata": {},
     "output_type": "execute_result"
    }
   ],
   "source": [
    "doctorates.head()"
   ]
  },
  {
   "cell_type": "markdown",
   "metadata": {},
   "source": [
    "### [Number of venture capital deals](https://www.quandl.com/data/NVCA/VENTURE_3_11-Venture-Capital-Investments-By-State-Number-of-Deals)"
   ]
  },
  {
   "cell_type": "code",
   "execution_count": 1340,
   "metadata": {
    "collapsed": false
   },
   "outputs": [],
   "source": [
    "venture_capital = get_quandl_data(\"NVCA/VENTURE_3_11\")['Total']\n",
    "venture_capital.name = '# of VC Deals'\n",
    "venture_capital = venture_capital.pct_change()"
   ]
  },
  {
   "cell_type": "code",
   "execution_count": 1341,
   "metadata": {
    "collapsed": false
   },
   "outputs": [
    {
     "data": {
      "text/plain": [
       "Year\n",
       "1985-12-31         NaN\n",
       "1986-12-31    0.056506\n",
       "1987-12-31    0.158339\n",
       "1988-12-31   -0.072904\n",
       "1989-12-31    0.011796\n",
       "Name: # of VC Deals, dtype: float64"
      ]
     },
     "execution_count": 1341,
     "metadata": {},
     "output_type": "execute_result"
    }
   ],
   "source": [
    "venture_capital.head()"
   ]
  },
  {
   "cell_type": "markdown",
   "metadata": {},
   "source": [
    "### [Unemployment rate](https://www.quandl.com/data/FRED/UNRATE-Civilian-Unemployment-Rate)"
   ]
  },
  {
   "cell_type": "code",
   "execution_count": 1342,
   "metadata": {
    "collapsed": false
   },
   "outputs": [],
   "source": [
    "unemployment = get_quandl_data(\"FRED/UNRATE\")['VALUE']\n",
    "unemployment = unemployment.shift(-1, freq='D')\n",
    "unemployment = unemployment.resample('A').first()\n",
    "unemployment.name = \"Unemployment rate (%)\"\n",
    "unemployment /= 100"
   ]
  },
  {
   "cell_type": "code",
   "execution_count": 1343,
   "metadata": {
    "collapsed": false
   },
   "outputs": [
    {
     "data": {
      "text/plain": [
       "DATE\n",
       "1947-12-31    0.034\n",
       "1948-12-31    0.038\n",
       "1949-12-31    0.047\n",
       "1950-12-31    0.064\n",
       "1951-12-31    0.034\n",
       "Freq: A-DEC, Name: Unemployment rate (%), dtype: float64"
      ]
     },
     "execution_count": 1343,
     "metadata": {},
     "output_type": "execute_result"
    }
   ],
   "source": [
    "unemployment.head()"
   ]
  },
  {
   "cell_type": "markdown",
   "metadata": {},
   "source": [
    "### [Immigration](http://www.migrationpolicy.org/programs/data-hub/charts/immigrant-population-over-time?width=1000&height=850&iframe=true)"
   ]
  },
  {
   "cell_type": "code",
   "execution_count": 1344,
   "metadata": {
    "collapsed": false
   },
   "outputs": [],
   "source": [
    "immigration = pd.read_csv('us_immigration.csv', index_col='Year', thousands=',', parse_dates=True)['Number of Legal Permanent Residents']\n",
    "immigration.name = 'New Legal Permanent Residents'\n",
    "immigration = immigration.shift(-1, freq='D')\n",
    "immigration = immigration.pct_change()"
   ]
  },
  {
   "cell_type": "code",
   "execution_count": 1345,
   "metadata": {
    "collapsed": false
   },
   "outputs": [
    {
     "data": {
      "text/plain": [
       "Year\n",
       "1819-12-31         NaN\n",
       "1820-12-31    0.088491\n",
       "1821-12-31   -0.242796\n",
       "1822-12-31   -0.080596\n",
       "1823-12-31    0.245200\n",
       "Freq: A-DEC, Name: New Legal Permanent Residents, dtype: float64"
      ]
     },
     "execution_count": 1345,
     "metadata": {},
     "output_type": "execute_result"
    }
   ],
   "source": [
    "immigration.head()"
   ]
  },
  {
   "cell_type": "markdown",
   "metadata": {},
   "source": [
    "### [Inflation](https://www.quandl.com/data/WORLDBANK/USA_FP_CPI_TOTL_ZG-United-States-Inflation-consumer-prices-annual)"
   ]
  },
  {
   "cell_type": "code",
   "execution_count": 1346,
   "metadata": {
    "collapsed": true
   },
   "outputs": [],
   "source": [
    "cpi = get_quandl_data('WORLDBANK/USA_FP_CPI_TOTL_ZG')['Value']\n",
    "cpi.name = 'CPI'"
   ]
  },
  {
   "cell_type": "code",
   "execution_count": 1347,
   "metadata": {
    "collapsed": false
   },
   "outputs": [
    {
     "data": {
      "text/plain": [
       "Date\n",
       "1961-12-31    1.075182\n",
       "1962-12-31    1.116071\n",
       "1963-12-31    1.214128\n",
       "1964-12-31    1.308615\n",
       "1965-12-31    1.668461\n",
       "Name: CPI, dtype: float64"
      ]
     },
     "execution_count": 1347,
     "metadata": {},
     "output_type": "execute_result"
    }
   ],
   "source": [
    "cpi.head()"
   ]
  },
  {
   "cell_type": "markdown",
   "metadata": {},
   "source": [
    "### [Post-secondary school enrollment](https://www.quandl.com/data/WORLDBANK/USA_SE_TER_ENRR-United-States-School-enrollment-tertiary-gross)"
   ]
  },
  {
   "cell_type": "code",
   "execution_count": 1348,
   "metadata": {
    "collapsed": true
   },
   "outputs": [],
   "source": [
    "tertiary_education_enrollment = get_quandl_data(\"WORLDBANK/USA_SE_TER_ENRR\")['Value']\n",
    "tertiary_education_enrollment.name = 'Post-secondary school enrollment (%)'\n",
    "tertiary_education_enrollment /= 100\n",
    "tertiary_education_enrollment = tertiary_education_enrollment.pct_change()"
   ]
  },
  {
   "cell_type": "code",
   "execution_count": 1349,
   "metadata": {
    "collapsed": false
   },
   "outputs": [
    {
     "data": {
      "text/plain": [
       "Date\n",
       "1971-12-31         NaN\n",
       "1972-12-31    0.019821\n",
       "1973-12-31    0.011592\n",
       "1974-12-31    0.008891\n",
       "1975-12-31    0.042437\n",
       "Name: Post-secondary school enrollment (%), dtype: float64"
      ]
     },
     "execution_count": 1349,
     "metadata": {},
     "output_type": "execute_result"
    }
   ],
   "source": [
    "tertiary_education_enrollment.head()"
   ]
  },
  {
   "cell_type": "markdown",
   "metadata": {},
   "source": [
    "### [Number of IPOs](https://www.quandl.com/data/RITTER/US_IPO_STATS-Historical-US-IPO-Statistics)"
   ]
  },
  {
   "cell_type": "code",
   "execution_count": 1350,
   "metadata": {
    "collapsed": false
   },
   "outputs": [],
   "source": [
    "ipos = get_quandl_data(\"RITTER/US_IPO_STATS\")['Gross Number of IPOs']\n",
    "ipos.name = \"# of IPOs\"\n",
    "ipos = ipos.resample('A').sum()"
   ]
  },
  {
   "cell_type": "code",
   "execution_count": 1351,
   "metadata": {
    "collapsed": false
   },
   "outputs": [],
   "source": [
    "ipos = ipos.pct_change()"
   ]
  },
  {
   "cell_type": "code",
   "execution_count": 1352,
   "metadata": {
    "collapsed": false
   },
   "outputs": [
    {
     "data": {
      "text/plain": [
       "Date\n",
       "1960-12-31         NaN\n",
       "1961-12-31    0.617100\n",
       "1962-12-31   -0.314943\n",
       "1963-12-31   -0.721477\n",
       "1964-12-31    0.168675\n",
       "Freq: A-DEC, Name: # of IPOs, dtype: float64"
      ]
     },
     "execution_count": 1352,
     "metadata": {},
     "output_type": "execute_result"
    }
   ],
   "source": [
    "ipos.head()"
   ]
  },
  {
   "cell_type": "markdown",
   "metadata": {},
   "source": [
    "### [% of degrees that are STEM](https://www.nsf.gov/statistics/data.cfm)"
   ]
  },
  {
   "cell_type": "code",
   "execution_count": 1353,
   "metadata": {
    "collapsed": false
   },
   "outputs": [],
   "source": [
    "stem_degree_percent = pd.read_csv(\"stem_degrees.csv\", index_col='year', parse_dates=True)\n",
    "stem_degree_percent /= 100\n",
    "stem_degree_percent = stem_degree_percent.resample('A').first()\n",
    "stem_degree_percent = stem_degree_percent['Doctorate']\n",
    "stem_degree_percent.name = \"% of doctorates that are STEM\"\n",
    "stem_degree_percent = stem_degree_percent.pct_change()"
   ]
  },
  {
   "cell_type": "code",
   "execution_count": 1354,
   "metadata": {
    "collapsed": false
   },
   "outputs": [
    {
     "data": {
      "text/plain": [
       "year\n",
       "1966-12-31         NaN\n",
       "1967-12-31   -0.003101\n",
       "1968-12-31   -0.007776\n",
       "1969-12-31   -0.007837\n",
       "1970-12-31   -0.033175\n",
       "Freq: A-DEC, Name: % of doctorates that are STEM, dtype: float64"
      ]
     },
     "execution_count": 1354,
     "metadata": {},
     "output_type": "execute_result"
    }
   ],
   "source": [
    "stem_degree_percent.head()"
   ]
  },
  {
   "cell_type": "code",
   "execution_count": 1355,
   "metadata": {
    "collapsed": false
   },
   "outputs": [],
   "source": [
    "list_of_factors = [\n",
    "    natural_resources,\n",
    "    rd_public,\n",
    "    rd_private,\n",
    "    doctorates,\n",
    "#     venture_capital,\n",
    "#     unemployment,\n",
    "    immigration,\n",
    "#     cpi,\n",
    "    tertiary_education_enrollment,\n",
    "    stem_degree_percent,\n",
    "    ipos\n",
    "]"
   ]
  },
  {
   "cell_type": "code",
   "execution_count": 1356,
   "metadata": {
    "collapsed": true
   },
   "outputs": [],
   "source": [
    "factors = pd.concat(list_of_factors, 1)"
   ]
  },
  {
   "cell_type": "code",
   "execution_count": 1357,
   "metadata": {
    "collapsed": false
   },
   "outputs": [
    {
     "data": {
      "text/html": [
       "<div>\n",
       "<table border=\"1\" class=\"dataframe\">\n",
       "  <thead>\n",
       "    <tr style=\"text-align: right;\">\n",
       "      <th></th>\n",
       "      <th>Natural Resources</th>\n",
       "      <th>R&amp;D Public</th>\n",
       "      <th>R&amp;D Private</th>\n",
       "      <th># of Doctorates</th>\n",
       "      <th>New Legal Permanent Residents</th>\n",
       "      <th>Post-secondary school enrollment (%)</th>\n",
       "      <th>% of doctorates that are STEM</th>\n",
       "      <th># of IPOs</th>\n",
       "    </tr>\n",
       "  </thead>\n",
       "  <tbody>\n",
       "    <tr>\n",
       "      <th>1819-12-31</th>\n",
       "      <td>NaN</td>\n",
       "      <td>NaN</td>\n",
       "      <td>NaN</td>\n",
       "      <td>NaN</td>\n",
       "      <td>NaN</td>\n",
       "      <td>NaN</td>\n",
       "      <td>NaN</td>\n",
       "      <td>NaN</td>\n",
       "    </tr>\n",
       "    <tr>\n",
       "      <th>1820-12-31</th>\n",
       "      <td>NaN</td>\n",
       "      <td>NaN</td>\n",
       "      <td>NaN</td>\n",
       "      <td>NaN</td>\n",
       "      <td>0.088491</td>\n",
       "      <td>NaN</td>\n",
       "      <td>NaN</td>\n",
       "      <td>NaN</td>\n",
       "    </tr>\n",
       "    <tr>\n",
       "      <th>1821-12-31</th>\n",
       "      <td>NaN</td>\n",
       "      <td>NaN</td>\n",
       "      <td>NaN</td>\n",
       "      <td>NaN</td>\n",
       "      <td>-0.242796</td>\n",
       "      <td>NaN</td>\n",
       "      <td>NaN</td>\n",
       "      <td>NaN</td>\n",
       "    </tr>\n",
       "    <tr>\n",
       "      <th>1822-12-31</th>\n",
       "      <td>NaN</td>\n",
       "      <td>NaN</td>\n",
       "      <td>NaN</td>\n",
       "      <td>NaN</td>\n",
       "      <td>-0.080596</td>\n",
       "      <td>NaN</td>\n",
       "      <td>NaN</td>\n",
       "      <td>NaN</td>\n",
       "    </tr>\n",
       "    <tr>\n",
       "      <th>1823-12-31</th>\n",
       "      <td>NaN</td>\n",
       "      <td>NaN</td>\n",
       "      <td>NaN</td>\n",
       "      <td>NaN</td>\n",
       "      <td>0.245200</td>\n",
       "      <td>NaN</td>\n",
       "      <td>NaN</td>\n",
       "      <td>NaN</td>\n",
       "    </tr>\n",
       "  </tbody>\n",
       "</table>\n",
       "</div>"
      ],
      "text/plain": [
       "            Natural Resources  R&D Public  R&D Private  # of Doctorates  \\\n",
       "1819-12-31                NaN         NaN          NaN              NaN   \n",
       "1820-12-31                NaN         NaN          NaN              NaN   \n",
       "1821-12-31                NaN         NaN          NaN              NaN   \n",
       "1822-12-31                NaN         NaN          NaN              NaN   \n",
       "1823-12-31                NaN         NaN          NaN              NaN   \n",
       "\n",
       "            New Legal Permanent Residents  \\\n",
       "1819-12-31                            NaN   \n",
       "1820-12-31                       0.088491   \n",
       "1821-12-31                      -0.242796   \n",
       "1822-12-31                      -0.080596   \n",
       "1823-12-31                       0.245200   \n",
       "\n",
       "            Post-secondary school enrollment (%)  \\\n",
       "1819-12-31                                   NaN   \n",
       "1820-12-31                                   NaN   \n",
       "1821-12-31                                   NaN   \n",
       "1822-12-31                                   NaN   \n",
       "1823-12-31                                   NaN   \n",
       "\n",
       "            % of doctorates that are STEM  # of IPOs  \n",
       "1819-12-31                            NaN        NaN  \n",
       "1820-12-31                            NaN        NaN  \n",
       "1821-12-31                            NaN        NaN  \n",
       "1822-12-31                            NaN        NaN  \n",
       "1823-12-31                            NaN        NaN  "
      ]
     },
     "execution_count": 1357,
     "metadata": {},
     "output_type": "execute_result"
    }
   ],
   "source": [
    "factors.head()"
   ]
  },
  {
   "cell_type": "code",
   "execution_count": 1358,
   "metadata": {
    "collapsed": false
   },
   "outputs": [
    {
     "data": {
      "text/html": [
       "<div>\n",
       "<table border=\"1\" class=\"dataframe\">\n",
       "  <thead>\n",
       "    <tr style=\"text-align: right;\">\n",
       "      <th></th>\n",
       "      <th>Natural Resources</th>\n",
       "      <th>R&amp;D Public</th>\n",
       "      <th>R&amp;D Private</th>\n",
       "      <th># of Doctorates</th>\n",
       "      <th>New Legal Permanent Residents</th>\n",
       "      <th>Post-secondary school enrollment (%)</th>\n",
       "      <th>% of doctorates that are STEM</th>\n",
       "      <th># of IPOs</th>\n",
       "    </tr>\n",
       "  </thead>\n",
       "  <tbody>\n",
       "    <tr>\n",
       "      <th>2011-12-31</th>\n",
       "      <td>0.338448</td>\n",
       "      <td>-0.011</td>\n",
       "      <td>0.010</td>\n",
       "      <td>NaN</td>\n",
       "      <td>-0.028633</td>\n",
       "      <td>0.021851</td>\n",
       "      <td>0.021739</td>\n",
       "      <td>-0.086294</td>\n",
       "    </tr>\n",
       "    <tr>\n",
       "      <th>2012-12-31</th>\n",
       "      <td>-0.199140</td>\n",
       "      <td>-0.036</td>\n",
       "      <td>0.026</td>\n",
       "      <td>NaN</td>\n",
       "      <td>-0.039819</td>\n",
       "      <td>-0.011069</td>\n",
       "      <td>-0.004255</td>\n",
       "      <td>-0.005556</td>\n",
       "    </tr>\n",
       "    <tr>\n",
       "      <th>2013-12-31</th>\n",
       "      <td>-0.080175</td>\n",
       "      <td>-0.022</td>\n",
       "      <td>0.046</td>\n",
       "      <td>NaN</td>\n",
       "      <td>0.026213</td>\n",
       "      <td>-0.055096</td>\n",
       "      <td>NaN</td>\n",
       "      <td>0.407821</td>\n",
       "    </tr>\n",
       "    <tr>\n",
       "      <th>2014-12-31</th>\n",
       "      <td>-0.191706</td>\n",
       "      <td>-0.041</td>\n",
       "      <td>0.028</td>\n",
       "      <td>NaN</td>\n",
       "      <td>NaN</td>\n",
       "      <td>NaN</td>\n",
       "      <td>NaN</td>\n",
       "      <td>0.158730</td>\n",
       "    </tr>\n",
       "    <tr>\n",
       "      <th>2015-12-31</th>\n",
       "      <td>NaN</td>\n",
       "      <td>-0.005</td>\n",
       "      <td>0.035</td>\n",
       "      <td>NaN</td>\n",
       "      <td>NaN</td>\n",
       "      <td>NaN</td>\n",
       "      <td>NaN</td>\n",
       "      <td>-0.910959</td>\n",
       "    </tr>\n",
       "  </tbody>\n",
       "</table>\n",
       "</div>"
      ],
      "text/plain": [
       "            Natural Resources  R&D Public  R&D Private  # of Doctorates  \\\n",
       "2011-12-31           0.338448      -0.011        0.010              NaN   \n",
       "2012-12-31          -0.199140      -0.036        0.026              NaN   \n",
       "2013-12-31          -0.080175      -0.022        0.046              NaN   \n",
       "2014-12-31          -0.191706      -0.041        0.028              NaN   \n",
       "2015-12-31                NaN      -0.005        0.035              NaN   \n",
       "\n",
       "            New Legal Permanent Residents  \\\n",
       "2011-12-31                      -0.028633   \n",
       "2012-12-31                      -0.039819   \n",
       "2013-12-31                       0.026213   \n",
       "2014-12-31                            NaN   \n",
       "2015-12-31                            NaN   \n",
       "\n",
       "            Post-secondary school enrollment (%)  \\\n",
       "2011-12-31                              0.021851   \n",
       "2012-12-31                             -0.011069   \n",
       "2013-12-31                             -0.055096   \n",
       "2014-12-31                                   NaN   \n",
       "2015-12-31                                   NaN   \n",
       "\n",
       "            % of doctorates that are STEM  # of IPOs  \n",
       "2011-12-31                       0.021739  -0.086294  \n",
       "2012-12-31                      -0.004255  -0.005556  \n",
       "2013-12-31                            NaN   0.407821  \n",
       "2014-12-31                            NaN   0.158730  \n",
       "2015-12-31                            NaN  -0.910959  "
      ]
     },
     "execution_count": 1358,
     "metadata": {},
     "output_type": "execute_result"
    }
   ],
   "source": [
    "factors.tail()"
   ]
  },
  {
   "cell_type": "code",
   "execution_count": 1359,
   "metadata": {
    "collapsed": false
   },
   "outputs": [
    {
     "data": {
      "text/plain": [
       "<matplotlib.axes._subplots.AxesSubplot at 0x7f11f1b786a0>"
      ]
     },
     "execution_count": 1359,
     "metadata": {},
     "output_type": "execute_result"
    },
    {
     "data": {
      "image/png": "[encoded data removed]",
      "text/plain": [
       "<matplotlib.figure.Figure at 0x7f11f1b4d4e0>"
      ]
     },
     "metadata": {},
     "output_type": "display_data"
    }
   ],
   "source": [
    "factors.plot(legend=False)"
   ]
  },
  {
   "cell_type": "code",
   "execution_count": 1360,
   "metadata": {
    "collapsed": false
   },
   "outputs": [
    {
     "data": {
      "text/html": [
       "<div>\n",
       "<table border=\"1\" class=\"dataframe\">\n",
       "  <thead>\n",
       "    <tr style=\"text-align: right;\">\n",
       "      <th></th>\n",
       "      <th>Natural Resources</th>\n",
       "      <th>R&amp;D Public</th>\n",
       "      <th>R&amp;D Private</th>\n",
       "      <th># of Doctorates</th>\n",
       "      <th>New Legal Permanent Residents</th>\n",
       "      <th>Post-secondary school enrollment (%)</th>\n",
       "      <th>% of doctorates that are STEM</th>\n",
       "      <th># of IPOs</th>\n",
       "    </tr>\n",
       "  </thead>\n",
       "  <tbody>\n",
       "    <tr>\n",
       "      <th>count</th>\n",
       "      <td>44.000000</td>\n",
       "      <td>86.000000</td>\n",
       "      <td>86.000000</td>\n",
       "      <td>53.000000</td>\n",
       "      <td>194.000000</td>\n",
       "      <td>41.000000</td>\n",
       "      <td>46.000000</td>\n",
       "      <td>55.000000</td>\n",
       "    </tr>\n",
       "    <tr>\n",
       "      <th>mean</th>\n",
       "      <td>0.077144</td>\n",
       "      <td>0.075942</td>\n",
       "      <td>0.063558</td>\n",
       "      <td>0.034045</td>\n",
       "      <td>0.089413</td>\n",
       "      <td>0.016399</td>\n",
       "      <td>0.001937</td>\n",
       "      <td>0.228883</td>\n",
       "    </tr>\n",
       "    <tr>\n",
       "      <th>std</th>\n",
       "      <td>0.456776</td>\n",
       "      <td>0.179969</td>\n",
       "      <td>0.106668</td>\n",
       "      <td>0.048020</td>\n",
       "      <td>0.396114</td>\n",
       "      <td>0.038405</td>\n",
       "      <td>0.013866</td>\n",
       "      <td>0.817187</td>\n",
       "    </tr>\n",
       "    <tr>\n",
       "      <th>min</th>\n",
       "      <td>-0.627033</td>\n",
       "      <td>-0.151000</td>\n",
       "      <td>-0.346000</td>\n",
       "      <td>-0.037334</td>\n",
       "      <td>-0.731879</td>\n",
       "      <td>-0.091116</td>\n",
       "      <td>-0.037829</td>\n",
       "      <td>-0.914286</td>\n",
       "    </tr>\n",
       "    <tr>\n",
       "      <th>25%</th>\n",
       "      <td>-0.169686</td>\n",
       "      <td>-0.004750</td>\n",
       "      <td>0.016000</td>\n",
       "      <td>0.002327</td>\n",
       "      <td>-0.101096</td>\n",
       "      <td>-0.000269</td>\n",
       "      <td>-0.004739</td>\n",
       "      <td>-0.295341</td>\n",
       "    </tr>\n",
       "    <tr>\n",
       "      <th>50%</th>\n",
       "      <td>-0.049490</td>\n",
       "      <td>0.037000</td>\n",
       "      <td>0.054500</td>\n",
       "      <td>0.019236</td>\n",
       "      <td>0.035091</td>\n",
       "      <td>0.018256</td>\n",
       "      <td>0.003164</td>\n",
       "      <td>0.000000</td>\n",
       "    </tr>\n",
       "    <tr>\n",
       "      <th>75%</th>\n",
       "      <td>0.214367</td>\n",
       "      <td>0.098500</td>\n",
       "      <td>0.078750</td>\n",
       "      <td>0.051588</td>\n",
       "      <td>0.270174</td>\n",
       "      <td>0.039843</td>\n",
       "      <td>0.009755</td>\n",
       "      <td>0.499044</td>\n",
       "    </tr>\n",
       "    <tr>\n",
       "      <th>max</th>\n",
       "      <td>1.743516</td>\n",
       "      <td>1.340000</td>\n",
       "      <td>0.543000</td>\n",
       "      <td>0.145865</td>\n",
       "      <td>2.046800</td>\n",
       "      <td>0.148377</td>\n",
       "      <td>0.033654</td>\n",
       "      <td>2.977477</td>\n",
       "    </tr>\n",
       "  </tbody>\n",
       "</table>\n",
       "</div>"
      ],
      "text/plain": [
       "       Natural Resources  R&D Public  R&D Private  # of Doctorates  \\\n",
       "count          44.000000   86.000000    86.000000        53.000000   \n",
       "mean            0.077144    0.075942     0.063558         0.034045   \n",
       "std             0.456776    0.179969     0.106668         0.048020   \n",
       "min            -0.627033   -0.151000    -0.346000        -0.037334   \n",
       "25%            -0.169686   -0.004750     0.016000         0.002327   \n",
       "50%            -0.049490    0.037000     0.054500         0.019236   \n",
       "75%             0.214367    0.098500     0.078750         0.051588   \n",
       "max             1.743516    1.340000     0.543000         0.145865   \n",
       "\n",
       "       New Legal Permanent Residents  Post-secondary school enrollment (%)  \\\n",
       "count                     194.000000                             41.000000   \n",
       "mean                        0.089413                              0.016399   \n",
       "std                         0.396114                              0.038405   \n",
       "min                        -0.731879                             -0.091116   \n",
       "25%                        -0.101096                             -0.000269   \n",
       "50%                         0.035091                              0.018256   \n",
       "75%                         0.270174                              0.039843   \n",
       "max                         2.046800                              0.148377   \n",
       "\n",
       "       % of doctorates that are STEM  # of IPOs  \n",
       "count                      46.000000  55.000000  \n",
       "mean                        0.001937   0.228883  \n",
       "std                         0.013866   0.817187  \n",
       "min                        -0.037829  -0.914286  \n",
       "25%                        -0.004739  -0.295341  \n",
       "50%                         0.003164   0.000000  \n",
       "75%                         0.009755   0.499044  \n",
       "max                         0.033654   2.977477  "
      ]
     },
     "execution_count": 1360,
     "metadata": {},
     "output_type": "execute_result"
    }
   ],
   "source": [
    "factors.describe()"
   ]
  },
  {
   "cell_type": "markdown",
   "metadata": {},
   "source": [
    "# Visualise Data"
   ]
  },
  {
   "cell_type": "code",
   "execution_count": 1361,
   "metadata": {
    "collapsed": false,
    "scrolled": false
   },
   "outputs": [],
   "source": [
    "# f, axes = plt.subplots(3, 3, sharey=True, figsize=(20,20))\n",
    "# for factor, ax in zip(factors, axes.ravel()):\n",
    "#     ax.scatter(factors[factor], patents);\n",
    "#     ax.set_title(factor)\n",
    "#     ax.spines['top'].set_visible(False)\n",
    "#     ax.spines['right'].set_visible(False)\n",
    "#     ax.xaxis.set_ticks_position('bottom')\n",
    "#     ax.yaxis.set_ticks_position('left')\n",
    "#     for tick in ax.get_xticklabels():\n",
    "#         tick.set_rotation(45)"
   ]
  },
  {
   "cell_type": "code",
   "execution_count": 1362,
   "metadata": {
    "collapsed": false,
    "scrolled": false
   },
   "outputs": [
    {
     "name": "stderr",
     "output_type": "stream",
     "text": [
      "/home/jameschristopher/.local/lib/python3.4/site-packages/statsmodels/regression/linear_model.py:1195: RuntimeWarning: divide by zero encountered in double_scalars\n",
      "  return self.ssr/self.df_resid\n"
     ]
    }
   ],
   "source": [
    "best_features = {}\n",
    "nobs = []\n",
    "for i in range(1, len(factors)):\n",
    "    for combo in itertools.combinations(factors.columns, i):\n",
    "    \n",
    "        joined = pd.concat([patent_growth, factors[list(combo)]], 1)\n",
    "        joined = joined.dropna()\n",
    "\n",
    "        y = joined.pop('Utility Patents')\n",
    "        X = joined\n",
    "        \n",
    "        X_train, X_test, y_train, y_test = train_test_split(X, y, test_size=0)\n",
    "        \n",
    "        X_train = sm.add_constant(X_train)\n",
    "        model = sm.OLS(y_train, X_train)\n",
    "        results = model.fit()\n",
    "        \n",
    "        nobs.append(results.nobs)\n",
    "        \n",
    "        _, _, f, het_pval = het_white(results.resid, results.model.exog)\n",
    "        \n",
    "        if het_pval < 0.05:\n",
    "            results = results.get_robustcov_results()\n",
    "        \n",
    "        _, jb_pvalue, _, _ = statsmodels.stats.stattools.jarque_bera(results.resid)\n",
    "        \n",
    "        \n",
    "        if results.f_pvalue < 0.05 and jb_pvalue > 0.05 and np.all(results.pvalues < 0.05):\n",
    "            best_features[results.rsquared_adj] = (results, X_test, y_test)"
   ]
  },
  {
   "cell_type": "markdown",
   "metadata": {},
   "source": [
    "### Modeling Patent Growth\n",
    "\n",
    "For this project we decided to model year over year patent growth, specifically we are looking to model the yearly percent change in total issued patents. For example, in 1950 the total number of patents is 100, and in 1951 the total number of patents is 110, the growth rate is 10%. An example of one of factors we are looking at is government R&D investment, specifically the change in investment year over year. This answers the question: \"What percent increase in patents will we see if we increase government R&D investment 10% more than last year?\" We will apply this same thinking to other factors we will consider.\n",
    "\n",
    "Below is the final model we came up with, an OLS linear regression. During the construction of this model we checked for normailty of residuals, and heteroscedasticity. The regression factors yield an F-statistic significant at 0.05, and individual coefficients also significant at 0.05. The model results in an adjusted R-squared of 0.190. The model was trained on a total of 41 observations. The Durbin-Watson statistic indicates little autocorrelation."
   ]
  },
  {
   "cell_type": "code",
   "execution_count": 1363,
   "metadata": {
    "collapsed": false
   },
   "outputs": [
    {
     "data": {
      "text/html": [
       "<table class=\"simpletable\">\n",
       "<caption>OLS Regression Results</caption>\n",
       "<tr>\n",
       "  <th>Dep. Variable:</th>     <td>Utility Patents</td> <th>  R-squared:         </th> <td>   0.230</td>\n",
       "</tr>\n",
       "<tr>\n",
       "  <th>Model:</th>                   <td>OLS</td>       <th>  Adj. R-squared:    </th> <td>   0.190</td>\n",
       "</tr>\n",
       "<tr>\n",
       "  <th>Method:</th>             <td>Least Squares</td>  <th>  F-statistic:       </th> <td>   5.687</td>\n",
       "</tr>\n",
       "<tr>\n",
       "  <th>Date:</th>             <td>Mon, 12 Dec 2016</td> <th>  Prob (F-statistic):</th>  <td>0.00691</td>\n",
       "</tr>\n",
       "<tr>\n",
       "  <th>Time:</th>                 <td>03:38:22</td>     <th>  Log-Likelihood:    </th> <td>  163.72</td>\n",
       "</tr>\n",
       "<tr>\n",
       "  <th>No. Observations:</th>      <td>    41</td>      <th>  AIC:               </th> <td>  -321.4</td>\n",
       "</tr>\n",
       "<tr>\n",
       "  <th>Df Residuals:</th>          <td>    38</td>      <th>  BIC:               </th> <td>  -316.3</td>\n",
       "</tr>\n",
       "<tr>\n",
       "  <th>Df Model:</th>              <td>     2</td>      <th>                     </th>     <td> </td>   \n",
       "</tr>\n",
       "<tr>\n",
       "  <th>Covariance Type:</th>      <td>nonrobust</td>    <th>                     </th>     <td> </td>   \n",
       "</tr>\n",
       "</table>\n",
       "<table class=\"simpletable\">\n",
       "<tr>\n",
       "                    <td></td>                      <th>coef</th>     <th>std err</th>      <th>t</th>      <th>P>|t|</th> <th>[95.0% Conf. Int.]</th> \n",
       "</tr>\n",
       "<tr>\n",
       "  <th>const</th>                                <td>    0.0246</td> <td>    0.001</td> <td>   18.166</td> <td> 0.000</td> <td>    0.022     0.027</td>\n",
       "</tr>\n",
       "<tr>\n",
       "  <th>R&D Private</th>                          <td>   -0.0793</td> <td>    0.024</td> <td>   -3.241</td> <td> 0.002</td> <td>   -0.129    -0.030</td>\n",
       "</tr>\n",
       "<tr>\n",
       "  <th>Post-secondary school enrollment (%)</th> <td>   -0.0415</td> <td>    0.020</td> <td>   -2.030</td> <td> 0.049</td> <td>   -0.083    -0.000</td>\n",
       "</tr>\n",
       "</table>\n",
       "<table class=\"simpletable\">\n",
       "<tr>\n",
       "  <th>Omnibus:</th>       <td> 1.737</td> <th>  Durbin-Watson:     </th> <td>   2.207</td>\n",
       "</tr>\n",
       "<tr>\n",
       "  <th>Prob(Omnibus):</th> <td> 0.420</td> <th>  Jarque-Bera (JB):  </th> <td>   1.633</td>\n",
       "</tr>\n",
       "<tr>\n",
       "  <th>Skew:</th>          <td> 0.397</td> <th>  Prob(JB):          </th> <td>   0.442</td>\n",
       "</tr>\n",
       "<tr>\n",
       "  <th>Kurtosis:</th>      <td> 2.429</td> <th>  Cond. No.          </th> <td>    36.8</td>\n",
       "</tr>\n",
       "</table>"
      ],
      "text/plain": [
       "<class 'statsmodels.iolib.summary.Summary'>\n",
       "\"\"\"\n",
       "                            OLS Regression Results                            \n",
       "==============================================================================\n",
       "Dep. Variable:        Utility Patents   R-squared:                       0.230\n",
       "Model:                            OLS   Adj. R-squared:                  0.190\n",
       "Method:                 Least Squares   F-statistic:                     5.687\n",
       "Date:                Mon, 12 Dec 2016   Prob (F-statistic):            0.00691\n",
       "Time:                        03:38:22   Log-Likelihood:                 163.72\n",
       "No. Observations:                  41   AIC:                            -321.4\n",
       "Df Residuals:                      38   BIC:                            -316.3\n",
       "Df Model:                           2                                         \n",
       "Covariance Type:            nonrobust                                         \n",
       "========================================================================================================\n",
       "                                           coef    std err          t      P>|t|      [95.0% Conf. Int.]\n",
       "--------------------------------------------------------------------------------------------------------\n",
       "const                                    0.0246      0.001     18.166      0.000         0.022     0.027\n",
       "R&D Private                             -0.0793      0.024     -3.241      0.002        -0.129    -0.030\n",
       "Post-secondary school enrollment (%)    -0.0415      0.020     -2.030      0.049        -0.083    -0.000\n",
       "==============================================================================\n",
       "Omnibus:                        1.737   Durbin-Watson:                   2.207\n",
       "Prob(Omnibus):                  0.420   Jarque-Bera (JB):                1.633\n",
       "Skew:                           0.397   Prob(JB):                        0.442\n",
       "Kurtosis:                       2.429   Cond. No.                         36.8\n",
       "==============================================================================\n",
       "\n",
       "Warnings:\n",
       "[1] Standard Errors assume that the covariance matrix of the errors is correctly specified.\n",
       "\"\"\""
      ]
     },
     "execution_count": 1363,
     "metadata": {},
     "output_type": "execute_result"
    }
   ],
   "source": [
    "model, oos_x, oos_y = best_features[sorted(best_features)[-1]]\n",
    "model.summary()"
   ]
  },
  {
   "cell_type": "code",
   "execution_count": 1364,
   "metadata": {
    "collapsed": false
   },
   "outputs": [
    {
     "ename": "ValueError",
     "evalue": "Found array with 0 sample(s) (shape=(0,)) while a minimum of 1 is required.",
     "output_type": "error",
     "traceback": [
      "\u001b[1;31m---------------------------------------------------------------------------\u001b[0m",
      "\u001b[1;31mValueError\u001b[0m                                Traceback (most recent call last)",
      "\u001b[1;32m<ipython-input-1364-18951cee646a>\u001b[0m in \u001b[0;36m<module>\u001b[1;34m()\u001b[0m\n\u001b[0;32m      2\u001b[0m \u001b[0mpd\u001b[0m\u001b[1;33m.\u001b[0m\u001b[0mDataFrame\u001b[0m\u001b[1;33m(\u001b[0m\u001b[1;33m{\u001b[0m\u001b[1;34m'Predicted'\u001b[0m\u001b[1;33m:\u001b[0m \u001b[0moos_predictions\u001b[0m\u001b[1;33m,\u001b[0m \u001b[1;34m'Actual'\u001b[0m\u001b[1;33m:\u001b[0m \u001b[0moos_y\u001b[0m\u001b[1;33m}\u001b[0m\u001b[1;33m)\u001b[0m\u001b[1;33m\u001b[0m\u001b[0m\n\u001b[0;32m      3\u001b[0m \u001b[0mplt\u001b[0m\u001b[1;33m.\u001b[0m\u001b[0mscatter\u001b[0m\u001b[1;33m(\u001b[0m\u001b[0moos_predictions\u001b[0m\u001b[1;33m,\u001b[0m \u001b[0moos_y\u001b[0m\u001b[1;33m)\u001b[0m\u001b[1;33m;\u001b[0m\u001b[1;33m\u001b[0m\u001b[0m\n\u001b[1;32m----> 4\u001b[1;33m \u001b[0mr2_score\u001b[0m\u001b[1;33m(\u001b[0m\u001b[0moos_y\u001b[0m\u001b[1;33m,\u001b[0m \u001b[0moos_predictions\u001b[0m\u001b[1;33m)\u001b[0m\u001b[1;33m\u001b[0m\u001b[0m\n\u001b[0m",
      "\u001b[1;32m/home/jameschristopher/.local/lib/python3.4/site-packages/sklearn/metrics/regression.py\u001b[0m in \u001b[0;36mr2_score\u001b[1;34m(y_true, y_pred, sample_weight, multioutput)\u001b[0m\n\u001b[0;32m    453\u001b[0m     \"\"\"\n\u001b[0;32m    454\u001b[0m     y_type, y_true, y_pred, multioutput = _check_reg_targets(\n\u001b[1;32m--> 455\u001b[1;33m         y_true, y_pred, multioutput)\n\u001b[0m\u001b[0;32m    456\u001b[0m \u001b[1;33m\u001b[0m\u001b[0m\n\u001b[0;32m    457\u001b[0m     \u001b[1;32mif\u001b[0m \u001b[0msample_weight\u001b[0m \u001b[1;32mis\u001b[0m \u001b[1;32mnot\u001b[0m \u001b[1;32mNone\u001b[0m\u001b[1;33m:\u001b[0m\u001b[1;33m\u001b[0m\u001b[0m\n",
      "\u001b[1;32m/home/jameschristopher/.local/lib/python3.4/site-packages/sklearn/metrics/regression.py\u001b[0m in \u001b[0;36m_check_reg_targets\u001b[1;34m(y_true, y_pred, multioutput)\u001b[0m\n\u001b[0;32m     73\u001b[0m     \"\"\"\n\u001b[0;32m     74\u001b[0m     \u001b[0mcheck_consistent_length\u001b[0m\u001b[1;33m(\u001b[0m\u001b[0my_true\u001b[0m\u001b[1;33m,\u001b[0m \u001b[0my_pred\u001b[0m\u001b[1;33m)\u001b[0m\u001b[1;33m\u001b[0m\u001b[0m\n\u001b[1;32m---> 75\u001b[1;33m     \u001b[0my_true\u001b[0m \u001b[1;33m=\u001b[0m \u001b[0mcheck_array\u001b[0m\u001b[1;33m(\u001b[0m\u001b[0my_true\u001b[0m\u001b[1;33m,\u001b[0m \u001b[0mensure_2d\u001b[0m\u001b[1;33m=\u001b[0m\u001b[1;32mFalse\u001b[0m\u001b[1;33m)\u001b[0m\u001b[1;33m\u001b[0m\u001b[0m\n\u001b[0m\u001b[0;32m     76\u001b[0m     \u001b[0my_pred\u001b[0m \u001b[1;33m=\u001b[0m \u001b[0mcheck_array\u001b[0m\u001b[1;33m(\u001b[0m\u001b[0my_pred\u001b[0m\u001b[1;33m,\u001b[0m \u001b[0mensure_2d\u001b[0m\u001b[1;33m=\u001b[0m\u001b[1;32mFalse\u001b[0m\u001b[1;33m)\u001b[0m\u001b[1;33m\u001b[0m\u001b[0m\n\u001b[0;32m     77\u001b[0m \u001b[1;33m\u001b[0m\u001b[0m\n",
      "\u001b[1;32m/home/jameschristopher/.local/lib/python3.4/site-packages/sklearn/utils/validation.py\u001b[0m in \u001b[0;36mcheck_array\u001b[1;34m(array, accept_sparse, dtype, order, copy, force_all_finite, ensure_2d, allow_nd, ensure_min_samples, ensure_min_features, warn_on_dtype, estimator)\u001b[0m\n\u001b[0;32m    414\u001b[0m                              \u001b[1;34m\" minimum of %d is required%s.\"\u001b[0m\u001b[1;33m\u001b[0m\u001b[0m\n\u001b[0;32m    415\u001b[0m                              % (n_samples, shape_repr, ensure_min_samples,\n\u001b[1;32m--> 416\u001b[1;33m                                 context))\n\u001b[0m\u001b[0;32m    417\u001b[0m \u001b[1;33m\u001b[0m\u001b[0m\n\u001b[0;32m    418\u001b[0m     \u001b[1;32mif\u001b[0m \u001b[0mensure_min_features\u001b[0m \u001b[1;33m>\u001b[0m \u001b[1;36m0\u001b[0m \u001b[1;32mand\u001b[0m \u001b[0marray\u001b[0m\u001b[1;33m.\u001b[0m\u001b[0mndim\u001b[0m \u001b[1;33m==\u001b[0m \u001b[1;36m2\u001b[0m\u001b[1;33m:\u001b[0m\u001b[1;33m\u001b[0m\u001b[0m\n",
      "\u001b[1;31mValueError\u001b[0m: Found array with 0 sample(s) (shape=(0,)) while a minimum of 1 is required."
     ]
    },
    {
     "name": "stderr",
     "output_type": "stream",
     "text": [
      "/usr/local/lib/python3.4/dist-packages/matplotlib/collections.py:590: FutureWarning: elementwise comparison failed; returning scalar instead, but in the future will perform elementwise comparison\n",
      "  if self._edgecolors == str('face'):\n"
     ]
    },
    {
     "data": {
      "image/png": "[encoded data removed]",
      "text/plain": [
       "<matplotlib.figure.Figure at 0x7f11f12cfb38>"
      ]
     },
     "metadata": {},
     "output_type": "display_data"
    }
   ],
   "source": [
    "oos_predictions = model.predict(sm.add_constant(oos_x))\n",
    "pd.DataFrame({'Predicted': oos_predictions, 'Actual': oos_y})\n",
    "plt.scatter(oos_predictions, oos_y);\n",
    "r2_score(oos_y, oos_predictions)"
   ]
  },
  {
   "cell_type": "markdown",
   "metadata": {},
   "source": [
    "### Train model"
   ]
  },
  {
   "cell_type": "code",
   "execution_count": null,
   "metadata": {
    "collapsed": true
   },
   "outputs": [],
   "source": [
    "model_factors = sm.add_constant(X_train)\n",
    "model = sm.OLS(y_train, model_factors)\n",
    "results = model.fit()"
   ]
  },
  {
   "cell_type": "markdown",
   "metadata": {},
   "source": [
    "### Are our residuals heteroscedastic?"
   ]
  },
  {
   "cell_type": "code",
   "execution_count": null,
   "metadata": {
    "collapsed": false
   },
   "outputs": [],
   "source": [
    "_, _, f, pval = het_white(results.resid, model_factors)"
   ]
  },
  {
   "cell_type": "code",
   "execution_count": null,
   "metadata": {
    "collapsed": false
   },
   "outputs": [],
   "source": [
    "print(\"P value of the f-stat: %s\" % pval)"
   ]
  },
  {
   "cell_type": "markdown",
   "metadata": {},
   "source": [
    "### ... yes, yes they are heteroscedastic.\n",
    "### We can use a robust covariance matrix to adjust for this affect."
   ]
  },
  {
   "cell_type": "code",
   "execution_count": null,
   "metadata": {
    "collapsed": false,
    "scrolled": false
   },
   "outputs": [],
   "source": [
    "results.get_robustcov_results().summary()"
   ]
  },
  {
   "cell_type": "markdown",
   "metadata": {},
   "source": [
    "### Test model out of sample"
   ]
  },
  {
   "cell_type": "code",
   "execution_count": null,
   "metadata": {
    "collapsed": false
   },
   "outputs": [],
   "source": [
    "model_test_factors = sm.add_constant(X_test)\n",
    "oos_predictions = results.predict(model_test_factors)\n",
    "pd.DataFrame({'Predicted': oos_predictions, 'Actual': y_test})\n",
    "plt.scatter(oos_predictions, y_test);\n",
    "r2_score(y_test, oos_predictions)"
   ]
  },
  {
   "cell_type": "code",
   "execution_count": null,
   "metadata": {
    "collapsed": true
   },
   "outputs": [],
   "source": []
  }
 ],
 "metadata": {
  "kernelspec": {
   "display_name": "Python 3",
   "language": "python",
   "name": "python3"
  },
  "language_info": {
   "codemirror_mode": {
    "name": "ipython",
    "version": 3
   },
   "file_extension": ".py",
   "mimetype": "text/x-python",
   "name": "python",
   "nbconvert_exporter": "python",
   "pygments_lexer": "ipython3",
   "version": "3.4.3"
  }
 },
 "nbformat": 4,
 "nbformat_minor": 0
}
