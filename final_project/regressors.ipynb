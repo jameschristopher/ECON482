{
 "cells": [
  {
   "cell_type": "code",
   "execution_count": 4,
   "metadata": {
    "collapsed": false
   },
   "outputs": [],
   "source": [
    "import Quandl\n",
    "import numpy as np\n",
    "from scipy import stats\n",
    "import statsmodels\n",
    "import statsmodels.api as sm\n",
    "from matplotlib import pyplot as plt\n",
    "%matplotlib inline\n",
    "import pandas as pd\n",
    "from sklearn.linear_model import LinearRegression\n",
    "from sklearn.model_selection import train_test_split"
   ]
  },
  {
   "cell_type": "markdown",
   "metadata": {},
   "source": [
    "- natural resources (WWDI/USA_NY_GDP_TOTL_RT_ZS - 1970)\n",
    "- immigration\n",
    "- unemployment (FRED/UNRATE - 1948)\n",
    "- regulations (WWGI/USA_RQ_EST - 1996)\n",
    "- cpi (WORLDBANK/USA_FP_CPI_TOTL_ZG - 1961)\n",
    "- R&D INVESTMENT (NSF/IND_R_D - 1953)\n",
    "\n",
    "- education (college graduates? literacy? graduation rate?)\n",
    "\n",
    "- researchers (WWDI/USA_SP_POP_SCIE_RD_P6 - 1996)\n",
    "- doctorate recepients (NSF/DOCTORATES - 1957)\n",
    "- doctorate granting instiutions (NSF/DOC_INST - 1970)\n",
    "- venture capital deals(NVCA/VENTURE_3_11 - 1985)"
   ]
  },
  {
   "cell_type": "code",
   "execution_count": 5,
   "metadata": {
    "collapsed": true
   },
   "outputs": [],
   "source": [
    "patents = Quandl.get(\"USPTO/PAT_ACT\")\n",
    "patents = patents['Utility Patents']"
   ]
  },
  {
   "cell_type": "code",
   "execution_count": 6,
   "metadata": {
    "collapsed": false
   },
   "outputs": [
    {
     "data": {
      "text/plain": [
       "Year\n",
       "1790-12-31     3.0\n",
       "1791-12-31    33.0\n",
       "1792-12-31    11.0\n",
       "1793-12-31    20.0\n",
       "1794-12-31    22.0\n",
       "Name: Utility Patents, dtype: float64"
      ]
     },
     "execution_count": 6,
     "metadata": {},
     "output_type": "execute_result"
    }
   ],
   "source": [
    "patents.head()"
   ]
  },
  {
   "cell_type": "code",
   "execution_count": 7,
   "metadata": {
    "collapsed": true
   },
   "outputs": [],
   "source": [
    "regulations = Quandl.get(\"WWGI/USA_RQ_EST\")"
   ]
  },
  {
   "cell_type": "markdown",
   "metadata": {},
   "source": [
    "### [Natural Resources as a percentage of GDP](https://www.quandl.com/data/WWDI/USA_NY_GDP_TOTL_RT_ZS-Total-natural-resources-rents-of-GDP-United-States)"
   ]
  },
  {
   "cell_type": "code",
   "execution_count": 8,
   "metadata": {
    "collapsed": false
   },
   "outputs": [],
   "source": [
    "natural_resources = Quandl.get(\"WWDI/USA_NY_GDP_TOTL_RT_ZS\")\n",
    "natural_resources = natural_resources['Value']\n",
    "natural_resources.name = 'Natural Resources'\n",
    "natural_resources /= 100"
   ]
  },
  {
   "cell_type": "code",
   "execution_count": 9,
   "metadata": {
    "collapsed": false
   },
   "outputs": [
    {
     "data": {
      "text/plain": [
       "Date\n",
       "1970-12-31    0.010006\n",
       "1971-12-31    0.010355\n",
       "1972-12-31    0.009789\n",
       "1973-12-31    0.012949\n",
       "1974-12-31    0.035525\n",
       "Name: Natural Resources, dtype: float64"
      ]
     },
     "execution_count": 9,
     "metadata": {},
     "output_type": "execute_result"
    }
   ],
   "source": [
    "natural_resources.head()"
   ]
  },
  {
   "cell_type": "markdown",
   "metadata": {},
   "source": [
    "### [R&D Investment](https://www.quandl.com/data/NSF/IND_R_D-Industrial-R-D-Performed-in-the-United-States-by-Source-of-Funds)"
   ]
  },
  {
   "cell_type": "code",
   "execution_count": 10,
   "metadata": {
    "collapsed": false
   },
   "outputs": [],
   "source": [
    "rd_investment = Quandl.get(\"NSF/IND_R_D\")\n",
    "rd_investment = rd_investment['All Sources (Constant $)']\n",
    "rd_investment.name = 'R&D Investment'\n",
    "rd_investment *= 1000000"
   ]
  },
  {
   "cell_type": "code",
   "execution_count": 11,
   "metadata": {
    "collapsed": false
   },
   "outputs": [
    {
     "data": {
      "text/plain": [
       "Year\n",
       "1953-12-31    1.990100e+10\n",
       "1954-12-31    2.209600e+10\n",
       "1955-12-31    2.474700e+10\n",
       "1956-12-31    3.406400e+10\n",
       "1957-12-31    3.857800e+10\n",
       "Name: R&D Investment, dtype: float64"
      ]
     },
     "execution_count": 11,
     "metadata": {},
     "output_type": "execute_result"
    }
   ],
   "source": [
    "rd_investment.head()"
   ]
  },
  {
   "cell_type": "markdown",
   "metadata": {},
   "source": [
    "### [Number of Doctorates](https://www.quandl.com/data/NSF/DOCTORATES--Doctorate-Recipients-from-U-S-Colleges-and-Universities)"
   ]
  },
  {
   "cell_type": "code",
   "execution_count": 12,
   "metadata": {
    "collapsed": false
   },
   "outputs": [],
   "source": [
    "doctorates = Quandl.get(\"NSF/DOCTORATES\")\n",
    "doctorates = doctorates['Number']\n",
    "doctorates.name = '# of Doctorates'\n",
    "doctorates = doctorates.shift(-1, freq='D')"
   ]
  },
  {
   "cell_type": "markdown",
   "metadata": {},
   "source": [
    "### [Number of Venture Capital Deals](https://www.quandl.com/data/NVCA/VENTURE_3_11-Venture-Capital-Investments-By-State-Number-of-Deals)"
   ]
  },
  {
   "cell_type": "code",
   "execution_count": 13,
   "metadata": {
    "collapsed": false
   },
   "outputs": [],
   "source": [
    "venture_capital = Quandl.get(\"NVCA/VENTURE_3_11\")\n",
    "venture_capital = venture_capital['Total']\n",
    "venture_capital.name = '# of VC Deals'"
   ]
  },
  {
   "cell_type": "code",
   "execution_count": 14,
   "metadata": {
    "collapsed": false
   },
   "outputs": [
    {
     "data": {
      "text/plain": [
       "Year\n",
       "1985-12-31    1345.0\n",
       "1986-12-31    1421.0\n",
       "1987-12-31    1646.0\n",
       "1988-12-31    1526.0\n",
       "1989-12-31    1544.0\n",
       "Name: # of VC Deals, dtype: float64"
      ]
     },
     "execution_count": 14,
     "metadata": {},
     "output_type": "execute_result"
    }
   ],
   "source": [
    "venture_capital.head()"
   ]
  },
  {
   "cell_type": "code",
   "execution_count": 15,
   "metadata": {
    "collapsed": true
   },
   "outputs": [],
   "source": [
    "list_of_factors = [natural_resources, rd_investment, doctorates, venture_capital]"
   ]
  },
  {
   "cell_type": "code",
   "execution_count": 16,
   "metadata": {
    "collapsed": true
   },
   "outputs": [],
   "source": [
    "factors = pd.concat(list_of_factors, 1)"
   ]
  },
  {
   "cell_type": "code",
   "execution_count": 17,
   "metadata": {
    "collapsed": false
   },
   "outputs": [
    {
     "data": {
      "text/html": [
       "<div>\n",
       "<table border=\"1\" class=\"dataframe\">\n",
       "  <thead>\n",
       "    <tr style=\"text-align: right;\">\n",
       "      <th></th>\n",
       "      <th>Natural Resources</th>\n",
       "      <th>R&amp;D Investment</th>\n",
       "      <th># of Doctorates</th>\n",
       "      <th># of VC Deals</th>\n",
       "    </tr>\n",
       "  </thead>\n",
       "  <tbody>\n",
       "    <tr>\n",
       "      <th>1953-12-31</th>\n",
       "      <td>NaN</td>\n",
       "      <td>1.990100e+10</td>\n",
       "      <td>NaN</td>\n",
       "      <td>NaN</td>\n",
       "    </tr>\n",
       "    <tr>\n",
       "      <th>1954-12-31</th>\n",
       "      <td>NaN</td>\n",
       "      <td>2.209600e+10</td>\n",
       "      <td>NaN</td>\n",
       "      <td>NaN</td>\n",
       "    </tr>\n",
       "    <tr>\n",
       "      <th>1955-12-31</th>\n",
       "      <td>NaN</td>\n",
       "      <td>2.474700e+10</td>\n",
       "      <td>NaN</td>\n",
       "      <td>NaN</td>\n",
       "    </tr>\n",
       "    <tr>\n",
       "      <th>1956-12-31</th>\n",
       "      <td>NaN</td>\n",
       "      <td>3.406400e+10</td>\n",
       "      <td>8611.0</td>\n",
       "      <td>NaN</td>\n",
       "    </tr>\n",
       "    <tr>\n",
       "      <th>1957-12-31</th>\n",
       "      <td>NaN</td>\n",
       "      <td>3.857800e+10</td>\n",
       "      <td>8773.0</td>\n",
       "      <td>NaN</td>\n",
       "    </tr>\n",
       "  </tbody>\n",
       "</table>\n",
       "</div>"
      ],
      "text/plain": [
       "            Natural Resources  R&D Investment  # of Doctorates  # of VC Deals\n",
       "1953-12-31                NaN    1.990100e+10              NaN            NaN\n",
       "1954-12-31                NaN    2.209600e+10              NaN            NaN\n",
       "1955-12-31                NaN    2.474700e+10              NaN            NaN\n",
       "1956-12-31                NaN    3.406400e+10           8611.0            NaN\n",
       "1957-12-31                NaN    3.857800e+10           8773.0            NaN"
      ]
     },
     "execution_count": 17,
     "metadata": {},
     "output_type": "execute_result"
    }
   ],
   "source": [
    "factors.head()"
   ]
  },
  {
   "cell_type": "code",
   "execution_count": 18,
   "metadata": {
    "collapsed": false
   },
   "outputs": [
    {
     "data": {
      "text/html": [
       "<div>\n",
       "<table border=\"1\" class=\"dataframe\">\n",
       "  <thead>\n",
       "    <tr style=\"text-align: right;\">\n",
       "      <th></th>\n",
       "      <th>Natural Resources</th>\n",
       "      <th>R&amp;D Investment</th>\n",
       "      <th># of Doctorates</th>\n",
       "      <th># of VC Deals</th>\n",
       "    </tr>\n",
       "  </thead>\n",
       "  <tbody>\n",
       "    <tr>\n",
       "      <th>1985-12-31</th>\n",
       "      <td>0.021947</td>\n",
       "      <td>1.208420e+11</td>\n",
       "      <td>31897.0</td>\n",
       "      <td>1345.0</td>\n",
       "    </tr>\n",
       "    <tr>\n",
       "      <th>1986-12-31</th>\n",
       "      <td>0.009654</td>\n",
       "      <td>1.232600e+11</td>\n",
       "      <td>32365.0</td>\n",
       "      <td>1421.0</td>\n",
       "    </tr>\n",
       "    <tr>\n",
       "      <th>1987-12-31</th>\n",
       "      <td>0.009816</td>\n",
       "      <td>1.258950e+11</td>\n",
       "      <td>33497.0</td>\n",
       "      <td>1646.0</td>\n",
       "    </tr>\n",
       "    <tr>\n",
       "      <th>1988-12-31</th>\n",
       "      <td>0.007457</td>\n",
       "      <td>1.281740e+11</td>\n",
       "      <td>34325.0</td>\n",
       "      <td>1526.0</td>\n",
       "    </tr>\n",
       "    <tr>\n",
       "      <th>1989-12-31</th>\n",
       "      <td>0.007373</td>\n",
       "      <td>1.299070e+11</td>\n",
       "      <td>36065.0</td>\n",
       "      <td>1544.0</td>\n",
       "    </tr>\n",
       "  </tbody>\n",
       "</table>\n",
       "</div>"
      ],
      "text/plain": [
       "            Natural Resources  R&D Investment  # of Doctorates  # of VC Deals\n",
       "1985-12-31           0.021947    1.208420e+11          31897.0         1345.0\n",
       "1986-12-31           0.009654    1.232600e+11          32365.0         1421.0\n",
       "1987-12-31           0.009816    1.258950e+11          33497.0         1646.0\n",
       "1988-12-31           0.007457    1.281740e+11          34325.0         1526.0\n",
       "1989-12-31           0.007373    1.299070e+11          36065.0         1544.0"
      ]
     },
     "execution_count": 18,
     "metadata": {},
     "output_type": "execute_result"
    }
   ],
   "source": [
    "factors = factors.dropna()\n",
    "factors.head()"
   ]
  },
  {
   "cell_type": "code",
   "execution_count": 19,
   "metadata": {
    "collapsed": true
   },
   "outputs": [],
   "source": [
    "def trim_data(target, factors):\n",
    "    start = np.max([factors.index.min(), patents.index.min()])\n",
    "    end = np.min([factors.index.max(), patents.index.max()])\n",
    "    \n",
    "    factors = factors[start:end]\n",
    "    target = target[start:end]\n",
    "    \n",
    "    return target, factors"
   ]
  },
  {
   "cell_type": "code",
   "execution_count": 20,
   "metadata": {
    "collapsed": true
   },
   "outputs": [],
   "source": [
    "patents, factors = trim_data(patents, factors)"
   ]
  },
  {
   "cell_type": "code",
   "execution_count": 21,
   "metadata": {
    "collapsed": false
   },
   "outputs": [
    {
     "data": {
      "text/plain": [
       "Year\n",
       "1985-12-31    71661.0\n",
       "1986-12-31    70860.0\n",
       "1987-12-31    82952.0\n",
       "1988-12-31    77924.0\n",
       "1989-12-31    95537.0\n",
       "Name: Utility Patents, dtype: float64"
      ]
     },
     "execution_count": 21,
     "metadata": {},
     "output_type": "execute_result"
    }
   ],
   "source": [
    "patents.head()"
   ]
  },
  {
   "cell_type": "code",
   "execution_count": 22,
   "metadata": {
    "collapsed": false
   },
   "outputs": [
    {
     "data": {
      "text/html": [
       "<div>\n",
       "<table border=\"1\" class=\"dataframe\">\n",
       "  <thead>\n",
       "    <tr style=\"text-align: right;\">\n",
       "      <th></th>\n",
       "      <th>Natural Resources</th>\n",
       "      <th>R&amp;D Investment</th>\n",
       "      <th># of Doctorates</th>\n",
       "      <th># of VC Deals</th>\n",
       "    </tr>\n",
       "  </thead>\n",
       "  <tbody>\n",
       "    <tr>\n",
       "      <th>1985-12-31</th>\n",
       "      <td>0.021947</td>\n",
       "      <td>1.208420e+11</td>\n",
       "      <td>31897.0</td>\n",
       "      <td>1345.0</td>\n",
       "    </tr>\n",
       "    <tr>\n",
       "      <th>1986-12-31</th>\n",
       "      <td>0.009654</td>\n",
       "      <td>1.232600e+11</td>\n",
       "      <td>32365.0</td>\n",
       "      <td>1421.0</td>\n",
       "    </tr>\n",
       "    <tr>\n",
       "      <th>1987-12-31</th>\n",
       "      <td>0.009816</td>\n",
       "      <td>1.258950e+11</td>\n",
       "      <td>33497.0</td>\n",
       "      <td>1646.0</td>\n",
       "    </tr>\n",
       "    <tr>\n",
       "      <th>1988-12-31</th>\n",
       "      <td>0.007457</td>\n",
       "      <td>1.281740e+11</td>\n",
       "      <td>34325.0</td>\n",
       "      <td>1526.0</td>\n",
       "    </tr>\n",
       "    <tr>\n",
       "      <th>1989-12-31</th>\n",
       "      <td>0.007373</td>\n",
       "      <td>1.299070e+11</td>\n",
       "      <td>36065.0</td>\n",
       "      <td>1544.0</td>\n",
       "    </tr>\n",
       "  </tbody>\n",
       "</table>\n",
       "</div>"
      ],
      "text/plain": [
       "            Natural Resources  R&D Investment  # of Doctorates  # of VC Deals\n",
       "1985-12-31           0.021947    1.208420e+11          31897.0         1345.0\n",
       "1986-12-31           0.009654    1.232600e+11          32365.0         1421.0\n",
       "1987-12-31           0.009816    1.258950e+11          33497.0         1646.0\n",
       "1988-12-31           0.007457    1.281740e+11          34325.0         1526.0\n",
       "1989-12-31           0.007373    1.299070e+11          36065.0         1544.0"
      ]
     },
     "execution_count": 22,
     "metadata": {},
     "output_type": "execute_result"
    }
   ],
   "source": [
    "factors.head()"
   ]
  },
  {
   "cell_type": "markdown",
   "metadata": {},
   "source": [
    "# Visualise Data"
   ]
  },
  {
   "cell_type": "code",
   "execution_count": 23,
   "metadata": {
    "collapsed": false
   },
   "outputs": [
    {
     "name": "stderr",
     "output_type": "stream",
     "text": [
      "/usr/local/lib/python3.4/dist-packages/matplotlib/collections.py:590: FutureWarning: elementwise comparison failed; returning scalar instead, but in the future will perform elementwise comparison\n",
      "  if self._edgecolors == str('face'):\n"
     ]
    },
    {
     "data": {
      "image/png": "[encoded data removed]",
      "text/plain": [
       "<matplotlib.figure.Figure at 0x7ff81215c400>"
      ]
     },
     "metadata": {},
     "output_type": "display_data"
    }
   ],
   "source": [
    "f, axes = plt.subplots(2, 2, sharey=True, figsize=(10,10))\n",
    "for factor, ax in zip(factors, axes.ravel()):\n",
    "    ax.scatter(factors[factor], patents);\n",
    "    ax.set_title(factor)\n",
    "    for tick in ax.get_xticklabels():\n",
    "        tick.set_rotation(45)"
   ]
  },
  {
   "cell_type": "markdown",
   "metadata": {},
   "source": [
    "# Model\n",
    "\n",
    "### Train-Test Split"
   ]
  },
  {
   "cell_type": "code",
   "execution_count": 24,
   "metadata": {
    "collapsed": false
   },
   "outputs": [],
   "source": [
    "X_train, X_test, y_train, y_test = train_test_split(factors, patents, test_size=0.25)"
   ]
  },
  {
   "cell_type": "markdown",
   "metadata": {},
   "source": [
    "### Fit model"
   ]
  },
  {
   "cell_type": "code",
   "execution_count": 25,
   "metadata": {
    "collapsed": true
   },
   "outputs": [],
   "source": [
    "model = LinearRegression()"
   ]
  },
  {
   "cell_type": "code",
   "execution_count": 26,
   "metadata": {
    "collapsed": false
   },
   "outputs": [
    {
     "data": {
      "text/plain": [
       "LinearRegression(copy_X=True, fit_intercept=True, n_jobs=1, normalize=False)"
      ]
     },
     "execution_count": 26,
     "metadata": {},
     "output_type": "execute_result"
    }
   ],
   "source": [
    "model.fit(X_train, y_train)"
   ]
  },
  {
   "cell_type": "markdown",
   "metadata": {},
   "source": [
    "### r-squared of model on training set"
   ]
  },
  {
   "cell_type": "code",
   "execution_count": 27,
   "metadata": {
    "collapsed": false
   },
   "outputs": [
    {
     "data": {
      "text/plain": [
       "0.96613847227621719"
      ]
     },
     "execution_count": 27,
     "metadata": {},
     "output_type": "execute_result"
    }
   ],
   "source": [
    "model.score(X_train, y_train)"
   ]
  },
  {
   "cell_type": "markdown",
   "metadata": {},
   "source": [
    "### r-squared of model on testing set"
   ]
  },
  {
   "cell_type": "code",
   "execution_count": 28,
   "metadata": {
    "collapsed": false
   },
   "outputs": [
    {
     "data": {
      "text/plain": [
       "0.80249152315299122"
      ]
     },
     "execution_count": 28,
     "metadata": {},
     "output_type": "execute_result"
    }
   ],
   "source": [
    "model.score(X_test, y_test)"
   ]
  },
  {
   "cell_type": "code",
   "execution_count": null,
   "metadata": {
    "collapsed": true
   },
   "outputs": [],
   "source": []
  },
  {
   "cell_type": "code",
   "execution_count": null,
   "metadata": {
    "collapsed": true
   },
   "outputs": [],
   "source": []
  },
  {
   "cell_type": "code",
   "execution_count": 108,
   "metadata": {
    "collapsed": true
   },
   "outputs": [],
   "source": [
    "model_factors = sm.add_constant(factors)\n",
    "model = sm.OLS(patents, model_factors)\n",
    "results = model.fit()"
   ]
  },
  {
   "cell_type": "code",
   "execution_count": 109,
   "metadata": {
    "collapsed": false
   },
   "outputs": [
    {
     "data": {
      "text/html": [
       "<table class=\"simpletable\">\n",
       "<caption>OLS Regression Results</caption>\n",
       "<tr>\n",
       "  <th>Dep. Variable:</th>     <td>Utility Patents</td> <th>  R-squared:         </th> <td>   0.943</td>\n",
       "</tr>\n",
       "<tr>\n",
       "  <th>Model:</th>                   <td>OLS</td>       <th>  Adj. R-squared:    </th> <td>   0.929</td>\n",
       "</tr>\n",
       "<tr>\n",
       "  <th>Method:</th>             <td>Least Squares</td>  <th>  F-statistic:       </th> <td>   66.24</td>\n",
       "</tr>\n",
       "<tr>\n",
       "  <th>Date:</th>             <td>Sat, 03 Dec 2016</td> <th>  Prob (F-statistic):</th> <td>9.45e-10</td>\n",
       "</tr>\n",
       "<tr>\n",
       "  <th>Time:</th>                 <td>19:19:06</td>     <th>  Log-Likelihood:    </th> <td> -218.81</td>\n",
       "</tr>\n",
       "<tr>\n",
       "  <th>No. Observations:</th>      <td>    21</td>      <th>  AIC:               </th> <td>   447.6</td>\n",
       "</tr>\n",
       "<tr>\n",
       "  <th>Df Residuals:</th>          <td>    16</td>      <th>  BIC:               </th> <td>   452.8</td>\n",
       "</tr>\n",
       "<tr>\n",
       "  <th>Df Model:</th>              <td>     4</td>      <th>                     </th>     <td> </td>   \n",
       "</tr>\n",
       "<tr>\n",
       "  <th>Covariance Type:</th>      <td>nonrobust</td>    <th>                     </th>     <td> </td>   \n",
       "</tr>\n",
       "</table>\n",
       "<table class=\"simpletable\">\n",
       "<tr>\n",
       "          <td></td>             <th>coef</th>     <th>std err</th>      <th>t</th>      <th>P>|t|</th> <th>[95.0% Conf. Int.]</th> \n",
       "</tr>\n",
       "<tr>\n",
       "  <th>const</th>             <td>-3.054e+04</td> <td> 3.59e+04</td> <td>   -0.852</td> <td> 0.407</td> <td>-1.07e+05  4.55e+04</td>\n",
       "</tr>\n",
       "<tr>\n",
       "  <th>Natural Resources</th> <td>-1.414e+06</td> <td> 5.95e+05</td> <td>   -2.376</td> <td> 0.030</td> <td>-2.68e+06 -1.52e+05</td>\n",
       "</tr>\n",
       "<tr>\n",
       "  <th>R&D Investment</th>    <td>  1.29e-06</td> <td> 1.27e-07</td> <td>   10.150</td> <td> 0.000</td> <td> 1.02e-06  1.56e-06</td>\n",
       "</tr>\n",
       "<tr>\n",
       "  <th># of Doctorates</th>   <td> -720.1309</td> <td>  774.507</td> <td>   -0.930</td> <td> 0.366</td> <td>-2362.012   921.750</td>\n",
       "</tr>\n",
       "<tr>\n",
       "  <th># of VC Deals</th>     <td>   -4.3324</td> <td>    2.286</td> <td>   -1.895</td> <td> 0.076</td> <td>   -9.178     0.514</td>\n",
       "</tr>\n",
       "</table>\n",
       "<table class=\"simpletable\">\n",
       "<tr>\n",
       "  <th>Omnibus:</th>       <td> 4.266</td> <th>  Durbin-Watson:     </th> <td>   1.870</td>\n",
       "</tr>\n",
       "<tr>\n",
       "  <th>Prob(Omnibus):</th> <td> 0.118</td> <th>  Jarque-Bera (JB):  </th> <td>   2.973</td>\n",
       "</tr>\n",
       "<tr>\n",
       "  <th>Skew:</th>          <td>-0.921</td> <th>  Prob(JB):          </th> <td>   0.226</td>\n",
       "</tr>\n",
       "<tr>\n",
       "  <th>Kurtosis:</th>      <td> 3.061</td> <th>  Cond. No.          </th> <td>4.69e+13</td>\n",
       "</tr>\n",
       "</table>"
      ],
      "text/plain": [
       "<class 'statsmodels.iolib.summary.Summary'>\n",
       "\"\"\"\n",
       "                            OLS Regression Results                            \n",
       "==============================================================================\n",
       "Dep. Variable:        Utility Patents   R-squared:                       0.943\n",
       "Model:                            OLS   Adj. R-squared:                  0.929\n",
       "Method:                 Least Squares   F-statistic:                     66.24\n",
       "Date:                Sat, 03 Dec 2016   Prob (F-statistic):           9.45e-10\n",
       "Time:                        19:19:06   Log-Likelihood:                -218.81\n",
       "No. Observations:                  21   AIC:                             447.6\n",
       "Df Residuals:                      16   BIC:                             452.8\n",
       "Df Model:                           4                                         \n",
       "Covariance Type:            nonrobust                                         \n",
       "=====================================================================================\n",
       "                        coef    std err          t      P>|t|      [95.0% Conf. Int.]\n",
       "-------------------------------------------------------------------------------------\n",
       "const             -3.054e+04   3.59e+04     -0.852      0.407     -1.07e+05  4.55e+04\n",
       "Natural Resources -1.414e+06   5.95e+05     -2.376      0.030     -2.68e+06 -1.52e+05\n",
       "R&D Investment      1.29e-06   1.27e-07     10.150      0.000      1.02e-06  1.56e-06\n",
       "# of Doctorates    -720.1309    774.507     -0.930      0.366     -2362.012   921.750\n",
       "# of VC Deals        -4.3324      2.286     -1.895      0.076        -9.178     0.514\n",
       "==============================================================================\n",
       "Omnibus:                        4.266   Durbin-Watson:                   1.870\n",
       "Prob(Omnibus):                  0.118   Jarque-Bera (JB):                2.973\n",
       "Skew:                          -0.921   Prob(JB):                        0.226\n",
       "Kurtosis:                       3.061   Cond. No.                     4.69e+13\n",
       "==============================================================================\n",
       "\n",
       "Warnings:\n",
       "[1] Standard Errors assume that the covariance matrix of the errors is correctly specified.\n",
       "[2] The condition number is large, 4.69e+13. This might indicate that there are\n",
       "strong multicollinearity or other numerical problems.\n",
       "\"\"\""
      ]
     },
     "execution_count": 109,
     "metadata": {},
     "output_type": "execute_result"
    }
   ],
   "source": [
    "results.summary()"
   ]
  },
  {
   "cell_type": "code",
   "execution_count": null,
   "metadata": {
    "collapsed": true
   },
   "outputs": [],
   "source": []
  }
 ],
 "metadata": {
  "kernelspec": {
   "display_name": "Python 3",
   "language": "python",
   "name": "python3"
  },
  "language_info": {
   "codemirror_mode": {
    "name": "ipython",
    "version": 3
   },
   "file_extension": ".py",
   "mimetype": "text/x-python",
   "name": "python",
   "nbconvert_exporter": "python",
   "pygments_lexer": "ipython3",
   "version": "3.4.3"
  }
 },
 "nbformat": 4,
 "nbformat_minor": 0
}
