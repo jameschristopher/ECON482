{
 "cells": [
  {
   "cell_type": "code",
   "execution_count": 1253,
   "metadata": {
    "collapsed": false
   },
   "outputs": [],
   "source": [
    "import Quandl\n",
    "import numpy as np\n",
    "from scipy import stats\n",
    "import statsmodels\n",
    "import statsmodels.api as sm\n",
    "from matplotlib import pyplot as plt\n",
    "%matplotlib inline\n",
    "import pandas as pd\n",
    "from sklearn.linear_model import LinearRegression\n",
    "from sklearn.model_selection import train_test_split\n",
    "from sklearn.metrics import r2_score\n",
    "from statsmodels.stats.diagnostic import het_white, het_breushpagan"
   ]
  },
  {
   "cell_type": "code",
   "execution_count": 1254,
   "metadata": {
    "collapsed": false
   },
   "outputs": [],
   "source": [
    "QUANDL_API_KEY = 'MNJzKfdjWBuixA5t61h1'\n",
    "\n",
    "def get_quandl_data(code):\n",
    "    return Quandl.get(code, authtoken=QUANDL_API_KEY)"
   ]
  },
  {
   "cell_type": "markdown",
   "metadata": {},
   "source": [
    "### [Number of new utility patents](https://www.quandl.com/data/USPTO/PAT_ACT-U-S-Patent-Activity)"
   ]
  },
  {
   "cell_type": "code",
   "execution_count": 1255,
   "metadata": {
    "collapsed": false
   },
   "outputs": [],
   "source": [
    "patents = get_quandl_data(\"USPTO/PAT_ACT\")\n",
    "patents = patents['Utility Patents']"
   ]
  },
  {
   "cell_type": "code",
   "execution_count": 1256,
   "metadata": {
    "collapsed": false
   },
   "outputs": [
    {
     "data": {
      "text/plain": [
       "Year\n",
       "1790-12-31     3.0\n",
       "1791-12-31    33.0\n",
       "1792-12-31    11.0\n",
       "1793-12-31    20.0\n",
       "1794-12-31    22.0\n",
       "Name: Utility Patents, dtype: float64"
      ]
     },
     "execution_count": 1256,
     "metadata": {},
     "output_type": "execute_result"
    }
   ],
   "source": [
    "patents.head()"
   ]
  },
  {
   "cell_type": "markdown",
   "metadata": {},
   "source": [
    "### [Natural resource rents as a percentage of GDP](https://www.quandl.com/data/WWDI/USA_NY_GDP_TOTL_RT_ZS-Total-natural-resources-rents-of-GDP-United-States)"
   ]
  },
  {
   "cell_type": "code",
   "execution_count": 1257,
   "metadata": {
    "collapsed": false
   },
   "outputs": [],
   "source": [
    "natural_resources = get_quandl_data(\"WWDI/USA_NY_GDP_TOTL_RT_ZS\")['Value']\n",
    "natural_resources.name = 'Natural Resources'\n",
    "natural_resources /= 100"
   ]
  },
  {
   "cell_type": "code",
   "execution_count": 1258,
   "metadata": {
    "collapsed": false
   },
   "outputs": [
    {
     "data": {
      "text/plain": [
       "Date\n",
       "1970-12-31    0.010006\n",
       "1971-12-31    0.010355\n",
       "1972-12-31    0.009789\n",
       "1973-12-31    0.012949\n",
       "1974-12-31    0.035525\n",
       "Name: Natural Resources, dtype: float64"
      ]
     },
     "execution_count": 1258,
     "metadata": {},
     "output_type": "execute_result"
    }
   ],
   "source": [
    "natural_resources.head()"
   ]
  },
  {
   "cell_type": "markdown",
   "metadata": {},
   "source": [
    "### [Government R&D investment](https://fred.stlouisfed.org/series/Y057RA3A086NBEA)"
   ]
  },
  {
   "cell_type": "code",
   "execution_count": 1259,
   "metadata": {
    "collapsed": true
   },
   "outputs": [],
   "source": [
    "rd_public = pd.read_csv('rd_public.csv', index_col='DATE', parse_dates=True)['Y057RA3A086NBEA']\n",
    "rd_public.name = 'R&D Public'\n",
    "rd_public = rd_public.resample('A').first()"
   ]
  },
  {
   "cell_type": "code",
   "execution_count": 1260,
   "metadata": {
    "collapsed": false
   },
   "outputs": [
    {
     "data": {
      "text/plain": [
       "DATE\n",
       "1929-12-31    0.390\n",
       "1930-12-31    0.533\n",
       "1931-12-31    0.641\n",
       "1932-12-31    0.807\n",
       "1933-12-31    0.782\n",
       "Freq: A-DEC, Name: R&D Public, dtype: float64"
      ]
     },
     "execution_count": 1260,
     "metadata": {},
     "output_type": "execute_result"
    }
   ],
   "source": [
    "rd_public.head()"
   ]
  },
  {
   "cell_type": "markdown",
   "metadata": {},
   "source": [
    "### [Private R&D investment](https://fred.stlouisfed.org/series/Y006RA3A086NBEA)"
   ]
  },
  {
   "cell_type": "code",
   "execution_count": 1261,
   "metadata": {
    "collapsed": true
   },
   "outputs": [],
   "source": [
    "rd_private = pd.read_csv('rd_private.csv', index_col='DATE', parse_dates=True)['Y006RA3A086NBEA']\n",
    "rd_private.name = 'R&D Private'\n",
    "rd_private = rd_private.resample('A').first()"
   ]
  },
  {
   "cell_type": "code",
   "execution_count": 1262,
   "metadata": {
    "collapsed": false
   },
   "outputs": [
    {
     "data": {
      "text/plain": [
       "DATE\n",
       "1929-12-31    0.890\n",
       "1930-12-31    0.988\n",
       "1931-12-31    1.195\n",
       "1932-12-31    1.192\n",
       "1933-12-31    1.207\n",
       "Freq: A-DEC, Name: R&D Private, dtype: float64"
      ]
     },
     "execution_count": 1262,
     "metadata": {},
     "output_type": "execute_result"
    }
   ],
   "source": [
    "rd_private.head()"
   ]
  },
  {
   "cell_type": "markdown",
   "metadata": {},
   "source": [
    "### [Number of doctorates](https://www.quandl.com/data/NSF/DOCTORATES--Doctorate-Recipients-from-U-S-Colleges-and-Universities)"
   ]
  },
  {
   "cell_type": "code",
   "execution_count": 1263,
   "metadata": {
    "collapsed": false
   },
   "outputs": [],
   "source": [
    "doctorates = get_quandl_data(\"NSF/DOCTORATES\")['Number']\n",
    "doctorates.name = '# of Doctorates'\n",
    "doctorates = doctorates.shift(-1, freq='D')"
   ]
  },
  {
   "cell_type": "code",
   "execution_count": 1264,
   "metadata": {
    "collapsed": false
   },
   "outputs": [
    {
     "data": {
      "text/plain": [
       "Year\n",
       "1956-12-31     8611.0\n",
       "1957-12-31     8773.0\n",
       "1958-12-31     9213.0\n",
       "1959-12-31     9733.0\n",
       "1960-12-31    10413.0\n",
       "Freq: A-DEC, Name: # of Doctorates, dtype: float64"
      ]
     },
     "execution_count": 1264,
     "metadata": {},
     "output_type": "execute_result"
    }
   ],
   "source": [
    "doctorates.head()"
   ]
  },
  {
   "cell_type": "markdown",
   "metadata": {},
   "source": [
    "### [Number of venture capital deals](https://www.quandl.com/data/NVCA/VENTURE_3_11-Venture-Capital-Investments-By-State-Number-of-Deals)"
   ]
  },
  {
   "cell_type": "code",
   "execution_count": 1265,
   "metadata": {
    "collapsed": false
   },
   "outputs": [],
   "source": [
    "venture_capital = get_quandl_data(\"NVCA/VENTURE_3_11\")['Total']\n",
    "venture_capital.name = '# of VC Deals'"
   ]
  },
  {
   "cell_type": "code",
   "execution_count": 1266,
   "metadata": {
    "collapsed": false
   },
   "outputs": [
    {
     "data": {
      "text/plain": [
       "Year\n",
       "1985-12-31    1345.0\n",
       "1986-12-31    1421.0\n",
       "1987-12-31    1646.0\n",
       "1988-12-31    1526.0\n",
       "1989-12-31    1544.0\n",
       "Name: # of VC Deals, dtype: float64"
      ]
     },
     "execution_count": 1266,
     "metadata": {},
     "output_type": "execute_result"
    }
   ],
   "source": [
    "venture_capital.head()"
   ]
  },
  {
   "cell_type": "markdown",
   "metadata": {},
   "source": [
    "### [Unemployment rate](https://www.quandl.com/data/FRED/UNRATE-Civilian-Unemployment-Rate)"
   ]
  },
  {
   "cell_type": "code",
   "execution_count": 1267,
   "metadata": {
    "collapsed": false
   },
   "outputs": [],
   "source": [
    "unemployment = get_quandl_data(\"FRED/UNRATE\")['VALUE']\n",
    "unemployment = unemployment.shift(-1, freq='D')\n",
    "unemployment = unemployment.resample('A').first()\n",
    "unemployment.name = \"Unemployment rate (%)\"\n",
    "unemployment /= 100"
   ]
  },
  {
   "cell_type": "code",
   "execution_count": 1268,
   "metadata": {
    "collapsed": false
   },
   "outputs": [
    {
     "data": {
      "text/plain": [
       "DATE\n",
       "1947-12-31    0.034\n",
       "1948-12-31    0.038\n",
       "1949-12-31    0.047\n",
       "1950-12-31    0.064\n",
       "1951-12-31    0.034\n",
       "Freq: A-DEC, Name: Unemployment rate (%), dtype: float64"
      ]
     },
     "execution_count": 1268,
     "metadata": {},
     "output_type": "execute_result"
    }
   ],
   "source": [
    "unemployment.head()"
   ]
  },
  {
   "cell_type": "markdown",
   "metadata": {},
   "source": [
    "### [Immigration](http://www.migrationpolicy.org/programs/data-hub/charts/immigrant-population-over-time?width=1000&height=850&iframe=true)"
   ]
  },
  {
   "cell_type": "code",
   "execution_count": 1269,
   "metadata": {
    "collapsed": false
   },
   "outputs": [],
   "source": [
    "immigration = pd.read_csv('us_immigration.csv', index_col='Year', thousands=',', parse_dates=True)['Number of Legal Permanent Residents']\n",
    "immigration.name = 'New Legal Permanent Residents'\n",
    "immigration = immigration.shift(-1, freq='D')"
   ]
  },
  {
   "cell_type": "code",
   "execution_count": 1270,
   "metadata": {
    "collapsed": false
   },
   "outputs": [
    {
     "data": {
      "text/plain": [
       "Year\n",
       "1819-12-31    8385\n",
       "1820-12-31    9127\n",
       "1821-12-31    6911\n",
       "1822-12-31    6354\n",
       "1823-12-31    7912\n",
       "Freq: A-DEC, Name: New Legal Permanent Residents, dtype: int64"
      ]
     },
     "execution_count": 1270,
     "metadata": {},
     "output_type": "execute_result"
    }
   ],
   "source": [
    "immigration.head()"
   ]
  },
  {
   "cell_type": "markdown",
   "metadata": {},
   "source": [
    "### [Inflation](https://www.quandl.com/data/WORLDBANK/USA_FP_CPI_TOTL_ZG-United-States-Inflation-consumer-prices-annual)"
   ]
  },
  {
   "cell_type": "code",
   "execution_count": 1271,
   "metadata": {
    "collapsed": true
   },
   "outputs": [],
   "source": [
    "cpi = get_quandl_data('WORLDBANK/USA_FP_CPI_TOTL_ZG')['Value']\n",
    "cpi.name = 'CPI'"
   ]
  },
  {
   "cell_type": "code",
   "execution_count": 1272,
   "metadata": {
    "collapsed": false
   },
   "outputs": [
    {
     "data": {
      "text/plain": [
       "Date\n",
       "1961-12-31    1.075182\n",
       "1962-12-31    1.116071\n",
       "1963-12-31    1.214128\n",
       "1964-12-31    1.308615\n",
       "1965-12-31    1.668461\n",
       "Name: CPI, dtype: float64"
      ]
     },
     "execution_count": 1272,
     "metadata": {},
     "output_type": "execute_result"
    }
   ],
   "source": [
    "cpi.head()"
   ]
  },
  {
   "cell_type": "markdown",
   "metadata": {},
   "source": [
    "### [Post-secondary school enrollment](https://www.quandl.com/data/WORLDBANK/USA_SE_TER_ENRR-United-States-School-enrollment-tertiary-gross)"
   ]
  },
  {
   "cell_type": "code",
   "execution_count": 1273,
   "metadata": {
    "collapsed": true
   },
   "outputs": [],
   "source": [
    "tertiary_education_enrollment = get_quandl_data(\"WORLDBANK/USA_SE_TER_ENRR\")['Value']\n",
    "tertiary_education_enrollment.name = 'Post-secondary school enrollment (%)'\n",
    "tertiary_education_enrollment /= 100"
   ]
  },
  {
   "cell_type": "code",
   "execution_count": 1274,
   "metadata": {
    "collapsed": false
   },
   "outputs": [
    {
     "data": {
      "text/plain": [
       "Date\n",
       "1971-12-31    0.470459\n",
       "1972-12-31    0.479784\n",
       "1973-12-31    0.485346\n",
       "1974-12-31    0.489661\n",
       "1975-12-31    0.510441\n",
       "Name: Post-secondary school enrollment (%), dtype: float64"
      ]
     },
     "execution_count": 1274,
     "metadata": {},
     "output_type": "execute_result"
    }
   ],
   "source": [
    "tertiary_education_enrollment.head()"
   ]
  },
  {
   "cell_type": "markdown",
   "metadata": {},
   "source": [
    "### [Number of IPOs](https://www.quandl.com/data/RITTER/US_IPO_STATS-Historical-US-IPO-Statistics)"
   ]
  },
  {
   "cell_type": "code",
   "execution_count": 1275,
   "metadata": {
    "collapsed": false
   },
   "outputs": [],
   "source": [
    "ipos = get_quandl_data(\"RITTER/US_IPO_STATS\")['Gross Number of IPOs']\n",
    "ipos.name = \"# of IPOs\"\n",
    "ipos = ipos.resample('A').sum()"
   ]
  },
  {
   "cell_type": "code",
   "execution_count": 1276,
   "metadata": {
    "collapsed": false
   },
   "outputs": [
    {
     "data": {
      "text/plain": [
       "Date\n",
       "1960-12-31    269.0\n",
       "1961-12-31    435.0\n",
       "1962-12-31    298.0\n",
       "1963-12-31     83.0\n",
       "1964-12-31     97.0\n",
       "Freq: A-DEC, Name: # of IPOs, dtype: float64"
      ]
     },
     "execution_count": 1276,
     "metadata": {},
     "output_type": "execute_result"
    }
   ],
   "source": [
    "ipos.head()"
   ]
  },
  {
   "cell_type": "markdown",
   "metadata": {},
   "source": [
    "### [% of degrees that are STEM](https://www.nsf.gov/statistics/data.cfm)"
   ]
  },
  {
   "cell_type": "code",
   "execution_count": 1277,
   "metadata": {
    "collapsed": false
   },
   "outputs": [],
   "source": [
    "stem_degree_percent = pd.read_csv(\"stem_degrees.csv\", index_col='year', parse_dates=True)\n",
    "stem_degree_percent /= 100\n",
    "stem_degree_percent = stem_degree_percent.resample('A').first()\n",
    "stem_degree_percent = stem_degree_percent['Doctorate']\n",
    "stem_degree_percent.name = \"% of doctorates that are STEM\""
   ]
  },
  {
   "cell_type": "code",
   "execution_count": 1279,
   "metadata": {
    "collapsed": false
   },
   "outputs": [
    {
     "data": {
      "text/plain": [
       "year\n",
       "1966-12-31    0.645\n",
       "1967-12-31    0.643\n",
       "1968-12-31    0.638\n",
       "1969-12-31    0.633\n",
       "1970-12-31    0.612\n",
       "Freq: A-DEC, Name: % of doctorates that are STEM, dtype: float64"
      ]
     },
     "execution_count": 1279,
     "metadata": {},
     "output_type": "execute_result"
    }
   ],
   "source": [
    "stem_degree_percent.head()"
   ]
  },
  {
   "cell_type": "code",
   "execution_count": 1280,
   "metadata": {
    "collapsed": false
   },
   "outputs": [],
   "source": [
    "list_of_factors = [\n",
    "#     natural_resources,\n",
    "    rd_public,\n",
    "    rd_private,\n",
    "#     doctorates,\n",
    "#     venture_capital,\n",
    "#     unemployment,\n",
    "    immigration,\n",
    "#     cpi,\n",
    "#     tertiary_education_enrollment,\n",
    "    stem_degree_percent,\n",
    "    ipos\n",
    "]"
   ]
  },
  {
   "cell_type": "code",
   "execution_count": 1281,
   "metadata": {
    "collapsed": true
   },
   "outputs": [],
   "source": [
    "factors = pd.concat(list_of_factors, 1)"
   ]
  },
  {
   "cell_type": "code",
   "execution_count": 1282,
   "metadata": {
    "collapsed": true
   },
   "outputs": [],
   "source": [
    "joined = pd.concat([patents, factors], 1)\n",
    "joined = joined.dropna()"
   ]
  },
  {
   "cell_type": "code",
   "execution_count": 1283,
   "metadata": {
    "collapsed": false
   },
   "outputs": [],
   "source": [
    "patents = joined.pop('Utility Patents')\n",
    "factors = joined"
   ]
  },
  {
   "cell_type": "code",
   "execution_count": 1284,
   "metadata": {
    "collapsed": false
   },
   "outputs": [
    {
     "data": {
      "text/plain": [
       "1966-12-31    68405.0\n",
       "1967-12-31    65652.0\n",
       "1968-12-31    59104.0\n",
       "1969-12-31    67559.0\n",
       "1970-12-31    64429.0\n",
       "Freq: A-DEC, Name: Utility Patents, dtype: float64"
      ]
     },
     "execution_count": 1284,
     "metadata": {},
     "output_type": "execute_result"
    }
   ],
   "source": [
    "patents.head()"
   ]
  },
  {
   "cell_type": "code",
   "execution_count": 1285,
   "metadata": {
    "collapsed": false
   },
   "outputs": [
    {
     "data": {
      "text/html": [
       "<div>\n",
       "<table border=\"1\" class=\"dataframe\">\n",
       "  <thead>\n",
       "    <tr style=\"text-align: right;\">\n",
       "      <th></th>\n",
       "      <th>R&amp;D Public</th>\n",
       "      <th>R&amp;D Private</th>\n",
       "      <th>New Legal Permanent Residents</th>\n",
       "      <th>% of doctorates that are STEM</th>\n",
       "      <th># of IPOs</th>\n",
       "    </tr>\n",
       "  </thead>\n",
       "  <tbody>\n",
       "    <tr>\n",
       "      <th>1966-12-31</th>\n",
       "      <td>48.144</td>\n",
       "      <td>16.762</td>\n",
       "      <td>361972.0</td>\n",
       "      <td>0.645</td>\n",
       "      <td>84.0</td>\n",
       "    </tr>\n",
       "    <tr>\n",
       "      <th>1967-12-31</th>\n",
       "      <td>50.108</td>\n",
       "      <td>18.523</td>\n",
       "      <td>454448.0</td>\n",
       "      <td>0.643</td>\n",
       "      <td>100.0</td>\n",
       "    </tr>\n",
       "    <tr>\n",
       "      <th>1968-12-31</th>\n",
       "      <td>51.300</td>\n",
       "      <td>20.035</td>\n",
       "      <td>358579.0</td>\n",
       "      <td>0.638</td>\n",
       "      <td>368.0</td>\n",
       "    </tr>\n",
       "    <tr>\n",
       "      <th>1969-12-31</th>\n",
       "      <td>50.792</td>\n",
       "      <td>21.347</td>\n",
       "      <td>373326.0</td>\n",
       "      <td>0.633</td>\n",
       "      <td>781.0</td>\n",
       "    </tr>\n",
       "    <tr>\n",
       "      <th>1970-12-31</th>\n",
       "      <td>47.143</td>\n",
       "      <td>21.429</td>\n",
       "      <td>370478.0</td>\n",
       "      <td>0.612</td>\n",
       "      <td>358.0</td>\n",
       "    </tr>\n",
       "  </tbody>\n",
       "</table>\n",
       "</div>"
      ],
      "text/plain": [
       "            R&D Public  R&D Private  New Legal Permanent Residents  \\\n",
       "1966-12-31      48.144       16.762                       361972.0   \n",
       "1967-12-31      50.108       18.523                       454448.0   \n",
       "1968-12-31      51.300       20.035                       358579.0   \n",
       "1969-12-31      50.792       21.347                       373326.0   \n",
       "1970-12-31      47.143       21.429                       370478.0   \n",
       "\n",
       "            % of doctorates that are STEM  # of IPOs  \n",
       "1966-12-31                          0.645       84.0  \n",
       "1967-12-31                          0.643      100.0  \n",
       "1968-12-31                          0.638      368.0  \n",
       "1969-12-31                          0.633      781.0  \n",
       "1970-12-31                          0.612      358.0  "
      ]
     },
     "execution_count": 1285,
     "metadata": {},
     "output_type": "execute_result"
    }
   ],
   "source": [
    "factors.head()"
   ]
  },
  {
   "cell_type": "code",
   "execution_count": 1286,
   "metadata": {
    "collapsed": false
   },
   "outputs": [
    {
     "data": {
      "text/html": [
       "<div>\n",
       "<table border=\"1\" class=\"dataframe\">\n",
       "  <thead>\n",
       "    <tr style=\"text-align: right;\">\n",
       "      <th></th>\n",
       "      <th>R&amp;D Public</th>\n",
       "      <th>R&amp;D Private</th>\n",
       "      <th>New Legal Permanent Residents</th>\n",
       "      <th>% of doctorates that are STEM</th>\n",
       "      <th># of IPOs</th>\n",
       "    </tr>\n",
       "  </thead>\n",
       "  <tbody>\n",
       "    <tr>\n",
       "      <th>2008-12-31</th>\n",
       "      <td>97.993</td>\n",
       "      <td>102.839</td>\n",
       "      <td>1130818.0</td>\n",
       "      <td>0.673</td>\n",
       "      <td>54.0</td>\n",
       "    </tr>\n",
       "    <tr>\n",
       "      <th>2009-12-31</th>\n",
       "      <td>100.000</td>\n",
       "      <td>100.000</td>\n",
       "      <td>1042625.0</td>\n",
       "      <td>0.675</td>\n",
       "      <td>76.0</td>\n",
       "    </tr>\n",
       "    <tr>\n",
       "      <th>2010-12-31</th>\n",
       "      <td>101.221</td>\n",
       "      <td>102.351</td>\n",
       "      <td>1062040.0</td>\n",
       "      <td>0.690</td>\n",
       "      <td>197.0</td>\n",
       "    </tr>\n",
       "    <tr>\n",
       "      <th>2011-12-31</th>\n",
       "      <td>100.091</td>\n",
       "      <td>103.336</td>\n",
       "      <td>1031631.0</td>\n",
       "      <td>0.705</td>\n",
       "      <td>180.0</td>\n",
       "    </tr>\n",
       "    <tr>\n",
       "      <th>2012-12-31</th>\n",
       "      <td>96.455</td>\n",
       "      <td>106.049</td>\n",
       "      <td>990553.0</td>\n",
       "      <td>0.702</td>\n",
       "      <td>179.0</td>\n",
       "    </tr>\n",
       "  </tbody>\n",
       "</table>\n",
       "</div>"
      ],
      "text/plain": [
       "            R&D Public  R&D Private  New Legal Permanent Residents  \\\n",
       "2008-12-31      97.993      102.839                      1130818.0   \n",
       "2009-12-31     100.000      100.000                      1042625.0   \n",
       "2010-12-31     101.221      102.351                      1062040.0   \n",
       "2011-12-31     100.091      103.336                      1031631.0   \n",
       "2012-12-31      96.455      106.049                       990553.0   \n",
       "\n",
       "            % of doctorates that are STEM  # of IPOs  \n",
       "2008-12-31                          0.673       54.0  \n",
       "2009-12-31                          0.675       76.0  \n",
       "2010-12-31                          0.690      197.0  \n",
       "2011-12-31                          0.705      180.0  \n",
       "2012-12-31                          0.702      179.0  "
      ]
     },
     "execution_count": 1286,
     "metadata": {},
     "output_type": "execute_result"
    }
   ],
   "source": [
    "factors.tail()"
   ]
  },
  {
   "cell_type": "code",
   "execution_count": 1287,
   "metadata": {
    "collapsed": false
   },
   "outputs": [
    {
     "data": {
      "text/html": [
       "<div>\n",
       "<table border=\"1\" class=\"dataframe\">\n",
       "  <thead>\n",
       "    <tr style=\"text-align: right;\">\n",
       "      <th></th>\n",
       "      <th>R&amp;D Public</th>\n",
       "      <th>R&amp;D Private</th>\n",
       "      <th>New Legal Permanent Residents</th>\n",
       "      <th>% of doctorates that are STEM</th>\n",
       "      <th># of IPOs</th>\n",
       "    </tr>\n",
       "  </thead>\n",
       "  <tbody>\n",
       "    <tr>\n",
       "      <th>count</th>\n",
       "      <td>47.000000</td>\n",
       "      <td>47.000000</td>\n",
       "      <td>4.700000e+01</td>\n",
       "      <td>47.000000</td>\n",
       "      <td>47.000000</td>\n",
       "    </tr>\n",
       "    <tr>\n",
       "      <th>mean</th>\n",
       "      <td>67.512383</td>\n",
       "      <td>55.938298</td>\n",
       "      <td>7.631757e+05</td>\n",
       "      <td>0.622681</td>\n",
       "      <td>333.234043</td>\n",
       "    </tr>\n",
       "    <tr>\n",
       "      <th>std</th>\n",
       "      <td>17.772244</td>\n",
       "      <td>28.786743</td>\n",
       "      <td>3.340952e+05</td>\n",
       "      <td>0.035815</td>\n",
       "      <td>249.267990</td>\n",
       "    </tr>\n",
       "    <tr>\n",
       "      <th>min</th>\n",
       "      <td>43.902000</td>\n",
       "      <td>16.762000</td>\n",
       "      <td>3.585790e+05</td>\n",
       "      <td>0.561000</td>\n",
       "      <td>9.000000</td>\n",
       "    </tr>\n",
       "    <tr>\n",
       "      <th>25%</th>\n",
       "      <td>51.046000</td>\n",
       "      <td>27.480500</td>\n",
       "      <td>5.116940e+05</td>\n",
       "      <td>0.597000</td>\n",
       "      <td>132.000000</td>\n",
       "    </tr>\n",
       "    <tr>\n",
       "      <th>50%</th>\n",
       "      <td>66.215000</td>\n",
       "      <td>54.414000</td>\n",
       "      <td>6.532060e+05</td>\n",
       "      <td>0.628000</td>\n",
       "      <td>255.000000</td>\n",
       "    </tr>\n",
       "    <tr>\n",
       "      <th>75%</th>\n",
       "      <td>77.174000</td>\n",
       "      <td>82.866500</td>\n",
       "      <td>1.037128e+06</td>\n",
       "      <td>0.640000</td>\n",
       "      <td>526.500000</td>\n",
       "    </tr>\n",
       "    <tr>\n",
       "      <th>max</th>\n",
       "      <td>101.221000</td>\n",
       "      <td>106.049000</td>\n",
       "      <td>1.826595e+06</td>\n",
       "      <td>0.705000</td>\n",
       "      <td>953.000000</td>\n",
       "    </tr>\n",
       "  </tbody>\n",
       "</table>\n",
       "</div>"
      ],
      "text/plain": [
       "       R&D Public  R&D Private  New Legal Permanent Residents  \\\n",
       "count   47.000000    47.000000                   4.700000e+01   \n",
       "mean    67.512383    55.938298                   7.631757e+05   \n",
       "std     17.772244    28.786743                   3.340952e+05   \n",
       "min     43.902000    16.762000                   3.585790e+05   \n",
       "25%     51.046000    27.480500                   5.116940e+05   \n",
       "50%     66.215000    54.414000                   6.532060e+05   \n",
       "75%     77.174000    82.866500                   1.037128e+06   \n",
       "max    101.221000   106.049000                   1.826595e+06   \n",
       "\n",
       "       % of doctorates that are STEM   # of IPOs  \n",
       "count                      47.000000   47.000000  \n",
       "mean                        0.622681  333.234043  \n",
       "std                         0.035815  249.267990  \n",
       "min                         0.561000    9.000000  \n",
       "25%                         0.597000  132.000000  \n",
       "50%                         0.628000  255.000000  \n",
       "75%                         0.640000  526.500000  \n",
       "max                         0.705000  953.000000  "
      ]
     },
     "execution_count": 1287,
     "metadata": {},
     "output_type": "execute_result"
    }
   ],
   "source": [
    "factors.describe()"
   ]
  },
  {
   "cell_type": "markdown",
   "metadata": {},
   "source": [
    "# Visualise Data"
   ]
  },
  {
   "cell_type": "code",
   "execution_count": 1289,
   "metadata": {
    "collapsed": false,
    "scrolled": false
   },
   "outputs": [
    {
     "name": "stderr",
     "output_type": "stream",
     "text": [
      "/usr/local/lib/python3.4/dist-packages/matplotlib/collections.py:590: FutureWarning: elementwise comparison failed; returning scalar instead, but in the future will perform elementwise comparison\n",
      "  if self._edgecolors == str('face'):\n"
     ]
    },
    {
     "data": {
      "image/png": "[encoded data removed]",
      "text/plain": [
       "<matplotlib.figure.Figure at 0x7fa18bc2bcc0>"
      ]
     },
     "metadata": {},
     "output_type": "display_data"
    }
   ],
   "source": [
    "f, axes = plt.subplots(2, 3, sharey=True, figsize=(20,10))\n",
    "for factor, ax in zip(factors, axes.ravel()):\n",
    "    ax.scatter(factors[factor], patents);\n",
    "    ax.set_title(factor)\n",
    "    ax.spines['top'].set_visible(False)\n",
    "    ax.spines['right'].set_visible(False)\n",
    "    ax.xaxis.set_ticks_position('bottom')\n",
    "    ax.yaxis.set_ticks_position('left')\n",
    "    for tick in ax.get_xticklabels():\n",
    "        tick.set_rotation(45)"
   ]
  },
  {
   "cell_type": "markdown",
   "metadata": {},
   "source": [
    "# Model\n",
    "\n",
    "### Train-Test Split (80/20)"
   ]
  },
  {
   "cell_type": "code",
   "execution_count": 1107,
   "metadata": {
    "collapsed": false
   },
   "outputs": [],
   "source": [
    "X_train, X_test, y_train, y_test = train_test_split(factors, patents, test_size=0.20)"
   ]
  },
  {
   "cell_type": "markdown",
   "metadata": {},
   "source": [
    "### Train model"
   ]
  },
  {
   "cell_type": "code",
   "execution_count": 1182,
   "metadata": {
    "collapsed": true
   },
   "outputs": [],
   "source": [
    "model_factors = sm.add_constant(X_train)\n",
    "model = sm.OLS(y_train, model_factors)\n",
    "results = model.fit()"
   ]
  },
  {
   "cell_type": "markdown",
   "metadata": {},
   "source": [
    "### Are our residuals heteroscedastic?"
   ]
  },
  {
   "cell_type": "code",
   "execution_count": 1183,
   "metadata": {
    "collapsed": false
   },
   "outputs": [],
   "source": [
    "_, _, f, pval = het_white(results.resid, model_factors)"
   ]
  },
  {
   "cell_type": "code",
   "execution_count": 1184,
   "metadata": {
    "collapsed": false
   },
   "outputs": [
    {
     "name": "stdout",
     "output_type": "stream",
     "text": [
      "P value of the f-stat: 0.000370452969527\n"
     ]
    }
   ],
   "source": [
    "print(\"P value of the f-stat: %s\" % pval)"
   ]
  },
  {
   "cell_type": "markdown",
   "metadata": {},
   "source": [
    "### ... yes, yes they are heteroscedastic.\n",
    "### We can use a robust covariance matrix to adjust for this affect."
   ]
  },
  {
   "cell_type": "code",
   "execution_count": 1185,
   "metadata": {
    "collapsed": false,
    "scrolled": false
   },
   "outputs": [
    {
     "data": {
      "text/html": [
       "<table class=\"simpletable\">\n",
       "<caption>OLS Regression Results</caption>\n",
       "<tr>\n",
       "  <th>Dep. Variable:</th>     <td>Utility Patents</td> <th>  R-squared:         </th> <td>   0.918</td>\n",
       "</tr>\n",
       "<tr>\n",
       "  <th>Model:</th>                   <td>OLS</td>       <th>  Adj. R-squared:    </th> <td>   0.904</td>\n",
       "</tr>\n",
       "<tr>\n",
       "  <th>Method:</th>             <td>Least Squares</td>  <th>  F-statistic:       </th> <td>   53.46</td>\n",
       "</tr>\n",
       "<tr>\n",
       "  <th>Date:</th>             <td>Tue, 06 Dec 2016</td> <th>  Prob (F-statistic):</th> <td>2.54e-14</td>\n",
       "</tr>\n",
       "<tr>\n",
       "  <th>Time:</th>                 <td>22:57:45</td>     <th>  Log-Likelihood:    </th> <td> -408.69</td>\n",
       "</tr>\n",
       "<tr>\n",
       "  <th>No. Observations:</th>      <td>    37</td>      <th>  AIC:               </th> <td>   829.4</td>\n",
       "</tr>\n",
       "<tr>\n",
       "  <th>Df Residuals:</th>          <td>    31</td>      <th>  BIC:               </th> <td>   839.1</td>\n",
       "</tr>\n",
       "<tr>\n",
       "  <th>Df Model:</th>              <td>     5</td>      <th>                     </th>     <td> </td>   \n",
       "</tr>\n",
       "<tr>\n",
       "  <th>Covariance Type:</th>         <td>HC1</td>       <th>                     </th>     <td> </td>   \n",
       "</tr>\n",
       "</table>\n",
       "<table class=\"simpletable\">\n",
       "<tr>\n",
       "                <td></td>                   <th>coef</th>     <th>std err</th>      <th>t</th>      <th>P>|t|</th> <th>[95.0% Conf. Int.]</th> \n",
       "</tr>\n",
       "<tr>\n",
       "  <th>const</th>                         <td>-1.205e+05</td> <td>  5.9e+04</td> <td>   -2.041</td> <td> 0.050</td> <td>-2.41e+05   -66.169</td>\n",
       "</tr>\n",
       "<tr>\n",
       "  <th>R&D Public</th>                    <td> -535.2427</td> <td>  361.129</td> <td>   -1.482</td> <td> 0.148</td> <td>-1271.770   201.284</td>\n",
       "</tr>\n",
       "<tr>\n",
       "  <th>R&D Private</th>                   <td> 1902.4308</td> <td>  180.239</td> <td>   10.555</td> <td> 0.000</td> <td> 1534.832  2270.030</td>\n",
       "</tr>\n",
       "<tr>\n",
       "  <th>New Legal Permanent Residents</th> <td>   -0.0324</td> <td>    0.008</td> <td>   -3.817</td> <td> 0.001</td> <td>   -0.050    -0.015</td>\n",
       "</tr>\n",
       "<tr>\n",
       "  <th>Doctorate</th>                     <td> 3.178e+05</td> <td> 1.08e+05</td> <td>    2.941</td> <td> 0.006</td> <td> 9.74e+04  5.38e+05</td>\n",
       "</tr>\n",
       "<tr>\n",
       "  <th># of IPOs</th>                     <td>  -44.4127</td> <td>    9.132</td> <td>   -4.863</td> <td> 0.000</td> <td>  -63.038   -25.788</td>\n",
       "</tr>\n",
       "</table>\n",
       "<table class=\"simpletable\">\n",
       "<tr>\n",
       "  <th>Omnibus:</th>       <td> 1.978</td> <th>  Durbin-Watson:     </th> <td>   2.146</td>\n",
       "</tr>\n",
       "<tr>\n",
       "  <th>Prob(Omnibus):</th> <td> 0.372</td> <th>  Jarque-Bera (JB):  </th> <td>   0.964</td>\n",
       "</tr>\n",
       "<tr>\n",
       "  <th>Skew:</th>          <td>-0.146</td> <th>  Prob(JB):          </th> <td>   0.618</td>\n",
       "</tr>\n",
       "<tr>\n",
       "  <th>Kurtosis:</th>      <td> 3.735</td> <th>  Cond. No.          </th> <td>4.26e+07</td>\n",
       "</tr>\n",
       "</table>"
      ],
      "text/plain": [
       "<class 'statsmodels.iolib.summary.Summary'>\n",
       "\"\"\"\n",
       "                            OLS Regression Results                            \n",
       "==============================================================================\n",
       "Dep. Variable:        Utility Patents   R-squared:                       0.918\n",
       "Model:                            OLS   Adj. R-squared:                  0.904\n",
       "Method:                 Least Squares   F-statistic:                     53.46\n",
       "Date:                Tue, 06 Dec 2016   Prob (F-statistic):           2.54e-14\n",
       "Time:                        22:57:45   Log-Likelihood:                -408.69\n",
       "No. Observations:                  37   AIC:                             829.4\n",
       "Df Residuals:                      31   BIC:                             839.1\n",
       "Df Model:                           5                                         \n",
       "Covariance Type:                  HC1                                         \n",
       "=================================================================================================\n",
       "                                    coef    std err          t      P>|t|      [95.0% Conf. Int.]\n",
       "-------------------------------------------------------------------------------------------------\n",
       "const                         -1.205e+05    5.9e+04     -2.041      0.050     -2.41e+05   -66.169\n",
       "R&D Public                     -535.2427    361.129     -1.482      0.148     -1271.770   201.284\n",
       "R&D Private                    1902.4308    180.239     10.555      0.000      1534.832  2270.030\n",
       "New Legal Permanent Residents    -0.0324      0.008     -3.817      0.001        -0.050    -0.015\n",
       "Doctorate                      3.178e+05   1.08e+05      2.941      0.006      9.74e+04  5.38e+05\n",
       "# of IPOs                       -44.4127      9.132     -4.863      0.000       -63.038   -25.788\n",
       "==============================================================================\n",
       "Omnibus:                        1.978   Durbin-Watson:                   2.146\n",
       "Prob(Omnibus):                  0.372   Jarque-Bera (JB):                0.964\n",
       "Skew:                          -0.146   Prob(JB):                        0.618\n",
       "Kurtosis:                       3.735   Cond. No.                     4.26e+07\n",
       "==============================================================================\n",
       "\n",
       "Warnings:\n",
       "[1] Standard Errors are heteroscedasticity robust (HC1)\n",
       "[2] The condition number is large, 4.26e+07. This might indicate that there are\n",
       "strong multicollinearity or other numerical problems.\n",
       "\"\"\""
      ]
     },
     "execution_count": 1185,
     "metadata": {},
     "output_type": "execute_result"
    }
   ],
   "source": [
    "results.get_robustcov_results().summary()"
   ]
  },
  {
   "cell_type": "markdown",
   "metadata": {},
   "source": [
    "### Test model out of sample"
   ]
  },
  {
   "cell_type": "code",
   "execution_count": 1112,
   "metadata": {
    "collapsed": false
   },
   "outputs": [],
   "source": [
    "model_test_factors = sm.add_constant(X_test)\n",
    "oos_predictions = results.predict(model_test_factors)"
   ]
  },
  {
   "cell_type": "code",
   "execution_count": 1113,
   "metadata": {
    "collapsed": false
   },
   "outputs": [
    {
     "data": {
      "text/html": [
       "<div>\n",
       "<table border=\"1\" class=\"dataframe\">\n",
       "  <thead>\n",
       "    <tr style=\"text-align: right;\">\n",
       "      <th></th>\n",
       "      <th>Actual</th>\n",
       "      <th>Predicted</th>\n",
       "    </tr>\n",
       "    <tr>\n",
       "      <th>DATE</th>\n",
       "      <th></th>\n",
       "      <th></th>\n",
       "    </tr>\n",
       "  </thead>\n",
       "  <tbody>\n",
       "    <tr>\n",
       "      <th>1995-12-31</th>\n",
       "      <td>101419.0</td>\n",
       "      <td>111243.921277</td>\n",
       "    </tr>\n",
       "    <tr>\n",
       "      <th>2004-12-31</th>\n",
       "      <td>164290.0</td>\n",
       "      <td>139033.656881</td>\n",
       "    </tr>\n",
       "    <tr>\n",
       "      <th>1978-12-31</th>\n",
       "      <td>66102.0</td>\n",
       "      <td>73906.628228</td>\n",
       "    </tr>\n",
       "    <tr>\n",
       "      <th>1972-12-31</th>\n",
       "      <td>74810.0</td>\n",
       "      <td>44924.232814</td>\n",
       "    </tr>\n",
       "    <tr>\n",
       "      <th>1998-12-31</th>\n",
       "      <td>147517.0</td>\n",
       "      <td>153527.874262</td>\n",
       "    </tr>\n",
       "    <tr>\n",
       "      <th>2005-12-31</th>\n",
       "      <td>143806.0</td>\n",
       "      <td>149727.634559</td>\n",
       "    </tr>\n",
       "    <tr>\n",
       "      <th>1984-12-31</th>\n",
       "      <td>67200.0</td>\n",
       "      <td>73774.804271</td>\n",
       "    </tr>\n",
       "    <tr>\n",
       "      <th>1979-12-31</th>\n",
       "      <td>48854.0</td>\n",
       "      <td>71298.238147</td>\n",
       "    </tr>\n",
       "    <tr>\n",
       "      <th>1971-12-31</th>\n",
       "      <td>78317.0</td>\n",
       "      <td>59094.575738</td>\n",
       "    </tr>\n",
       "    <tr>\n",
       "      <th>1985-12-31</th>\n",
       "      <td>71661.0</td>\n",
       "      <td>80157.039746</td>\n",
       "    </tr>\n",
       "  </tbody>\n",
       "</table>\n",
       "</div>"
      ],
      "text/plain": [
       "              Actual      Predicted\n",
       "DATE                               \n",
       "1995-12-31  101419.0  111243.921277\n",
       "2004-12-31  164290.0  139033.656881\n",
       "1978-12-31   66102.0   73906.628228\n",
       "1972-12-31   74810.0   44924.232814\n",
       "1998-12-31  147517.0  153527.874262\n",
       "2005-12-31  143806.0  149727.634559\n",
       "1984-12-31   67200.0   73774.804271\n",
       "1979-12-31   48854.0   71298.238147\n",
       "1971-12-31   78317.0   59094.575738\n",
       "1985-12-31   71661.0   80157.039746"
      ]
     },
     "execution_count": 1113,
     "metadata": {},
     "output_type": "execute_result"
    }
   ],
   "source": [
    "pd.DataFrame({'Predicted': oos_predictions, 'Actual': y_test})"
   ]
  },
  {
   "cell_type": "code",
   "execution_count": 1116,
   "metadata": {
    "collapsed": false
   },
   "outputs": [
    {
     "name": "stderr",
     "output_type": "stream",
     "text": [
      "/usr/local/lib/python3.4/dist-packages/matplotlib/collections.py:590: FutureWarning: elementwise comparison failed; returning scalar instead, but in the future will perform elementwise comparison\n",
      "  if self._edgecolors == str('face'):\n"
     ]
    },
    {
     "data": {
      "image/png": "[encoded data removed]",
      "text/plain": [
       "<matplotlib.figure.Figure at 0x7fa18b9cef98>"
      ]
     },
     "metadata": {},
     "output_type": "display_data"
    }
   ],
   "source": [
    "plt.scatter(oos_predictions, y_test);"
   ]
  },
  {
   "cell_type": "code",
   "execution_count": 1117,
   "metadata": {
    "collapsed": false
   },
   "outputs": [
    {
     "data": {
      "text/plain": [
       "0.81592955277284562"
      ]
     },
     "execution_count": 1117,
     "metadata": {},
     "output_type": "execute_result"
    }
   ],
   "source": [
    "r2_score(y_test, oos_predictions)"
   ]
  },
  {
   "cell_type": "code",
   "execution_count": null,
   "metadata": {
    "collapsed": true
   },
   "outputs": [],
   "source": []
  }
 ],
 "metadata": {
  "kernelspec": {
   "display_name": "Python 3",
   "language": "python",
   "name": "python3"
  },
  "language_info": {
   "codemirror_mode": {
    "name": "ipython",
    "version": 3
   },
   "file_extension": ".py",
   "mimetype": "text/x-python",
   "name": "python",
   "nbconvert_exporter": "python",
   "pygments_lexer": "ipython3",
   "version": "3.4.3"
  }
 },
 "nbformat": 4,
 "nbformat_minor": 0
}
