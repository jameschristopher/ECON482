{
 "cells": [
  {
   "cell_type": "code",
   "execution_count": 944,
   "metadata": {
    "collapsed": false
   },
   "outputs": [],
   "source": [
    "import Quandl\n",
    "import numpy as np\n",
    "from scipy import stats\n",
    "import statsmodels\n",
    "import statsmodels.api as sm\n",
    "from matplotlib import pyplot as plt\n",
    "%matplotlib inline\n",
    "import pandas as pd\n",
    "from sklearn.linear_model import LinearRegression\n",
    "from sklearn.model_selection import train_test_split\n",
    "from sklearn.metrics import r2_score"
   ]
  },
  {
   "cell_type": "code",
   "execution_count": 945,
   "metadata": {
    "collapsed": false
   },
   "outputs": [],
   "source": [
    "QUANDL_API_KEY = 'MNJzKfdjWBuixA5t61h1'\n",
    "\n",
    "def get_quandl_data(code):\n",
    "    return Quandl.get(code, authtoken=QUANDL_API_KEY)"
   ]
  },
  {
   "cell_type": "markdown",
   "metadata": {},
   "source": [
    "- natural resources (WWDI/USA_NY_GDP_TOTL_RT_ZS - 1970)\n",
    "- immigration\n",
    "- unemployment (FRED/UNRATE - 1948)\n",
    "- regulations (WWGI/USA_RQ_EST - 1996)\n",
    "- cpi (WORLDBANK/USA_FP_CPI_TOTL_ZG - 1961)\n",
    "- R&D INVESTMENT (NSF/IND_R_D - 1953)\n",
    "\n",
    "- education (college graduates? literacy? graduation rate?)\n",
    "\n",
    "- researchers (WWDI/USA_SP_POP_SCIE_RD_P6 - 1996)\n",
    "- doctorate recepients (NSF/DOCTORATES - 1957)\n",
    "- doctorate granting instiutions (NSF/DOC_INST - 1970)\n",
    "- venture capital deals(NVCA/VENTURE_3_11 - 1985)"
   ]
  },
  {
   "cell_type": "code",
   "execution_count": 946,
   "metadata": {
    "collapsed": false
   },
   "outputs": [],
   "source": [
    "patents = get_quandl_data(\"USPTO/PAT_ACT\")\n",
    "patents = patents['Utility Patents']"
   ]
  },
  {
   "cell_type": "code",
   "execution_count": 947,
   "metadata": {
    "collapsed": false
   },
   "outputs": [
    {
     "data": {
      "text/plain": [
       "Year\n",
       "1790-12-31     3.0\n",
       "1791-12-31    33.0\n",
       "1792-12-31    11.0\n",
       "1793-12-31    20.0\n",
       "1794-12-31    22.0\n",
       "Name: Utility Patents, dtype: float64"
      ]
     },
     "execution_count": 947,
     "metadata": {},
     "output_type": "execute_result"
    }
   ],
   "source": [
    "patents.head()"
   ]
  },
  {
   "cell_type": "markdown",
   "metadata": {},
   "source": [
    "### [Natural Resources as a percentage of GDP](https://www.quandl.com/data/WWDI/USA_NY_GDP_TOTL_RT_ZS-Total-natural-resources-rents-of-GDP-United-States)"
   ]
  },
  {
   "cell_type": "code",
   "execution_count": 948,
   "metadata": {
    "collapsed": false
   },
   "outputs": [],
   "source": [
    "natural_resources = get_quandl_data(\"WWDI/USA_NY_GDP_TOTL_RT_ZS\")\n",
    "natural_resources = natural_resources['Value']\n",
    "natural_resources.name = 'Natural Resources'\n",
    "natural_resources /= 100"
   ]
  },
  {
   "cell_type": "code",
   "execution_count": 949,
   "metadata": {
    "collapsed": false
   },
   "outputs": [
    {
     "data": {
      "text/plain": [
       "Date\n",
       "1970-12-31    0.010006\n",
       "1971-12-31    0.010355\n",
       "1972-12-31    0.009789\n",
       "1973-12-31    0.012949\n",
       "1974-12-31    0.035525\n",
       "Name: Natural Resources, dtype: float64"
      ]
     },
     "execution_count": 949,
     "metadata": {},
     "output_type": "execute_result"
    }
   ],
   "source": [
    "natural_resources.head()"
   ]
  },
  {
   "cell_type": "markdown",
   "metadata": {},
   "source": [
    "### [R&D Investment](https://www.quandl.com/data/NSF/IND_R_D-Industrial-R-D-Performed-in-the-United-States-by-Source-of-Funds)"
   ]
  },
  {
   "cell_type": "code",
   "execution_count": 950,
   "metadata": {
    "collapsed": false
   },
   "outputs": [],
   "source": [
    "rd_investment = get_quandl_data(\"NSF/IND_R_D\")\n",
    "rd_investment = rd_investment['All Sources (Constant $)']\n",
    "rd_investment.name = 'R&D Investment'\n",
    "rd_investment *= 1000000"
   ]
  },
  {
   "cell_type": "code",
   "execution_count": 951,
   "metadata": {
    "collapsed": false
   },
   "outputs": [
    {
     "data": {
      "text/plain": [
       "Year\n",
       "1953-12-31    1.990100e+10\n",
       "1954-12-31    2.209600e+10\n",
       "1955-12-31    2.474700e+10\n",
       "1956-12-31    3.406400e+10\n",
       "1957-12-31    3.857800e+10\n",
       "Name: R&D Investment, dtype: float64"
      ]
     },
     "execution_count": 951,
     "metadata": {},
     "output_type": "execute_result"
    }
   ],
   "source": [
    "rd_investment.head()"
   ]
  },
  {
   "cell_type": "markdown",
   "metadata": {},
   "source": [
    "### [Number of Doctorates](https://www.quandl.com/data/NSF/DOCTORATES--Doctorate-Recipients-from-U-S-Colleges-and-Universities)"
   ]
  },
  {
   "cell_type": "code",
   "execution_count": 952,
   "metadata": {
    "collapsed": false
   },
   "outputs": [],
   "source": [
    "doctorates = get_quandl_data(\"NSF/DOCTORATES\")\n",
    "doctorates = doctorates['Number']\n",
    "doctorates.name = '# of Doctorates'\n",
    "doctorates = doctorates.shift(-1, freq='D')"
   ]
  },
  {
   "cell_type": "code",
   "execution_count": 953,
   "metadata": {
    "collapsed": false
   },
   "outputs": [
    {
     "data": {
      "text/plain": [
       "Year\n",
       "1956-12-31     8611.0\n",
       "1957-12-31     8773.0\n",
       "1958-12-31     9213.0\n",
       "1959-12-31     9733.0\n",
       "1960-12-31    10413.0\n",
       "Freq: A-DEC, Name: # of Doctorates, dtype: float64"
      ]
     },
     "execution_count": 953,
     "metadata": {},
     "output_type": "execute_result"
    }
   ],
   "source": [
    "doctorates.head()"
   ]
  },
  {
   "cell_type": "markdown",
   "metadata": {},
   "source": [
    "### [Number of Venture Capital Deals](https://www.quandl.com/data/NVCA/VENTURE_3_11-Venture-Capital-Investments-By-State-Number-of-Deals)"
   ]
  },
  {
   "cell_type": "code",
   "execution_count": 954,
   "metadata": {
    "collapsed": false
   },
   "outputs": [],
   "source": [
    "venture_capital = get_quandl_data(\"NVCA/VENTURE_3_11\")\n",
    "venture_capital = venture_capital['Total']\n",
    "venture_capital.name = '# of VC Deals'"
   ]
  },
  {
   "cell_type": "code",
   "execution_count": 955,
   "metadata": {
    "collapsed": false
   },
   "outputs": [
    {
     "data": {
      "text/plain": [
       "Year\n",
       "1985-12-31    1345.0\n",
       "1986-12-31    1421.0\n",
       "1987-12-31    1646.0\n",
       "1988-12-31    1526.0\n",
       "1989-12-31    1544.0\n",
       "Name: # of VC Deals, dtype: float64"
      ]
     },
     "execution_count": 955,
     "metadata": {},
     "output_type": "execute_result"
    }
   ],
   "source": [
    "venture_capital.head()"
   ]
  },
  {
   "cell_type": "markdown",
   "metadata": {},
   "source": [
    "### [Unemployment Rate](https://www.quandl.com/data/FRED/UNRATE-Civilian-Unemployment-Rate)"
   ]
  },
  {
   "cell_type": "code",
   "execution_count": 956,
   "metadata": {
    "collapsed": false
   },
   "outputs": [],
   "source": [
    "unemployment = get_quandl_data(\"FRED/UNRATE\")['VALUE']\n",
    "unemployment = unemployment.shift(-1, freq='D')\n",
    "unemployment = unemployment.resample('A').first()\n",
    "unemployment.name = \"Unemployment rate (%)\"\n",
    "unemployment /= 100"
   ]
  },
  {
   "cell_type": "code",
   "execution_count": 957,
   "metadata": {
    "collapsed": false
   },
   "outputs": [
    {
     "data": {
      "text/plain": [
       "DATE\n",
       "1947-12-31    0.034\n",
       "1948-12-31    0.038\n",
       "1949-12-31    0.047\n",
       "1950-12-31    0.064\n",
       "1951-12-31    0.034\n",
       "Freq: A-DEC, Name: Unemployment rate (%), dtype: float64"
      ]
     },
     "execution_count": 957,
     "metadata": {},
     "output_type": "execute_result"
    }
   ],
   "source": [
    "unemployment.head()"
   ]
  },
  {
   "cell_type": "markdown",
   "metadata": {},
   "source": [
    "### [Immigration](http://www.migrationpolicy.org/programs/data-hub/charts/immigrant-population-over-time?width=1000&height=850&iframe=true)"
   ]
  },
  {
   "cell_type": "code",
   "execution_count": 958,
   "metadata": {
    "collapsed": false
   },
   "outputs": [],
   "source": [
    "immigration = pd.read_csv('us_immigration.csv',\n",
    "                          index_col='Year',\n",
    "                          thousands=',', parse_dates=True)['Number of Legal Permanent Residents']\n",
    "immigration.name = 'New Legal Permanent Residents'\n",
    "immigration = immigration.shift(-1, freq='D')"
   ]
  },
  {
   "cell_type": "code",
   "execution_count": 959,
   "metadata": {
    "collapsed": false
   },
   "outputs": [
    {
     "data": {
      "text/plain": [
       "Year\n",
       "1819-12-31    8385\n",
       "1820-12-31    9127\n",
       "1821-12-31    6911\n",
       "1822-12-31    6354\n",
       "1823-12-31    7912\n",
       "Freq: A-DEC, Name: New Legal Permanent Residents, dtype: int64"
      ]
     },
     "execution_count": 959,
     "metadata": {},
     "output_type": "execute_result"
    }
   ],
   "source": [
    "immigration.head()"
   ]
  },
  {
   "cell_type": "markdown",
   "metadata": {},
   "source": [
    "### [Inflation](https://www.quandl.com/data/WORLDBANK/USA_FP_CPI_TOTL_ZG-United-States-Inflation-consumer-prices-annual)"
   ]
  },
  {
   "cell_type": "code",
   "execution_count": 960,
   "metadata": {
    "collapsed": true
   },
   "outputs": [],
   "source": [
    "cpi = get_quandl_data('WORLDBANK/USA_FP_CPI_TOTL_ZG')['Value']\n",
    "cpi.name = 'CPI'"
   ]
  },
  {
   "cell_type": "code",
   "execution_count": 961,
   "metadata": {
    "collapsed": false
   },
   "outputs": [
    {
     "data": {
      "text/plain": [
       "Date\n",
       "1961-12-31    1.075182\n",
       "1962-12-31    1.116071\n",
       "1963-12-31    1.214128\n",
       "1964-12-31    1.308615\n",
       "1965-12-31    1.668461\n",
       "Name: CPI, dtype: float64"
      ]
     },
     "execution_count": 961,
     "metadata": {},
     "output_type": "execute_result"
    }
   ],
   "source": [
    "cpi.head()"
   ]
  },
  {
   "cell_type": "markdown",
   "metadata": {},
   "source": [
    "### [Post-secondary school enrollment](https://www.quandl.com/data/WORLDBANK/USA_SE_TER_ENRR-United-States-School-enrollment-tertiary-gross)"
   ]
  },
  {
   "cell_type": "code",
   "execution_count": 962,
   "metadata": {
    "collapsed": true
   },
   "outputs": [],
   "source": [
    "tertiary_education_enrollment = get_quandl_data(\"WORLDBANK/USA_SE_TER_ENRR\")['Value']\n",
    "tertiary_education_enrollment.name = 'Post-secondary school enrollment (%)'\n",
    "tertiary_education_enrollment /= 100"
   ]
  },
  {
   "cell_type": "code",
   "execution_count": 963,
   "metadata": {
    "collapsed": false
   },
   "outputs": [
    {
     "data": {
      "text/plain": [
       "Date\n",
       "1971-12-31    0.470459\n",
       "1972-12-31    0.479784\n",
       "1973-12-31    0.485346\n",
       "1974-12-31    0.489661\n",
       "1975-12-31    0.510441\n",
       "Name: Post-secondary school enrollment (%), dtype: float64"
      ]
     },
     "execution_count": 963,
     "metadata": {},
     "output_type": "execute_result"
    }
   ],
   "source": [
    "tertiary_education_enrollment.head()"
   ]
  },
  {
   "cell_type": "markdown",
   "metadata": {},
   "source": [
    "### [# of IPOs](https://www.quandl.com/data/RITTER/US_IPO_STATS-Historical-US-IPO-Statistics)"
   ]
  },
  {
   "cell_type": "code",
   "execution_count": 964,
   "metadata": {
    "collapsed": false
   },
   "outputs": [],
   "source": [
    "ipos = get_quandl_data(\"RITTER/US_IPO_STATS\")['Net Number of IPOs']\n",
    "ipos.name = \"# of IPOs\"\n",
    "ipos = ipos.resample('A').sum()"
   ]
  },
  {
   "cell_type": "code",
   "execution_count": 965,
   "metadata": {
    "collapsed": false
   },
   "outputs": [
    {
     "data": {
      "text/plain": [
       "Date\n",
       "1960-12-31   NaN\n",
       "1961-12-31   NaN\n",
       "1962-12-31   NaN\n",
       "1963-12-31   NaN\n",
       "1964-12-31   NaN\n",
       "Freq: A-DEC, Name: # of IPOs, dtype: float64"
      ]
     },
     "execution_count": 965,
     "metadata": {},
     "output_type": "execute_result"
    }
   ],
   "source": [
    "ipos.head()"
   ]
  },
  {
   "cell_type": "code",
   "execution_count": 966,
   "metadata": {
    "collapsed": true
   },
   "outputs": [],
   "source": [
    "list_of_factors = [\n",
    "#     natural_resources,\n",
    "    rd_investment,\n",
    "    doctorates,\n",
    "#     venture_capital,\n",
    "#     unemployment,\n",
    "#     immigration,\n",
    "#     cpi,\n",
    "    tertiary_education_enrollment,\n",
    "    ipos\n",
    "]"
   ]
  },
  {
   "cell_type": "code",
   "execution_count": 967,
   "metadata": {
    "collapsed": true
   },
   "outputs": [],
   "source": [
    "factors = pd.concat(list_of_factors, 1)"
   ]
  },
  {
   "cell_type": "code",
   "execution_count": 968,
   "metadata": {
    "collapsed": false
   },
   "outputs": [
    {
     "data": {
      "text/html": [
       "<div>\n",
       "<table border=\"1\" class=\"dataframe\">\n",
       "  <thead>\n",
       "    <tr style=\"text-align: right;\">\n",
       "      <th></th>\n",
       "      <th>R&amp;D Investment</th>\n",
       "      <th># of Doctorates</th>\n",
       "      <th>Post-secondary school enrollment (%)</th>\n",
       "      <th># of IPOs</th>\n",
       "    </tr>\n",
       "  </thead>\n",
       "  <tbody>\n",
       "    <tr>\n",
       "      <th>1953-12-31</th>\n",
       "      <td>1.990100e+10</td>\n",
       "      <td>NaN</td>\n",
       "      <td>NaN</td>\n",
       "      <td>NaN</td>\n",
       "    </tr>\n",
       "    <tr>\n",
       "      <th>1954-12-31</th>\n",
       "      <td>2.209600e+10</td>\n",
       "      <td>NaN</td>\n",
       "      <td>NaN</td>\n",
       "      <td>NaN</td>\n",
       "    </tr>\n",
       "    <tr>\n",
       "      <th>1955-12-31</th>\n",
       "      <td>2.474700e+10</td>\n",
       "      <td>NaN</td>\n",
       "      <td>NaN</td>\n",
       "      <td>NaN</td>\n",
       "    </tr>\n",
       "    <tr>\n",
       "      <th>1956-12-31</th>\n",
       "      <td>3.406400e+10</td>\n",
       "      <td>8611.0</td>\n",
       "      <td>NaN</td>\n",
       "      <td>NaN</td>\n",
       "    </tr>\n",
       "    <tr>\n",
       "      <th>1957-12-31</th>\n",
       "      <td>3.857800e+10</td>\n",
       "      <td>8773.0</td>\n",
       "      <td>NaN</td>\n",
       "      <td>NaN</td>\n",
       "    </tr>\n",
       "  </tbody>\n",
       "</table>\n",
       "</div>"
      ],
      "text/plain": [
       "            R&D Investment  # of Doctorates  \\\n",
       "1953-12-31    1.990100e+10              NaN   \n",
       "1954-12-31    2.209600e+10              NaN   \n",
       "1955-12-31    2.474700e+10              NaN   \n",
       "1956-12-31    3.406400e+10           8611.0   \n",
       "1957-12-31    3.857800e+10           8773.0   \n",
       "\n",
       "            Post-secondary school enrollment (%)  # of IPOs  \n",
       "1953-12-31                                   NaN        NaN  \n",
       "1954-12-31                                   NaN        NaN  \n",
       "1955-12-31                                   NaN        NaN  \n",
       "1956-12-31                                   NaN        NaN  \n",
       "1957-12-31                                   NaN        NaN  "
      ]
     },
     "execution_count": 968,
     "metadata": {},
     "output_type": "execute_result"
    }
   ],
   "source": [
    "factors.head()"
   ]
  },
  {
   "cell_type": "code",
   "execution_count": 969,
   "metadata": {
    "collapsed": true
   },
   "outputs": [],
   "source": [
    "joined = pd.concat([patents, factors], 1)\n",
    "joined = joined.dropna()"
   ]
  },
  {
   "cell_type": "code",
   "execution_count": 970,
   "metadata": {
    "collapsed": false
   },
   "outputs": [],
   "source": [
    "patents = joined.pop('Utility Patents')\n",
    "factors = joined"
   ]
  },
  {
   "cell_type": "code",
   "execution_count": 971,
   "metadata": {
    "collapsed": false
   },
   "outputs": [
    {
     "data": {
      "text/plain": [
       "1975-12-31    72000.0\n",
       "1976-12-31    70226.0\n",
       "1977-12-31    65269.0\n",
       "1978-12-31    66102.0\n",
       "1979-12-31    48854.0\n",
       "Name: Utility Patents, dtype: float64"
      ]
     },
     "execution_count": 971,
     "metadata": {},
     "output_type": "execute_result"
    }
   ],
   "source": [
    "patents.head()"
   ]
  },
  {
   "cell_type": "code",
   "execution_count": 972,
   "metadata": {
    "collapsed": false
   },
   "outputs": [
    {
     "data": {
      "text/html": [
       "<div>\n",
       "<table border=\"1\" class=\"dataframe\">\n",
       "  <thead>\n",
       "    <tr style=\"text-align: right;\">\n",
       "      <th></th>\n",
       "      <th>R&amp;D Investment</th>\n",
       "      <th># of Doctorates</th>\n",
       "      <th>Post-secondary school enrollment (%)</th>\n",
       "      <th># of IPOs</th>\n",
       "    </tr>\n",
       "  </thead>\n",
       "  <tbody>\n",
       "    <tr>\n",
       "      <th>1975-12-31</th>\n",
       "      <td>6.365000e+10</td>\n",
       "      <td>32946.0</td>\n",
       "      <td>0.510441</td>\n",
       "      <td>11.0</td>\n",
       "    </tr>\n",
       "    <tr>\n",
       "      <th>1976-12-31</th>\n",
       "      <td>6.715700e+10</td>\n",
       "      <td>31716.0</td>\n",
       "      <td>0.547315</td>\n",
       "      <td>25.0</td>\n",
       "    </tr>\n",
       "    <tr>\n",
       "      <th>1977-12-31</th>\n",
       "      <td>6.976600e+10</td>\n",
       "      <td>30875.0</td>\n",
       "      <td>0.528749</td>\n",
       "      <td>14.0</td>\n",
       "    </tr>\n",
       "    <tr>\n",
       "      <th>1978-12-31</th>\n",
       "      <td>7.278000e+10</td>\n",
       "      <td>31238.0</td>\n",
       "      <td>0.532967</td>\n",
       "      <td>18.0</td>\n",
       "    </tr>\n",
       "    <tr>\n",
       "      <th>1979-12-31</th>\n",
       "      <td>7.714600e+10</td>\n",
       "      <td>31019.0</td>\n",
       "      <td>0.524995</td>\n",
       "      <td>36.0</td>\n",
       "    </tr>\n",
       "  </tbody>\n",
       "</table>\n",
       "</div>"
      ],
      "text/plain": [
       "            R&D Investment  # of Doctorates  \\\n",
       "1975-12-31    6.365000e+10          32946.0   \n",
       "1976-12-31    6.715700e+10          31716.0   \n",
       "1977-12-31    6.976600e+10          30875.0   \n",
       "1978-12-31    7.278000e+10          31238.0   \n",
       "1979-12-31    7.714600e+10          31019.0   \n",
       "\n",
       "            Post-secondary school enrollment (%)  # of IPOs  \n",
       "1975-12-31                              0.510441       11.0  \n",
       "1976-12-31                              0.547315       25.0  \n",
       "1977-12-31                              0.528749       14.0  \n",
       "1978-12-31                              0.532967       18.0  \n",
       "1979-12-31                              0.524995       36.0  "
      ]
     },
     "execution_count": 972,
     "metadata": {},
     "output_type": "execute_result"
    }
   ],
   "source": [
    "factors.head()"
   ]
  },
  {
   "cell_type": "markdown",
   "metadata": {},
   "source": [
    "# Visualise Data"
   ]
  },
  {
   "cell_type": "code",
   "execution_count": 973,
   "metadata": {
    "collapsed": false,
    "scrolled": false
   },
   "outputs": [
    {
     "name": "stderr",
     "output_type": "stream",
     "text": [
      "/usr/local/lib/python3.4/dist-packages/matplotlib/collections.py:590: FutureWarning: elementwise comparison failed; returning scalar instead, but in the future will perform elementwise comparison\n",
      "  if self._edgecolors == str('face'):\n"
     ]
    },
    {
     "data": {
      "image/png": "[encoded data removed]",
      "text/plain": [
       "<matplotlib.figure.Figure at 0x7ff811619828>"
      ]
     },
     "metadata": {},
     "output_type": "display_data"
    }
   ],
   "source": [
    "f, axes = plt.subplots(3, 3, sharey=True, figsize=(20,20))\n",
    "for factor, ax in zip(factors, axes.ravel()):\n",
    "    ax.scatter(factors[factor], patents);\n",
    "    ax.set_title(factor)\n",
    "    for tick in ax.get_xticklabels():\n",
    "        tick.set_rotation(45)"
   ]
  },
  {
   "cell_type": "markdown",
   "metadata": {},
   "source": [
    "# Model\n",
    "\n",
    "### Train-Test Split"
   ]
  },
  {
   "cell_type": "code",
   "execution_count": 974,
   "metadata": {
    "collapsed": false
   },
   "outputs": [],
   "source": [
    "X_train, X_test, y_train, y_test = train_test_split(factors, patents, test_size=0.20)"
   ]
  },
  {
   "cell_type": "markdown",
   "metadata": {},
   "source": [
    "### Train model"
   ]
  },
  {
   "cell_type": "code",
   "execution_count": 975,
   "metadata": {
    "collapsed": true
   },
   "outputs": [],
   "source": [
    "model_factors = sm.add_constant(X_train)\n",
    "model = sm.OLS(y_train, model_factors)\n",
    "results = model.fit()"
   ]
  },
  {
   "cell_type": "code",
   "execution_count": 976,
   "metadata": {
    "collapsed": false
   },
   "outputs": [
    {
     "data": {
      "text/html": [
       "<table class=\"simpletable\">\n",
       "<caption>OLS Regression Results</caption>\n",
       "<tr>\n",
       "  <th>Dep. Variable:</th>     <td>Utility Patents</td> <th>  R-squared:         </th> <td>   0.956</td>\n",
       "</tr>\n",
       "<tr>\n",
       "  <th>Model:</th>                   <td>OLS</td>       <th>  Adj. R-squared:    </th> <td>   0.947</td>\n",
       "</tr>\n",
       "<tr>\n",
       "  <th>Method:</th>             <td>Least Squares</td>  <th>  F-statistic:       </th> <td>   103.5</td>\n",
       "</tr>\n",
       "<tr>\n",
       "  <th>Date:</th>             <td>Sun, 04 Dec 2016</td> <th>  Prob (F-statistic):</th> <td>1.27e-12</td>\n",
       "</tr>\n",
       "<tr>\n",
       "  <th>Time:</th>                 <td>02:45:01</td>     <th>  Log-Likelihood:    </th> <td> -251.03</td>\n",
       "</tr>\n",
       "<tr>\n",
       "  <th>No. Observations:</th>      <td>    24</td>      <th>  AIC:               </th> <td>   512.1</td>\n",
       "</tr>\n",
       "<tr>\n",
       "  <th>Df Residuals:</th>          <td>    19</td>      <th>  BIC:               </th> <td>   517.9</td>\n",
       "</tr>\n",
       "<tr>\n",
       "  <th>Df Model:</th>              <td>     4</td>      <th>                     </th>     <td> </td>   \n",
       "</tr>\n",
       "<tr>\n",
       "  <th>Covariance Type:</th>      <td>nonrobust</td>    <th>                     </th>     <td> </td>   \n",
       "</tr>\n",
       "</table>\n",
       "<table class=\"simpletable\">\n",
       "<tr>\n",
       "                    <td></td>                      <th>coef</th>     <th>std err</th>      <th>t</th>      <th>P>|t|</th> <th>[95.0% Conf. Int.]</th> \n",
       "</tr>\n",
       "<tr>\n",
       "  <th>const</th>                                <td>-1.045e+05</td> <td> 2.36e+04</td> <td>   -4.426</td> <td> 0.000</td> <td>-1.54e+05 -5.51e+04</td>\n",
       "</tr>\n",
       "<tr>\n",
       "  <th>R&D Investment</th>                       <td> 6.124e-07</td> <td> 9.38e-08</td> <td>    6.527</td> <td> 0.000</td> <td> 4.16e-07  8.09e-07</td>\n",
       "</tr>\n",
       "<tr>\n",
       "  <th># of Doctorates</th>                      <td>    6.3808</td> <td>    1.468</td> <td>    4.348</td> <td> 0.000</td> <td>    3.309     9.452</td>\n",
       "</tr>\n",
       "<tr>\n",
       "  <th>Post-secondary school enrollment (%)</th> <td>-1.445e+05</td> <td> 5.92e+04</td> <td>   -2.441</td> <td> 0.025</td> <td>-2.68e+05 -2.06e+04</td>\n",
       "</tr>\n",
       "<tr>\n",
       "  <th># of IPOs</th>                            <td>  -56.9334</td> <td>   11.978</td> <td>   -4.753</td> <td> 0.000</td> <td>  -82.003   -31.864</td>\n",
       "</tr>\n",
       "</table>\n",
       "<table class=\"simpletable\">\n",
       "<tr>\n",
       "  <th>Omnibus:</th>       <td> 1.056</td> <th>  Durbin-Watson:     </th> <td>   1.233</td>\n",
       "</tr>\n",
       "<tr>\n",
       "  <th>Prob(Omnibus):</th> <td> 0.590</td> <th>  Jarque-Bera (JB):  </th> <td>   0.811</td>\n",
       "</tr>\n",
       "<tr>\n",
       "  <th>Skew:</th>          <td>-0.429</td> <th>  Prob(JB):          </th> <td>   0.667</td>\n",
       "</tr>\n",
       "<tr>\n",
       "  <th>Kurtosis:</th>      <td> 2.727</td> <th>  Cond. No.          </th> <td>4.11e+12</td>\n",
       "</tr>\n",
       "</table>"
      ],
      "text/plain": [
       "<class 'statsmodels.iolib.summary.Summary'>\n",
       "\"\"\"\n",
       "                            OLS Regression Results                            \n",
       "==============================================================================\n",
       "Dep. Variable:        Utility Patents   R-squared:                       0.956\n",
       "Model:                            OLS   Adj. R-squared:                  0.947\n",
       "Method:                 Least Squares   F-statistic:                     103.5\n",
       "Date:                Sun, 04 Dec 2016   Prob (F-statistic):           1.27e-12\n",
       "Time:                        02:45:01   Log-Likelihood:                -251.03\n",
       "No. Observations:                  24   AIC:                             512.1\n",
       "Df Residuals:                      19   BIC:                             517.9\n",
       "Df Model:                           4                                         \n",
       "Covariance Type:            nonrobust                                         \n",
       "========================================================================================================\n",
       "                                           coef    std err          t      P>|t|      [95.0% Conf. Int.]\n",
       "--------------------------------------------------------------------------------------------------------\n",
       "const                                -1.045e+05   2.36e+04     -4.426      0.000     -1.54e+05 -5.51e+04\n",
       "R&D Investment                        6.124e-07   9.38e-08      6.527      0.000      4.16e-07  8.09e-07\n",
       "# of Doctorates                          6.3808      1.468      4.348      0.000         3.309     9.452\n",
       "Post-secondary school enrollment (%) -1.445e+05   5.92e+04     -2.441      0.025     -2.68e+05 -2.06e+04\n",
       "# of IPOs                              -56.9334     11.978     -4.753      0.000       -82.003   -31.864\n",
       "==============================================================================\n",
       "Omnibus:                        1.056   Durbin-Watson:                   1.233\n",
       "Prob(Omnibus):                  0.590   Jarque-Bera (JB):                0.811\n",
       "Skew:                          -0.429   Prob(JB):                        0.667\n",
       "Kurtosis:                       2.727   Cond. No.                     4.11e+12\n",
       "==============================================================================\n",
       "\n",
       "Warnings:\n",
       "[1] Standard Errors assume that the covariance matrix of the errors is correctly specified.\n",
       "[2] The condition number is large, 4.11e+12. This might indicate that there are\n",
       "strong multicollinearity or other numerical problems.\n",
       "\"\"\""
      ]
     },
     "execution_count": 976,
     "metadata": {},
     "output_type": "execute_result"
    }
   ],
   "source": [
    "results.summary()"
   ]
  },
  {
   "cell_type": "markdown",
   "metadata": {},
   "source": [
    "### Test model out of sample"
   ]
  },
  {
   "cell_type": "code",
   "execution_count": 977,
   "metadata": {
    "collapsed": false
   },
   "outputs": [],
   "source": [
    "model_test_factors = sm.add_constant(X_test)\n",
    "oos_predictions = results.predict(model_test_factors)"
   ]
  },
  {
   "cell_type": "code",
   "execution_count": 978,
   "metadata": {
    "collapsed": false
   },
   "outputs": [
    {
     "data": {
      "text/plain": [
       "0.60391365776615991"
      ]
     },
     "execution_count": 978,
     "metadata": {},
     "output_type": "execute_result"
    }
   ],
   "source": [
    "r2_score(y_test, oos_predictions)"
   ]
  },
  {
   "cell_type": "code",
   "execution_count": null,
   "metadata": {
    "collapsed": true
   },
   "outputs": [],
   "source": []
  }
 ],
 "metadata": {
  "kernelspec": {
   "display_name": "Python 3",
   "language": "python",
   "name": "python3"
  },
  "language_info": {
   "codemirror_mode": {
    "name": "ipython",
    "version": 3
   },
   "file_extension": ".py",
   "mimetype": "text/x-python",
   "name": "python",
   "nbconvert_exporter": "python",
   "pygments_lexer": "ipython3",
   "version": "3.4.3"
  }
 },
 "nbformat": 4,
 "nbformat_minor": 0
}
